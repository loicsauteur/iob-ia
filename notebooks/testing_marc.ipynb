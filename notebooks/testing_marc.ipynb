{
 "cells": [
  {
   "cell_type": "code",
   "execution_count": null,
   "id": "7731524d-60ac-492b-96a5-dba5012dcbe6",
   "metadata": {},
   "outputs": [],
   "source": [
    "%load_ext autoreload\n",
    "%autoreload 2"
   ]
  },
  {
   "cell_type": "code",
   "execution_count": null,
   "id": "481f6654-bc5c-4721-9680-52fd08703c29",
   "metadata": {},
   "outputs": [],
   "source": [
    "import os\n",
    "\n",
    "import iob_ia.utils.segment_extra as segex\n",
    "from iob_ia.utils import classify, io_utils, segment, visualise"
   ]
  },
  {
   "cell_type": "markdown",
   "id": "d3bb52e8-6dc7-4059-980e-5e8a9cf6a89e",
   "metadata": {},
   "source": [
    "## Define path to iamge"
   ]
  },
  {
   "cell_type": "code",
   "execution_count": null,
   "id": "bc8838e1-924f-4a76-ac81-5de0ebe44f0e",
   "metadata": {},
   "outputs": [],
   "source": [
    "path_base = 'G:/20250211_MarcDu/'\n",
    "path_base = path_base + '20x_Testfile_405(DAPI)_488(CD45)_546(CD3)_647(CD31)/'\n",
    "path_tif = path_base + 'DAPI_ch3-20x.tif'\n",
    "path_nd2 = path_base + '3-20x.nd2'"
   ]
  },
  {
   "cell_type": "code",
   "execution_count": null,
   "id": "85240291-379e-41dd-a59a-c94c591dd23a",
   "metadata": {},
   "outputs": [],
   "source": [
    "# Specify the channels (0-based indexing)\n",
    "dapi_ch = 0\n",
    "cd45_ch = 1\n",
    "# channels of interest\n",
    "oste_ch = 2\n",
    "cd31_ch = 3"
   ]
  },
  {
   "cell_type": "code",
   "execution_count": null,
   "id": "202d6121-9f5f-460b-b2f0-204fc7f89240",
   "metadata": {},
   "outputs": [],
   "source": [
    "img_nd2 = io_utils.read_image(path_nd2)"
   ]
  },
  {
   "cell_type": "code",
   "execution_count": null,
   "id": "f31faf45-7abb-4368-b29c-c46f774f93ec",
   "metadata": {},
   "outputs": [],
   "source": [
    "print(img_nd2.get_data().shape)\n",
    "print(img_nd2.physical_pixel_sizes)"
   ]
  },
  {
   "cell_type": "markdown",
   "id": "721d24bf-5572-41dd-9c59-06b85aff3af1",
   "metadata": {},
   "source": [
    "## Segment using cellpose"
   ]
  },
  {
   "cell_type": "code",
   "execution_count": null,
   "id": "e4fd8671-418a-474f-a473-20c847ea7037",
   "metadata": {},
   "outputs": [],
   "source": [
    "if os.path.exists(io_utils.gen_out_path(path_tif, 'cp_seg')):\n",
    "    mask_cp = io_utils.read_labels(io_utils.gen_out_path(path_tif, 'cp_seg'))\n",
    "else:\n",
    "    mask_cp = segment.segment_3d_cellpose(\n",
    "        img_nd2.get_data()[dapi_ch],\n",
    "        #model_path = 'cyto3', # Default\n",
    "        #anisotropy=img_nd2.physical_pixel_sizes,\n",
    "        #flow3D_smooth = 0, # Default\n",
    "        #cellprob_threshold = 0.0, # Default\n",
    "    )\n",
    "print(mask_cp.shape)"
   ]
  },
  {
   "cell_type": "code",
   "execution_count": null,
   "id": "3b7699d6-757c-474d-bbdc-41341f9d09d2",
   "metadata": {},
   "outputs": [],
   "source": [
    "# save labels\n",
    "save_path = io_utils.gen_out_path(path_nd2, 'cp_seg')\n",
    "io_utils.save_labels(mask_cp, save_path)"
   ]
  },
  {
   "cell_type": "markdown",
   "id": "ddc38b83-cb28-4b64-90ae-8a98a4568e6a",
   "metadata": {},
   "source": [
    "## Filter lable image on features\n",
    "shape features: 'area, 'euler_number' and 'extent'\n",
    "intensity features: \"intensity_max\", \"intensity_mean\", \"intensity_min\""
   ]
  },
  {
   "cell_type": "code",
   "execution_count": null,
   "id": "0c3f2f89-d005-4071-b89e-a1deb20b55f5",
   "metadata": {},
   "outputs": [],
   "source": [
    "# Measure features of all labels created with cellpose, using calibrated units\n",
    "property_table = segment.measure_props(\n",
    "    img_label=mask_cp, img_intensity=img_nd2.get_data(),\n",
    "    voxel_size=img_nd2.physical_pixel_sizes\n",
    ")\n",
    "property_table = segment.measure_props(\n",
    "    img_label=mask_cp, voxel_size=img_nd2.physical_pixel_sizes\n",
    ")"
   ]
  },
  {
   "cell_type": "code",
   "execution_count": null,
   "id": "9bc21a33-9651-4466-931c-e88670163a52",
   "metadata": {},
   "outputs": [],
   "source": [
    "label2remove = segment.filter_shape(\n",
    "    mask_cp, 'projected_circularity', min_val=0.55, props_table=property_table\n",
    ")\n",
    "label2remove = segment.filter_shape(\n",
    "    mask_cp, 'area', min_val=900, labels_to_remove=label2remove,\n",
    "    props_table=property_table\n",
    ") # (10x10x9)um^3"
   ]
  },
  {
   "cell_type": "code",
   "execution_count": null,
   "id": "e6435dfd-4ed6-44f9-86bb-3b50d11b84a3",
   "metadata": {},
   "outputs": [],
   "source": [
    "nuclei = segment.remove_label_objects(\n",
    "    mask_cp, labels=label2remove, relabel=False\n",
    ")"
   ]
  },
  {
   "cell_type": "code",
   "execution_count": null,
   "id": "6d40e37a-8334-46a2-8dc0-2e618d8a20f3",
   "metadata": {},
   "outputs": [],
   "source": [
    "save_path = io_utils.gen_out_path(path_tif, 'filtered')\n",
    "io_utils.save_labels(nuclei, save_path)"
   ]
  },
  {
   "cell_type": "markdown",
   "id": "df6fd488-6bd7-4289-89bd-1871b22a8681",
   "metadata": {},
   "source": [
    "## Visualise"
   ]
  },
  {
   "cell_type": "code",
   "execution_count": null,
   "id": "4741f712-bce6-43e1-b9df-9533ca5609d6",
   "metadata": {},
   "outputs": [],
   "source": [
    "# add multi channel nd2\n",
    "visualise.add_multichannel_image(\n",
    "    img=img_nd2.get_data(), name='image',\n",
    "    channel_names=img_nd2.channel_names, scale=img_nd2.physical_pixel_sizes\n",
    ")\n",
    "\n",
    "# create features for napari label layer\n",
    "#  (specifying the props_table will not recalculate the props,\n",
    "#  i.e. show no intensity measurements)\n",
    "features = visualise.create_napari_features(\n",
    "    img_label=nuclei, img_intensity=img_nd2.get_data(),\n",
    "    voxel_size=img_nd2.physical_pixel_sizes, props_table=property_table\n",
    ")\n",
    "# Adding both the filtered nuclei and the raw cp masks\n",
    "visualise.add_labels(\n",
    "    nuclei, name='nuclei', scale=img_nd2.physical_pixel_sizes,\n",
    "    features=features\n",
    ")"
   ]
  },
  {
   "cell_type": "markdown",
   "id": "138d2376-58fb-4a6d-938c-95fea148264b",
   "metadata": {},
   "source": [
    "## Label mask modulations"
   ]
  },
  {
   "cell_type": "code",
   "execution_count": null,
   "id": "3776c3c4-b8f0-47e0-af2b-7f8e87c9e606",
   "metadata": {},
   "outputs": [],
   "source": [
    "# Create cell an cytoplasm mask from nuclei\n",
    "#  (expansion/shrinking in voxel_size units)\n",
    "nuclei, cells, cyto = segment.create_cell_cyto_masks(\n",
    "    nuclei, expansion=5, shrinking=2, voxel_size=img_nd2.physical_pixel_sizes\n",
    ")"
   ]
  },
  {
   "cell_type": "code",
   "execution_count": null,
   "id": "5f45688f-aa6f-4a6f-9ce1-d51f2c10b917",
   "metadata": {},
   "outputs": [],
   "source": [
    "show_napari_features = True\n",
    "if show_napari_features:\n",
    "    from time import time\n",
    "    start = time()\n",
    "    nuc_props = segment.measure_props(\n",
    "        img_label=nuclei, img_intensity=img_nd2.get_data(),\n",
    "        voxel_size=img_nd2.physical_pixel_sizes\n",
    "    )\n",
    "    cyto_props = segment.measure_props(\n",
    "        img_label=cyto, img_intensity=img_nd2.get_data(),\n",
    "        voxel_size=img_nd2.physical_pixel_sizes\n",
    "    )\n",
    "    cell_props = segment.measure_props(\n",
    "        img_label=cells, img_intensity=img_nd2.get_data(),\n",
    "        voxel_size=img_nd2.physical_pixel_sizes\n",
    "    )\n",
    "    nuc_feat = visualise.create_napari_features(props_table=nuc_props)\n",
    "    cyto_feat = visualise.create_napari_features(props_table=cyto_props)\n",
    "    cell_feat = visualise.create_napari_features(props_table=cell_props)\n",
    "    print('Measuring compartment features took:', time() - start)\n",
    "else:\n",
    "    nuc_feat = None\n",
    "    cyto_feat = None\n",
    "    cell_feat = None"
   ]
  },
  {
   "cell_type": "code",
   "execution_count": null,
   "id": "f4e376d4-0a66-4686-82a5-03fb38adc3a2",
   "metadata": {},
   "outputs": [],
   "source": [
    "visualise.add_labels(\n",
    "    nuclei, name='nuc_shrunk', scale=img_nd2.physical_pixel_sizes,\n",
    "    features=nuc_feat\n",
    ")\n",
    "visualise.add_labels(\n",
    "    cyto, name='cyto', scale=img_nd2.physical_pixel_sizes,\n",
    "    features=cyto_feat\n",
    ")\n",
    "visualise.add_labels(\n",
    "    cells, name='cells', scale=img_nd2.physical_pixel_sizes,\n",
    "    features=cell_feat\n",
    ")"
   ]
  },
  {
   "cell_type": "markdown",
   "id": "26357e10-9f2e-4650-9a3d-12c4f17e3eb5",
   "metadata": {},
   "source": [
    "## Classification"
   ]
  },
  {
   "cell_type": "code",
   "execution_count": null,
   "id": "68f2978a-50d4-4e96-9068-674f71ac6036",
   "metadata": {},
   "outputs": [],
   "source": [
    "table = classify.create_base_table(\n",
    "    img=img_nd2.get_data(), nuclei=nuclei, cyto=cyto, cells=cells,\n",
    "    channel_names=img_nd2.channel_names, scale=img_nd2.physical_pixel_sizes\n",
    ")\n"
   ]
  },
  {
   "cell_type": "code",
   "execution_count": null,
   "id": "8ebd13b3-8b92-4e99-9b41-d849497f038c",
   "metadata": {},
   "outputs": [],
   "source": [
    "table_mod = classify.classify(\n",
    "    table, prop='Nucleus: projected_area', classification='big', min_val=74\n",
    ")\n"
   ]
  },
  {
   "cell_type": "code",
   "execution_count": null,
   "id": "0fa0f584-a7db-4a6e-9567-b7b98a3de010",
   "metadata": {},
   "outputs": [],
   "source": [
    "# Help function to list available classifications\n",
    "classify.available_classifications(table_mod)"
   ]
  },
  {
   "cell_type": "code",
   "execution_count": null,
   "id": "e9b1e177-34cd-4638-a48a-ebfcb6258672",
   "metadata": {},
   "outputs": [],
   "source": [
    "table_mod2 = classify.classify(\n",
    "    table_mod, prop='Nucleus: projected_perimeter', classification=None,\n",
    "    min_val=25, show_counts=True\n",
    ")"
   ]
  },
  {
   "cell_type": "code",
   "execution_count": null,
   "id": "fcd9a1db-4b9a-4398-8950-5a4cd1ee1614",
   "metadata": {},
   "outputs": [],
   "source": [
    "# Show a specific class in napari (with a givein color)\n",
    "big_nuclei = classify.show_by_class(\n",
    "    table=table_mod2,\n",
    "    class_names='big;Nucleus: projected_perimeter+',\n",
    "    img_nuclei=nuclei,\n",
    "    voxel_size=img_nd2.physical_pixel_sizes,\n",
    "    color='blue'\n",
    "    # gray, red, green, blue, magenta, cyan. Others will be random color\n",
    ")"
   ]
  },
  {
   "cell_type": "code",
   "execution_count": null,
   "id": "4d618797-a6ef-4cd7-a766-b5bb0b63d3ab",
   "metadata": {},
   "outputs": [],
   "source": [
    "# Estimate thresholds for different cell types\n",
    "af488 = classify.estimate_threshold(\n",
    "    'Cytoplasm: intensity_mean-AF488', table=table\n",
    ")\n",
    "af546 = classify.estimate_threshold(\n",
    "    'Cytoplasm: intensity_mean-AF546', table=table\n",
    ")\n",
    "af647 = classify.estimate_threshold(\n",
    "    'Cytoplasm: intensity_mean-AF647', table=table\n",
    ")\n",
    "print('Estimated thresholds:')\n",
    "print('- AF488 =', af488)\n",
    "print('- AF546 =', af546)\n",
    "print('- AF647 =', af647)"
   ]
  },
  {
   "cell_type": "code",
   "execution_count": null,
   "id": "667af72b-2552-4b1c-9112-73bf3b5bfb6b",
   "metadata": {},
   "outputs": [],
   "source": [
    "table_1 = classify.classify(\n",
    "    table, prop='Cytoplasm: intensity_mean-AF488',\n",
    "    classification='AF488+', min_val=200\n",
    ")\n",
    "table_1 = classify.classify(\n",
    "    table_1, prop='Cytoplasm: intensity_mean-AF546',\n",
    "    classification='AF546+', min_val=af546*0.9\n",
    ")\n",
    "table_1 = classify.classify(\n",
    "    table_1, prop='Cytoplasm: intensity_mean-AF647',\n",
    "    classification='AF647+', min_val=280, max_val=725, show_counts=True\n",
    ")"
   ]
  },
  {
   "cell_type": "code",
   "execution_count": null,
   "id": "da4aa77e-4c0a-40a2-be6d-f1b634283f8b",
   "metadata": {},
   "outputs": [],
   "source": [
    "tripple_pos = classify.show_by_class(\n",
    "    table_1, 'AF488+;AF546+', nuclei, 'magenta',\n",
    "    img_nd2.physical_pixel_sizes\n",
    ")"
   ]
  },
  {
   "cell_type": "markdown",
   "id": "2112e073-68e1-4bb7-b1b2-775b20289114",
   "metadata": {},
   "source": [
    "# Testing segmentation of scaffold\n",
    "\n",
    "Li mehtod seems not too bad. maybe I can take the average Li threshold across the slices (of sum projected channel axis)"
   ]
  },
  {
   "cell_type": "code",
   "execution_count": null,
   "id": "b41952a2-98e2-4783-aec7-605bb53749e9",
   "metadata": {},
   "outputs": [],
   "source": [
    "path_full_nd2 = 'G:/20250211_MarcDu/24 C3 10X Large Image Z.nd2'"
   ]
  },
  {
   "cell_type": "code",
   "execution_count": null,
   "id": "3e24d8f4-28b7-4500-ac3c-dab7d24a18b7",
   "metadata": {},
   "outputs": [],
   "source": [
    "img = io_utils.read_image(path_full_nd2)"
   ]
  },
  {
   "cell_type": "code",
   "execution_count": null,
   "id": "460aae21-b812-434f-8ee1-a2f139842860",
   "metadata": {
    "scrolled": true
   },
   "outputs": [],
   "source": [
    "visualise.add_multichannel_image(\n",
    "    img.get_dask_data(), name='scaffold',\n",
    "    channel_names=img.channel_names, scale=img.physical_pixel_sizes\n",
    ")"
   ]
  },
  {
   "cell_type": "code",
   "execution_count": null,
   "id": "1a1555cc-5fee-4e7c-804b-23a25d0f07e1",
   "metadata": {},
   "outputs": [],
   "source": [
    "img_small, binary, new_voxels = segex.scaffold_segmentation(\n",
    "    img.get_dask_data(), voxel_size=img.physical_pixel_sizes, downscale=5\n",
    ")"
   ]
  },
  {
   "cell_type": "code",
   "execution_count": null,
   "id": "43a27999-6d3e-457d-aff4-4749be3f0159",
   "metadata": {},
   "outputs": [],
   "source": [
    "visualise.add_image(img_small, name='downscaled', scale=new_voxels)\n",
    "visualise.add_labels(binary, name='binary', scale=new_voxels)"
   ]
  },
  {
   "cell_type": "code",
   "execution_count": null,
   "id": "9eb20386-7e8a-436b-8e2e-6b128567df23",
   "metadata": {},
   "outputs": [],
   "source": [
    "scaffold_area, scaffold_centroid = segex.get_area_and_center(\n",
    "    binary, voxel_size=new_voxels\n",
    ")"
   ]
  },
  {
   "cell_type": "code",
   "execution_count": null,
   "id": "4fe29ec6-7301-4b98-9f50-b7ff5c23806b",
   "metadata": {},
   "outputs": [],
   "source": [
    "visualise.add_point(\n",
    "    scaffold_centroid, name='scaffold centroid', size=100\n",
    ")"
   ]
  },
  {
   "cell_type": "code",
   "execution_count": null,
   "id": "592d85b2-fd41-46ef-bc7f-efca792bedff",
   "metadata": {},
   "outputs": [],
   "source": []
  }
 ],
 "metadata": {
  "kernelspec": {
   "display_name": "Python 3 (ipykernel)",
   "language": "python",
   "name": "python3"
  },
  "language_info": {
   "codemirror_mode": {
    "name": "ipython",
    "version": 3
   },
   "file_extension": ".py",
   "mimetype": "text/x-python",
   "name": "python",
   "nbconvert_exporter": "python",
   "pygments_lexer": "ipython3",
   "version": "3.10.16"
  }
 },
 "nbformat": 4,
 "nbformat_minor": 5
}
