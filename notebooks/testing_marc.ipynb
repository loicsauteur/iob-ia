{
 "cells": [
  {
   "cell_type": "code",
   "execution_count": 1,
   "id": "7731524d-60ac-492b-96a5-dba5012dcbe6",
   "metadata": {},
   "outputs": [],
   "source": [
    "%load_ext autoreload\n",
    "%autoreload 2"
   ]
  },
  {
   "cell_type": "code",
   "execution_count": 2,
   "id": "481f6654-bc5c-4721-9680-52fd08703c29",
   "metadata": {},
   "outputs": [],
   "source": [
    "import os\n",
    "\n",
    "import iob_ia.utils.segment_extra as segex\n",
    "from iob_ia.utils import classify, io_utils, segment, visualise"
   ]
  },
  {
   "cell_type": "markdown",
   "id": "d3bb52e8-6dc7-4059-980e-5e8a9cf6a89e",
   "metadata": {},
   "source": [
    "## Define path to iamge"
   ]
  },
  {
   "cell_type": "code",
   "execution_count": 3,
   "id": "bc8838e1-924f-4a76-ac81-5de0ebe44f0e",
   "metadata": {},
   "outputs": [],
   "source": [
    "path_base = 'G:/20250211_MarcDu/'\n",
    "path_base = path_base + '20x_Testfile_405(DAPI)_488(CD45)_546(CD3)_647(CD31)/'\n",
    "path_tif = path_base + 'DAPI_ch3-20x.tif'\n",
    "path_nd2 = path_base + '3-20x.nd2'"
   ]
  },
  {
   "cell_type": "code",
   "execution_count": 4,
   "id": "85240291-379e-41dd-a59a-c94c591dd23a",
   "metadata": {},
   "outputs": [],
   "source": [
    "# Specify the channels (0-based indexing)\n",
    "dapi_ch = 0\n",
    "cd45_ch = 1\n",
    "# channels of interest\n",
    "oste_ch = 2\n",
    "cd31_ch = 3"
   ]
  },
  {
   "cell_type": "code",
   "execution_count": 5,
   "id": "202d6121-9f5f-460b-b2f0-204fc7f89240",
   "metadata": {},
   "outputs": [],
   "source": [
    "img_nd2 = io_utils.read_image(path_nd2)"
   ]
  },
  {
   "cell_type": "code",
   "execution_count": 6,
   "id": "f31faf45-7abb-4368-b29c-c46f774f93ec",
   "metadata": {},
   "outputs": [
    {
     "name": "stdout",
     "output_type": "stream",
     "text": [
      "(4, 68, 2048, 2048)\n",
      "PhysicalPixelSizes(Z=2.0, Y=0.43177598559324926, X=0.43177598559324926)\n"
     ]
    }
   ],
   "source": [
    "print(img_nd2.get_data().shape)\n",
    "print(img_nd2.physical_pixel_sizes)"
   ]
  },
  {
   "cell_type": "markdown",
   "id": "721d24bf-5572-41dd-9c59-06b85aff3af1",
   "metadata": {},
   "source": [
    "## Segment using cellpose"
   ]
  },
  {
   "cell_type": "code",
   "execution_count": 7,
   "id": "e4fd8671-418a-474f-a473-20c847ea7037",
   "metadata": {},
   "outputs": [
    {
     "name": "stdout",
     "output_type": "stream",
     "text": [
      "2025-04-03 12:07:25,287 [INFO] WRITING LOG OUTPUT TO C:\\Users\\Microscopy\\.cellpose\\run.log\n",
      "2025-04-03 12:07:25,288 [INFO] \n",
      "cellpose version: \t3.1.1.1 \n",
      "platform:       \twin32 \n",
      "python version: \t3.10.16 \n",
      "torch version:  \t2.5.0+cu118\n",
      ">>> GPU activated: True\n",
      "2025-04-03 12:07:25,289 [INFO] ** TORCH CUDA version installed and working. **\n",
      "2025-04-03 12:07:25,289 [INFO] >>>> using GPU (CUDA)\n",
      "2025-04-03 12:07:25,290 [INFO] >> cyto3 << model set to be used\n",
      "2025-04-03 12:07:25,344 [INFO] >>>> loading model C:\\Users\\Microscopy\\.cellpose\\models\\cyto3\n",
      "2025-04-03 12:07:25,424 [INFO] >>>> model diam_mean =  30.000 (ROIs rescaled to this size during training)\n",
      "2025-04-03 12:07:25,441 [INFO] channels set to [0, 0]\n",
      "2025-04-03 12:07:25,442 [INFO] ~~~ FINDING MASKS ~~~\n",
      "2025-04-03 12:07:25,443 [WARNING] z_axis not specified, assuming it is dim 0\n",
      "2025-04-03 12:07:25,443 [WARNING] if this is actually the channel_axis, use 'model.eval(channel_axis=0, ...)'\n",
      "2025-04-03 12:07:25,444 [INFO] multi-stack tiff read in as having 68 planes 1 channels\n",
      "2025-04-03 12:07:27,098 [INFO] resizing 3D image with rescale=2.50 and anisotropy=None\n",
      "2025-04-03 12:07:41,288 [INFO] running YX: 170 planes of size (5120, 5120)\n",
      "2025-04-03 12:07:41,291 [INFO] 0%|          | 0/170 [00:00<?, ?it/s]\n",
      "2025-04-03 12:08:13,604 [INFO] 6%|5         | 10/170 [00:32<08:37,  3.23s/it]\n",
      "2025-04-03 12:08:31,317 [INFO] 6%|5         | 10/170 [00:50<08:37,  3.23s/it]\n",
      "2025-04-03 12:08:45,632 [INFO] 12%|#1        | 20/170 [01:04<08:02,  3.21s/it]\n",
      "2025-04-03 12:09:01,362 [INFO] 12%|#1        | 20/170 [01:20<08:02,  3.21s/it]\n",
      "2025-04-03 12:09:17,802 [INFO] 18%|#7        | 30/170 [01:36<07:30,  3.22s/it]\n",
      "2025-04-03 12:09:31,391 [INFO] 18%|#7        | 30/170 [01:50<07:30,  3.22s/it]\n",
      "2025-04-03 12:09:50,213 [INFO] 24%|##3       | 40/170 [02:08<06:59,  3.23s/it]\n",
      "2025-04-03 12:10:01,407 [INFO] 24%|##3       | 40/170 [02:20<06:59,  3.23s/it]\n",
      "2025-04-03 12:10:22,833 [INFO] 29%|##9       | 50/170 [02:41<06:28,  3.24s/it]\n",
      "2025-04-03 12:10:41,443 [INFO] 29%|##9       | 50/170 [03:00<06:28,  3.24s/it]\n",
      "2025-04-03 12:10:55,326 [INFO] 35%|###5      | 60/170 [03:14<05:56,  3.24s/it]\n",
      "2025-04-03 12:11:11,487 [INFO] 35%|###5      | 60/170 [03:30<05:56,  3.24s/it]\n",
      "2025-04-03 12:11:27,998 [INFO] 41%|####1     | 70/170 [03:46<05:25,  3.25s/it]\n",
      "2025-04-03 12:11:41,509 [INFO] 41%|####1     | 70/170 [04:00<05:25,  3.25s/it]\n",
      "2025-04-03 12:12:00,665 [INFO] 47%|####7     | 80/170 [04:19<04:53,  3.26s/it]\n",
      "2025-04-03 12:12:11,541 [INFO] 47%|####7     | 80/170 [04:30<04:53,  3.26s/it]\n",
      "2025-04-03 12:12:33,280 [INFO] 53%|#####2    | 90/170 [04:51<04:20,  3.26s/it]\n",
      "2025-04-03 12:12:51,572 [INFO] 53%|#####2    | 90/170 [05:10<04:20,  3.26s/it]\n",
      "2025-04-03 12:13:05,909 [INFO] 59%|#####8    | 100/170 [05:24<03:48,  3.26s/it]\n",
      "2025-04-03 12:13:21,598 [INFO] 59%|#####8    | 100/170 [05:40<03:48,  3.26s/it]\n",
      "2025-04-03 12:13:38,785 [INFO] 65%|######4   | 110/170 [05:57<03:16,  3.27s/it]\n",
      "2025-04-03 12:13:51,629 [INFO] 65%|######4   | 110/170 [06:10<03:16,  3.27s/it]\n",
      "2025-04-03 12:14:11,463 [INFO] 71%|#######   | 120/170 [06:30<02:43,  3.27s/it]\n",
      "2025-04-03 12:14:21,651 [INFO] 71%|#######   | 120/170 [06:40<02:43,  3.27s/it]\n",
      "2025-04-03 12:14:44,181 [INFO] 76%|#######6  | 130/170 [07:02<02:10,  3.27s/it]\n",
      "2025-04-03 12:15:01,690 [INFO] 76%|#######6  | 130/170 [07:20<02:10,  3.27s/it]\n",
      "2025-04-03 12:15:16,867 [INFO] 82%|########2 | 140/170 [07:35<01:38,  3.27s/it]\n",
      "2025-04-03 12:15:31,710 [INFO] 82%|########2 | 140/170 [07:50<01:38,  3.27s/it]\n",
      "2025-04-03 12:15:47,097 [INFO] 88%|########7 | 149/170 [08:05<01:09,  3.29s/it]\n",
      "2025-04-03 12:16:01,726 [INFO] 88%|########7 | 149/170 [08:20<01:09,  3.29s/it]\n",
      "2025-04-03 12:16:17,548 [INFO] 93%|#########2| 158/170 [08:36<00:39,  3.32s/it]\n",
      "2025-04-03 12:16:31,742 [INFO] 93%|#########2| 158/170 [08:50<00:39,  3.32s/it]\n",
      "2025-04-03 12:16:48,216 [INFO] 98%|#########8| 167/170 [09:06<00:10,  3.35s/it]\n",
      "2025-04-03 12:16:58,281 [INFO] 100%|##########| 170/170 [09:16<00:00,  3.28s/it]\n",
      "2025-04-03 12:17:23,557 [INFO] running ZY: 5120 planes of size (170, 5120)\n",
      "2025-04-03 12:17:23,560 [INFO] 0%|          | 0/5120 [00:00<?, ?it/s]\n",
      "2025-04-03 12:17:53,570 [INFO] 6%|5         | 283/5120 [00:30<08:32,  9.43it/s]\n",
      "2025-04-03 12:18:11,813 [INFO] 6%|5         | 283/5120 [00:48<08:32,  9.43it/s]\n",
      "2025-04-03 12:18:23,661 [INFO] 11%|#1        | 580/5120 [01:00<07:48,  9.69it/s]\n",
      "2025-04-03 12:18:27,628 [INFO] 12%|#2        | 618/5120 [01:04<07:46,  9.65it/s]\n"
     ]
    },
    {
     "ename": "KeyboardInterrupt",
     "evalue": "",
     "output_type": "error",
     "traceback": [
      "\u001b[1;31m---------------------------------------------------------------------------\u001b[0m",
      "\u001b[1;31mKeyboardInterrupt\u001b[0m                         Traceback (most recent call last)",
      "Cell \u001b[1;32mIn[7], line 4\u001b[0m\n\u001b[0;32m      2\u001b[0m     mask_cp \u001b[38;5;241m=\u001b[39m io_utils\u001b[38;5;241m.\u001b[39mread_labels(io_utils\u001b[38;5;241m.\u001b[39mgen_out_path(path_tif, \u001b[38;5;124m'\u001b[39m\u001b[38;5;124mcp_seg\u001b[39m\u001b[38;5;124m'\u001b[39m))\n\u001b[0;32m      3\u001b[0m \u001b[38;5;28;01melse\u001b[39;00m:\n\u001b[1;32m----> 4\u001b[0m     mask_cp \u001b[38;5;241m=\u001b[39m \u001b[43msegment\u001b[49m\u001b[38;5;241;43m.\u001b[39;49m\u001b[43msegment_3d_cellpose\u001b[49m\u001b[43m(\u001b[49m\n\u001b[0;32m      5\u001b[0m \u001b[43m        \u001b[49m\u001b[43mimg_nd2\u001b[49m\u001b[38;5;241;43m.\u001b[39;49m\u001b[43mget_data\u001b[49m\u001b[43m(\u001b[49m\u001b[43m)\u001b[49m\u001b[43m[\u001b[49m\u001b[43mdapi_ch\u001b[49m\u001b[43m]\u001b[49m\u001b[43m,\u001b[49m\n\u001b[0;32m      6\u001b[0m \u001b[43m        \u001b[49m\u001b[38;5;66;43;03m#model_path = 'cyto3', # Default\u001b[39;49;00m\n\u001b[0;32m      7\u001b[0m \u001b[43m        \u001b[49m\u001b[38;5;66;43;03m#anisotropy=img_nd2.physical_pixel_sizes,\u001b[39;49;00m\n\u001b[0;32m      8\u001b[0m \u001b[43m        \u001b[49m\u001b[38;5;66;43;03m#flow3D_smooth = 0, # Default\u001b[39;49;00m\n\u001b[0;32m      9\u001b[0m \u001b[43m        \u001b[49m\u001b[38;5;66;43;03m#cellprob_threshold = 0.0, # Default\u001b[39;49;00m\n\u001b[0;32m     10\u001b[0m \u001b[43m    \u001b[49m\u001b[43m)\u001b[49m\n\u001b[0;32m     11\u001b[0m \u001b[38;5;28mprint\u001b[39m(mask_cp\u001b[38;5;241m.\u001b[39mshape)\n",
      "File \u001b[1;32mG:\\20241120_IOB_Magdalena\\iob-ia\\src\\iob_ia\\utils\\segment.py:242\u001b[0m, in \u001b[0;36msegment_3d_cellpose\u001b[1;34m(img, model_path, anisotropy, flow3D_smooth, cellprob_threshold)\u001b[0m\n\u001b[0;32m    240\u001b[0m     model \u001b[38;5;241m=\u001b[39m models\u001b[38;5;241m.\u001b[39mCellpose(gpu\u001b[38;5;241m=\u001b[39muse_gpu, model_type\u001b[38;5;241m=\u001b[39mmodel_path)\n\u001b[0;32m    241\u001b[0m     \u001b[38;5;66;03m# Run 3D cellpose\u001b[39;00m\n\u001b[1;32m--> 242\u001b[0m     masks, flows, _, _ \u001b[38;5;241m=\u001b[39m \u001b[43mmodel\u001b[49m\u001b[38;5;241;43m.\u001b[39;49m\u001b[43meval\u001b[49m\u001b[43m(\u001b[49m\n\u001b[0;32m    243\u001b[0m \u001b[43m        \u001b[49m\u001b[43mimg\u001b[49m\u001b[43m,\u001b[49m\n\u001b[0;32m    244\u001b[0m \u001b[43m        \u001b[49m\u001b[43mchannels\u001b[49m\u001b[38;5;241;43m=\u001b[39;49m\u001b[43mchannels\u001b[49m\u001b[43m,\u001b[49m\n\u001b[0;32m    245\u001b[0m \u001b[43m        \u001b[49m\u001b[43mdiameter\u001b[49m\u001b[38;5;241;43m=\u001b[39;49m\u001b[38;5;241;43m12\u001b[39;49m\u001b[43m,\u001b[49m\n\u001b[0;32m    246\u001b[0m \u001b[43m        \u001b[49m\u001b[43mdo_3D\u001b[49m\u001b[38;5;241;43m=\u001b[39;49m\u001b[38;5;28;43;01mTrue\u001b[39;49;00m\u001b[43m,\u001b[49m\n\u001b[0;32m    247\u001b[0m \u001b[43m        \u001b[49m\u001b[43manisotropy\u001b[49m\u001b[38;5;241;43m=\u001b[39;49m\u001b[43manisotropy\u001b[49m\u001b[43m,\u001b[49m\n\u001b[0;32m    248\u001b[0m \u001b[43m        \u001b[49m\u001b[38;5;66;43;03m# newer version calls it flow3D_smooth not dP_smooth\u001b[39;49;00m\n\u001b[0;32m    249\u001b[0m \u001b[43m        \u001b[49m\u001b[43mflow3D_smooth\u001b[49m\u001b[38;5;241;43m=\u001b[39;49m\u001b[43mflow3D_smooth\u001b[49m\u001b[43m,\u001b[49m\n\u001b[0;32m    250\u001b[0m \u001b[43m        \u001b[49m\u001b[43mcellprob_threshold\u001b[49m\u001b[38;5;241;43m=\u001b[39;49m\u001b[43mcellprob_threshold\u001b[49m\u001b[43m,\u001b[49m\n\u001b[0;32m    251\u001b[0m \u001b[43m        \u001b[49m\u001b[38;5;66;43;03m#z_axis=0,\u001b[39;49;00m\n\u001b[0;32m    252\u001b[0m \u001b[43m    \u001b[49m\u001b[43m)\u001b[49m\n\u001b[0;32m    253\u001b[0m \u001b[38;5;28;01melse\u001b[39;00m:\n\u001b[0;32m    254\u001b[0m     model \u001b[38;5;241m=\u001b[39m models\u001b[38;5;241m.\u001b[39mCellposeModel(gpu\u001b[38;5;241m=\u001b[39m\u001b[38;5;28;01mTrue\u001b[39;00m, pretrained_model\u001b[38;5;241m=\u001b[39mmodel_path)\n",
      "File \u001b[1;32m~\\.conda\\envs\\iob-ia\\lib\\site-packages\\cellpose\\models.py:207\u001b[0m, in \u001b[0;36mCellpose.eval\u001b[1;34m(self, x, batch_size, channels, channel_axis, invert, normalize, diameter, do_3D, **kwargs)\u001b[0m\n\u001b[0;32m    204\u001b[0m     diams \u001b[38;5;241m=\u001b[39m diameter\n\u001b[0;32m    206\u001b[0m models_logger\u001b[38;5;241m.\u001b[39minfo(\u001b[38;5;124m\"\u001b[39m\u001b[38;5;124m~~~ FINDING MASKS ~~~\u001b[39m\u001b[38;5;124m\"\u001b[39m)\n\u001b[1;32m--> 207\u001b[0m masks, flows, styles \u001b[38;5;241m=\u001b[39m \u001b[38;5;28mself\u001b[39m\u001b[38;5;241m.\u001b[39mcp\u001b[38;5;241m.\u001b[39meval(x, channels\u001b[38;5;241m=\u001b[39mchannels,\n\u001b[0;32m    208\u001b[0m                                     channel_axis\u001b[38;5;241m=\u001b[39mchannel_axis,\n\u001b[0;32m    209\u001b[0m                                     batch_size\u001b[38;5;241m=\u001b[39mbatch_size, normalize\u001b[38;5;241m=\u001b[39mnormalize,\n\u001b[0;32m    210\u001b[0m                                     invert\u001b[38;5;241m=\u001b[39minvert, diameter\u001b[38;5;241m=\u001b[39mdiams, do_3D\u001b[38;5;241m=\u001b[39mdo_3D,\n\u001b[0;32m    211\u001b[0m                                     \u001b[38;5;241m*\u001b[39m\u001b[38;5;241m*\u001b[39mkwargs)\n\u001b[0;32m    212\u001b[0m models_logger\u001b[38;5;241m.\u001b[39minfo(\u001b[38;5;124m\"\u001b[39m\u001b[38;5;124m>>>> TOTAL TIME \u001b[39m\u001b[38;5;132;01m%0.2f\u001b[39;00m\u001b[38;5;124m sec\u001b[39m\u001b[38;5;124m\"\u001b[39m \u001b[38;5;241m%\u001b[39m (time\u001b[38;5;241m.\u001b[39mtime() \u001b[38;5;241m-\u001b[39m tic0))\n\u001b[0;32m    214\u001b[0m \u001b[38;5;28;01mreturn\u001b[39;00m masks, flows, styles, diams\n",
      "File \u001b[1;32m~\\.conda\\envs\\iob-ia\\lib\\site-packages\\cellpose\\models.py:518\u001b[0m, in \u001b[0;36mCellposeModel.eval\u001b[1;34m(self, x, batch_size, resample, channels, channel_axis, z_axis, normalize, invert, rescale, diameter, flow_threshold, cellprob_threshold, do_3D, anisotropy, flow3D_smooth, stitch_threshold, min_size, max_size_fraction, niter, augment, tile_overlap, bsize, interp, compute_masks, progress)\u001b[0m\n\u001b[0;32m    515\u001b[0m \u001b[38;5;28;01mif\u001b[39;00m do_normalization:\n\u001b[0;32m    516\u001b[0m     x \u001b[38;5;241m=\u001b[39m transforms\u001b[38;5;241m.\u001b[39mnormalize_img(x, \u001b[38;5;241m*\u001b[39m\u001b[38;5;241m*\u001b[39mnormalize_params)\n\u001b[1;32m--> 518\u001b[0m dP, cellprob, styles \u001b[38;5;241m=\u001b[39m \u001b[38;5;28;43mself\u001b[39;49m\u001b[38;5;241;43m.\u001b[39;49m\u001b[43m_run_net\u001b[49m\u001b[43m(\u001b[49m\n\u001b[0;32m    519\u001b[0m \u001b[43m    \u001b[49m\u001b[43mx\u001b[49m\u001b[43m,\u001b[49m\u001b[43m \u001b[49m\u001b[43mrescale\u001b[49m\u001b[38;5;241;43m=\u001b[39;49m\u001b[43mrescale\u001b[49m\u001b[43m,\u001b[49m\u001b[43m \u001b[49m\u001b[43maugment\u001b[49m\u001b[38;5;241;43m=\u001b[39;49m\u001b[43maugment\u001b[49m\u001b[43m,\u001b[49m\u001b[43m \u001b[49m\n\u001b[0;32m    520\u001b[0m \u001b[43m    \u001b[49m\u001b[43mbatch_size\u001b[49m\u001b[38;5;241;43m=\u001b[39;49m\u001b[43mbatch_size\u001b[49m\u001b[43m,\u001b[49m\u001b[43m \u001b[49m\u001b[43mtile_overlap\u001b[49m\u001b[38;5;241;43m=\u001b[39;49m\u001b[43mtile_overlap\u001b[49m\u001b[43m,\u001b[49m\u001b[43m \u001b[49m\u001b[43mbsize\u001b[49m\u001b[38;5;241;43m=\u001b[39;49m\u001b[43mbsize\u001b[49m\u001b[43m,\u001b[49m\n\u001b[0;32m    521\u001b[0m \u001b[43m    \u001b[49m\u001b[43mresample\u001b[49m\u001b[38;5;241;43m=\u001b[39;49m\u001b[43mresample\u001b[49m\u001b[43m,\u001b[49m\u001b[43m \u001b[49m\u001b[43mdo_3D\u001b[49m\u001b[38;5;241;43m=\u001b[39;49m\u001b[43mdo_3D\u001b[49m\u001b[43m,\u001b[49m\u001b[43m \u001b[49m\u001b[43manisotropy\u001b[49m\u001b[38;5;241;43m=\u001b[39;49m\u001b[43manisotropy\u001b[49m\u001b[43m)\u001b[49m\n\u001b[0;32m    523\u001b[0m \u001b[38;5;28;01mif\u001b[39;00m do_3D:    \n\u001b[0;32m    524\u001b[0m     \u001b[38;5;28;01mif\u001b[39;00m flow3D_smooth \u001b[38;5;241m>\u001b[39m \u001b[38;5;241m0\u001b[39m:\n",
      "File \u001b[1;32m~\\.conda\\envs\\iob-ia\\lib\\site-packages\\cellpose\\models.py:563\u001b[0m, in \u001b[0;36mCellposeModel._run_net\u001b[1;34m(self, x, rescale, resample, augment, batch_size, tile_overlap, bsize, anisotropy, do_3D)\u001b[0m\n\u001b[0;32m    558\u001b[0m         x \u001b[38;5;241m=\u001b[39m transforms\u001b[38;5;241m.\u001b[39mresize_image(x, Ly\u001b[38;5;241m=\u001b[39m\u001b[38;5;28mint\u001b[39m(Ly\u001b[38;5;241m*\u001b[39mrescale), \n\u001b[0;32m    559\u001b[0m                                       Lx\u001b[38;5;241m=\u001b[39m\u001b[38;5;28mint\u001b[39m(Lx\u001b[38;5;241m*\u001b[39mrescale))\n\u001b[0;32m    560\u001b[0m     x \u001b[38;5;241m=\u001b[39m transforms\u001b[38;5;241m.\u001b[39mresize_image(x\u001b[38;5;241m.\u001b[39mtranspose(\u001b[38;5;241m1\u001b[39m,\u001b[38;5;241m0\u001b[39m,\u001b[38;5;241m2\u001b[39m,\u001b[38;5;241m3\u001b[39m),\n\u001b[0;32m    561\u001b[0m                             Ly\u001b[38;5;241m=\u001b[39m\u001b[38;5;28mint\u001b[39m(Lz\u001b[38;5;241m*\u001b[39manisotropy\u001b[38;5;241m*\u001b[39mrescale), \n\u001b[0;32m    562\u001b[0m                             Lx\u001b[38;5;241m=\u001b[39m\u001b[38;5;28mint\u001b[39m(Lx\u001b[38;5;241m*\u001b[39mrescale))\u001b[38;5;241m.\u001b[39mtranspose(\u001b[38;5;241m1\u001b[39m,\u001b[38;5;241m0\u001b[39m,\u001b[38;5;241m2\u001b[39m,\u001b[38;5;241m3\u001b[39m)\n\u001b[1;32m--> 563\u001b[0m yf, styles \u001b[38;5;241m=\u001b[39m \u001b[43mrun_3D\u001b[49m\u001b[43m(\u001b[49m\u001b[38;5;28;43mself\u001b[39;49m\u001b[38;5;241;43m.\u001b[39;49m\u001b[43mnet\u001b[49m\u001b[43m,\u001b[49m\u001b[43m \u001b[49m\u001b[43mx\u001b[49m\u001b[43m,\u001b[49m\n\u001b[0;32m    564\u001b[0m \u001b[43m                    \u001b[49m\u001b[43mbatch_size\u001b[49m\u001b[38;5;241;43m=\u001b[39;49m\u001b[43mbatch_size\u001b[49m\u001b[43m,\u001b[49m\u001b[43m \u001b[49m\u001b[43maugment\u001b[49m\u001b[38;5;241;43m=\u001b[39;49m\u001b[43maugment\u001b[49m\u001b[43m,\u001b[49m\u001b[43m  \u001b[49m\n\u001b[0;32m    565\u001b[0m \u001b[43m                    \u001b[49m\u001b[43mtile_overlap\u001b[49m\u001b[38;5;241;43m=\u001b[39;49m\u001b[43mtile_overlap\u001b[49m\u001b[43m,\u001b[49m\u001b[43m \u001b[49m\u001b[43mnet_ortho\u001b[49m\u001b[38;5;241;43m=\u001b[39;49m\u001b[38;5;28;43mself\u001b[39;49m\u001b[38;5;241;43m.\u001b[39;49m\u001b[43mnet_ortho\u001b[49m\u001b[43m)\u001b[49m\n\u001b[0;32m    566\u001b[0m \u001b[38;5;28;01mif\u001b[39;00m resample:\n\u001b[0;32m    567\u001b[0m     \u001b[38;5;28;01mif\u001b[39;00m rescale \u001b[38;5;241m!=\u001b[39m \u001b[38;5;241m1.0\u001b[39m \u001b[38;5;129;01mor\u001b[39;00m Lz \u001b[38;5;241m!=\u001b[39m yf\u001b[38;5;241m.\u001b[39mshape[\u001b[38;5;241m0\u001b[39m]:\n",
      "File \u001b[1;32m~\\.conda\\envs\\iob-ia\\lib\\site-packages\\cellpose\\core.py:319\u001b[0m, in \u001b[0;36mrun_3D\u001b[1;34m(net, imgs, batch_size, augment, tile_overlap, bsize, net_ortho, progress)\u001b[0m\n\u001b[0;32m    316\u001b[0m \u001b[38;5;66;03m# per image\u001b[39;00m\n\u001b[0;32m    317\u001b[0m core_logger\u001b[38;5;241m.\u001b[39minfo(\u001b[38;5;124m\"\u001b[39m\u001b[38;5;124mrunning \u001b[39m\u001b[38;5;132;01m%s\u001b[39;00m\u001b[38;5;124m: \u001b[39m\u001b[38;5;132;01m%d\u001b[39;00m\u001b[38;5;124m planes of size (\u001b[39m\u001b[38;5;132;01m%d\u001b[39;00m\u001b[38;5;124m, \u001b[39m\u001b[38;5;132;01m%d\u001b[39;00m\u001b[38;5;124m)\u001b[39m\u001b[38;5;124m\"\u001b[39m \u001b[38;5;241m%\u001b[39m\n\u001b[0;32m    318\u001b[0m                  (sstr[p], shape[pm[p][\u001b[38;5;241m0\u001b[39m]], shape[pm[p][\u001b[38;5;241m1\u001b[39m]], shape[pm[p][\u001b[38;5;241m2\u001b[39m]]))\n\u001b[1;32m--> 319\u001b[0m y, style \u001b[38;5;241m=\u001b[39m \u001b[43mrun_net\u001b[49m\u001b[43m(\u001b[49m\u001b[43mnet\u001b[49m\u001b[43m \u001b[49m\u001b[38;5;28;43;01mif\u001b[39;49;00m\u001b[43m \u001b[49m\u001b[43mp\u001b[49m\u001b[38;5;241;43m==\u001b[39;49m\u001b[38;5;241;43m0\u001b[39;49m\u001b[43m \u001b[49m\u001b[38;5;129;43;01mor\u001b[39;49;00m\u001b[43m \u001b[49m\u001b[43mnet_ortho\u001b[49m\u001b[43m \u001b[49m\u001b[38;5;129;43;01mis\u001b[39;49;00m\u001b[43m \u001b[49m\u001b[38;5;28;43;01mNone\u001b[39;49;00m\u001b[43m \u001b[49m\u001b[38;5;28;43;01melse\u001b[39;49;00m\u001b[43m \u001b[49m\u001b[43mnet_ortho\u001b[49m\u001b[43m,\u001b[49m\u001b[43m \u001b[49m\n\u001b[0;32m    320\u001b[0m \u001b[43m                   \u001b[49m\u001b[43mxsl\u001b[49m\u001b[43m,\u001b[49m\u001b[43m \u001b[49m\u001b[43mbatch_size\u001b[49m\u001b[38;5;241;43m=\u001b[39;49m\u001b[43mbatch_size\u001b[49m\u001b[43m,\u001b[49m\u001b[43m \u001b[49m\u001b[43maugment\u001b[49m\u001b[38;5;241;43m=\u001b[39;49m\u001b[43maugment\u001b[49m\u001b[43m,\u001b[49m\u001b[43m \u001b[49m\n\u001b[0;32m    321\u001b[0m \u001b[43m                   \u001b[49m\u001b[43mbsize\u001b[49m\u001b[38;5;241;43m=\u001b[39;49m\u001b[43mbsize\u001b[49m\u001b[43m,\u001b[49m\u001b[43m \u001b[49m\u001b[43mtile_overlap\u001b[49m\u001b[38;5;241;43m=\u001b[39;49m\u001b[43mtile_overlap\u001b[49m\u001b[43m,\u001b[49m\u001b[43m \u001b[49m\n\u001b[0;32m    322\u001b[0m \u001b[43m                   \u001b[49m\u001b[43mrsz\u001b[49m\u001b[38;5;241;43m=\u001b[39;49m\u001b[38;5;28;43;01mNone\u001b[39;49;00m\u001b[43m)\u001b[49m\n\u001b[0;32m    323\u001b[0m yf[\u001b[38;5;241m.\u001b[39m\u001b[38;5;241m.\u001b[39m\u001b[38;5;241m.\u001b[39m, \u001b[38;5;241m-\u001b[39m\u001b[38;5;241m1\u001b[39m] \u001b[38;5;241m+\u001b[39m\u001b[38;5;241m=\u001b[39m y[\u001b[38;5;241m.\u001b[39m\u001b[38;5;241m.\u001b[39m\u001b[38;5;241m.\u001b[39m, \u001b[38;5;241m-\u001b[39m\u001b[38;5;241m1\u001b[39m]\u001b[38;5;241m.\u001b[39mtranspose(ipm[p])\n\u001b[0;32m    324\u001b[0m \u001b[38;5;28;01mfor\u001b[39;00m j \u001b[38;5;129;01min\u001b[39;00m \u001b[38;5;28mrange\u001b[39m(\u001b[38;5;241m2\u001b[39m):\n",
      "File \u001b[1;32m~\\.conda\\envs\\iob-ia\\lib\\site-packages\\cellpose\\core.py:273\u001b[0m, in \u001b[0;36mrun_net\u001b[1;34m(net, imgi, batch_size, augment, tile_overlap, bsize, rsz)\u001b[0m\n\u001b[0;32m    271\u001b[0m yfi \u001b[38;5;241m=\u001b[39m transforms\u001b[38;5;241m.\u001b[39maverage_tiles(y, ysub, xsub, Ly, Lx)\n\u001b[0;32m    272\u001b[0m yf[b] \u001b[38;5;241m=\u001b[39m yfi[:, :imgb\u001b[38;5;241m.\u001b[39mshape[\u001b[38;5;241m-\u001b[39m\u001b[38;5;241m2\u001b[39m], :imgb\u001b[38;5;241m.\u001b[39mshape[\u001b[38;5;241m-\u001b[39m\u001b[38;5;241m1\u001b[39m]]\n\u001b[1;32m--> 273\u001b[0m stylei \u001b[38;5;241m=\u001b[39m \u001b[43mstylea\u001b[49m\u001b[43m[\u001b[49m\u001b[43mi\u001b[49m\u001b[43m \u001b[49m\u001b[38;5;241;43m*\u001b[39;49m\u001b[43m \u001b[49m\u001b[43mntiles\u001b[49m\u001b[43m:\u001b[49m\u001b[43m(\u001b[49m\u001b[43mi\u001b[49m\u001b[43m \u001b[49m\u001b[38;5;241;43m+\u001b[39;49m\u001b[43m \u001b[49m\u001b[38;5;241;43m1\u001b[39;49m\u001b[43m)\u001b[49m\u001b[43m \u001b[49m\u001b[38;5;241;43m*\u001b[39;49m\u001b[43m \u001b[49m\u001b[43mntiles\u001b[49m\u001b[43m]\u001b[49m\u001b[38;5;241;43m.\u001b[39;49m\u001b[43msum\u001b[49m\u001b[43m(\u001b[49m\u001b[43maxis\u001b[49m\u001b[38;5;241;43m=\u001b[39;49m\u001b[38;5;241;43m0\u001b[39;49m\u001b[43m)\u001b[49m\n\u001b[0;32m    274\u001b[0m stylei \u001b[38;5;241m/\u001b[39m\u001b[38;5;241m=\u001b[39m (stylei\u001b[38;5;241m*\u001b[39m\u001b[38;5;241m*\u001b[39m\u001b[38;5;241m2\u001b[39m)\u001b[38;5;241m.\u001b[39msum()\u001b[38;5;241m*\u001b[39m\u001b[38;5;241m*\u001b[39m\u001b[38;5;241m0.5\u001b[39m\n\u001b[0;32m    275\u001b[0m styles[b] \u001b[38;5;241m=\u001b[39m stylei\n",
      "File \u001b[1;32m~\\.conda\\envs\\iob-ia\\lib\\site-packages\\numpy\\core\\_methods.py:47\u001b[0m, in \u001b[0;36m_sum\u001b[1;34m(a, axis, dtype, out, keepdims, initial, where)\u001b[0m\n\u001b[0;32m     43\u001b[0m \u001b[38;5;28;01mdef\u001b[39;00m\u001b[38;5;250m \u001b[39m\u001b[38;5;21m_amin\u001b[39m(a, axis\u001b[38;5;241m=\u001b[39m\u001b[38;5;28;01mNone\u001b[39;00m, out\u001b[38;5;241m=\u001b[39m\u001b[38;5;28;01mNone\u001b[39;00m, keepdims\u001b[38;5;241m=\u001b[39m\u001b[38;5;28;01mFalse\u001b[39;00m,\n\u001b[0;32m     44\u001b[0m           initial\u001b[38;5;241m=\u001b[39m_NoValue, where\u001b[38;5;241m=\u001b[39m\u001b[38;5;28;01mTrue\u001b[39;00m):\n\u001b[0;32m     45\u001b[0m     \u001b[38;5;28;01mreturn\u001b[39;00m umr_minimum(a, axis, \u001b[38;5;28;01mNone\u001b[39;00m, out, keepdims, initial, where)\n\u001b[1;32m---> 47\u001b[0m \u001b[38;5;28;01mdef\u001b[39;00m\u001b[38;5;250m \u001b[39m\u001b[38;5;21m_sum\u001b[39m(a, axis\u001b[38;5;241m=\u001b[39m\u001b[38;5;28;01mNone\u001b[39;00m, dtype\u001b[38;5;241m=\u001b[39m\u001b[38;5;28;01mNone\u001b[39;00m, out\u001b[38;5;241m=\u001b[39m\u001b[38;5;28;01mNone\u001b[39;00m, keepdims\u001b[38;5;241m=\u001b[39m\u001b[38;5;28;01mFalse\u001b[39;00m,\n\u001b[0;32m     48\u001b[0m          initial\u001b[38;5;241m=\u001b[39m_NoValue, where\u001b[38;5;241m=\u001b[39m\u001b[38;5;28;01mTrue\u001b[39;00m):\n\u001b[0;32m     49\u001b[0m     \u001b[38;5;28;01mreturn\u001b[39;00m umr_sum(a, axis, dtype, out, keepdims, initial, where)\n\u001b[0;32m     51\u001b[0m \u001b[38;5;28;01mdef\u001b[39;00m\u001b[38;5;250m \u001b[39m\u001b[38;5;21m_prod\u001b[39m(a, axis\u001b[38;5;241m=\u001b[39m\u001b[38;5;28;01mNone\u001b[39;00m, dtype\u001b[38;5;241m=\u001b[39m\u001b[38;5;28;01mNone\u001b[39;00m, out\u001b[38;5;241m=\u001b[39m\u001b[38;5;28;01mNone\u001b[39;00m, keepdims\u001b[38;5;241m=\u001b[39m\u001b[38;5;28;01mFalse\u001b[39;00m,\n\u001b[0;32m     52\u001b[0m           initial\u001b[38;5;241m=\u001b[39m_NoValue, where\u001b[38;5;241m=\u001b[39m\u001b[38;5;28;01mTrue\u001b[39;00m):\n",
      "\u001b[1;31mKeyboardInterrupt\u001b[0m: "
     ]
    }
   ],
   "source": [
    "if os.path.exists(io_utils.gen_out_path(path_tif, 'cp_seg-----')):\n",
    "    mask_cp = io_utils.read_labels(io_utils.gen_out_path(path_tif, 'cp_seg'))\n",
    "else:\n",
    "    mask_cp = segment.segment_3d_cellpose(\n",
    "        img_nd2.get_data()[dapi_ch],\n",
    "        #model_path = 'cyto3', # Default\n",
    "        #anisotropy=img_nd2.physical_pixel_sizes,\n",
    "        #flow3D_smooth = 0, # Default\n",
    "        #cellprob_threshold = 0.0, # Default\n",
    "    )\n",
    "print(mask_cp.shape)"
   ]
  },
  {
   "cell_type": "code",
   "execution_count": null,
   "id": "3b7699d6-757c-474d-bbdc-41341f9d09d2",
   "metadata": {},
   "outputs": [],
   "source": [
    "# save labels\n",
    "save_path = io_utils.gen_out_path(path_nd2, 'cp_seg')\n",
    "io_utils.save_labels(mask_cp, save_path)"
   ]
  },
  {
   "cell_type": "markdown",
   "id": "ddc38b83-cb28-4b64-90ae-8a98a4568e6a",
   "metadata": {},
   "source": [
    "## Filter lable image on features\n",
    "shape features: 'area, 'euler_number' and 'extent'\n",
    "intensity features: \"intensity_max\", \"intensity_mean\", \"intensity_min\""
   ]
  },
  {
   "cell_type": "code",
   "execution_count": null,
   "id": "0c3f2f89-d005-4071-b89e-a1deb20b55f5",
   "metadata": {},
   "outputs": [],
   "source": [
    "# Measure features of all labels created with cellpose, using calibrated units\n",
    "property_table = segment.measure_props(\n",
    "    img_label=mask_cp, img_intensity=img_nd2.get_data(),\n",
    "    voxel_size=img_nd2.physical_pixel_sizes\n",
    ")\n",
    "property_table = segment.measure_props(\n",
    "    img_label=mask_cp, voxel_size=img_nd2.physical_pixel_sizes\n",
    ")"
   ]
  },
  {
   "cell_type": "code",
   "execution_count": null,
   "id": "9bc21a33-9651-4466-931c-e88670163a52",
   "metadata": {},
   "outputs": [],
   "source": [
    "label2remove = segment.filter_shape(\n",
    "    mask_cp, 'projected_circularity', min_val=0.55, props_table=property_table\n",
    ")\n",
    "label2remove = segment.filter_shape(\n",
    "    mask_cp, 'area', min_val=900, labels_to_remove=label2remove,\n",
    "    props_table=property_table\n",
    ") # (10x10x9)um^3"
   ]
  },
  {
   "cell_type": "code",
   "execution_count": null,
   "id": "e6435dfd-4ed6-44f9-86bb-3b50d11b84a3",
   "metadata": {},
   "outputs": [],
   "source": [
    "nuclei = segment.remove_label_objects(\n",
    "    mask_cp, labels=label2remove, relabel=False\n",
    ")"
   ]
  },
  {
   "cell_type": "code",
   "execution_count": null,
   "id": "6d40e37a-8334-46a2-8dc0-2e618d8a20f3",
   "metadata": {},
   "outputs": [],
   "source": [
    "save_path = io_utils.gen_out_path(path_tif, 'filtered')\n",
    "io_utils.save_labels(nuclei, save_path)"
   ]
  },
  {
   "cell_type": "markdown",
   "id": "df6fd488-6bd7-4289-89bd-1871b22a8681",
   "metadata": {},
   "source": [
    "## Visualise"
   ]
  },
  {
   "cell_type": "code",
   "execution_count": null,
   "id": "4741f712-bce6-43e1-b9df-9533ca5609d6",
   "metadata": {},
   "outputs": [],
   "source": [
    "# add multi channel nd2\n",
    "visualise.add_multichannel_image(\n",
    "    img=img_nd2.get_data(), name='image',\n",
    "    channel_names=img_nd2.channel_names, scale=img_nd2.physical_pixel_sizes\n",
    ")\n",
    "\n",
    "# create features for napari label layer\n",
    "#  (specifying the props_table will not recalculate the props,\n",
    "#  i.e. show no intensity measurements)\n",
    "features = visualise.create_napari_features(\n",
    "    img_label=nuclei, img_intensity=img_nd2.get_data(),\n",
    "    voxel_size=img_nd2.physical_pixel_sizes, props_table=property_table\n",
    ")\n",
    "# Adding both the filtered nuclei and the raw cp masks\n",
    "visualise.add_labels(\n",
    "    nuclei, name='nuclei', scale=img_nd2.physical_pixel_sizes,\n",
    "    features=features\n",
    ")"
   ]
  },
  {
   "cell_type": "markdown",
   "id": "138d2376-58fb-4a6d-938c-95fea148264b",
   "metadata": {},
   "source": [
    "## Label mask modulations"
   ]
  },
  {
   "cell_type": "code",
   "execution_count": null,
   "id": "3776c3c4-b8f0-47e0-af2b-7f8e87c9e606",
   "metadata": {},
   "outputs": [],
   "source": [
    "# Create cell an cytoplasm mask from nuclei\n",
    "#  (expansion/shrinking in voxel_size units)\n",
    "nuclei, cells, cyto = segment.create_cell_cyto_masks(\n",
    "    nuclei, expansion=5, shrinking=2, voxel_size=img_nd2.physical_pixel_sizes\n",
    ")"
   ]
  },
  {
   "cell_type": "code",
   "execution_count": null,
   "id": "5f45688f-aa6f-4a6f-9ce1-d51f2c10b917",
   "metadata": {},
   "outputs": [],
   "source": [
    "show_napari_features = True\n",
    "if show_napari_features:\n",
    "    from time import time\n",
    "    start = time()\n",
    "    nuc_props = segment.measure_props(\n",
    "        img_label=nuclei, img_intensity=img_nd2.get_data(),\n",
    "        voxel_size=img_nd2.physical_pixel_sizes\n",
    "    )\n",
    "    cyto_props = segment.measure_props(\n",
    "        img_label=cyto, img_intensity=img_nd2.get_data(),\n",
    "        voxel_size=img_nd2.physical_pixel_sizes\n",
    "    )\n",
    "    cell_props = segment.measure_props(\n",
    "        img_label=cells, img_intensity=img_nd2.get_data(),\n",
    "        voxel_size=img_nd2.physical_pixel_sizes\n",
    "    )\n",
    "    nuc_feat = visualise.create_napari_features(props_table=nuc_props)\n",
    "    cyto_feat = visualise.create_napari_features(props_table=cyto_props)\n",
    "    cell_feat = visualise.create_napari_features(props_table=cell_props)\n",
    "    print('Measuring compartment features took:', time() - start)\n",
    "else:\n",
    "    nuc_feat = None\n",
    "    cyto_feat = None\n",
    "    cell_feat = None"
   ]
  },
  {
   "cell_type": "code",
   "execution_count": null,
   "id": "f4e376d4-0a66-4686-82a5-03fb38adc3a2",
   "metadata": {},
   "outputs": [],
   "source": [
    "visualise.add_labels(\n",
    "    nuclei, name='nuc_shrunk', scale=img_nd2.physical_pixel_sizes,\n",
    "    features=nuc_feat\n",
    ")\n",
    "visualise.add_labels(\n",
    "    cyto, name='cyto', scale=img_nd2.physical_pixel_sizes,\n",
    "    features=cyto_feat\n",
    ")\n",
    "visualise.add_labels(\n",
    "    cells, name='cells', scale=img_nd2.physical_pixel_sizes,\n",
    "    features=cell_feat\n",
    ")"
   ]
  },
  {
   "cell_type": "markdown",
   "id": "26357e10-9f2e-4650-9a3d-12c4f17e3eb5",
   "metadata": {},
   "source": [
    "## Classification"
   ]
  },
  {
   "cell_type": "code",
   "execution_count": null,
   "id": "68f2978a-50d4-4e96-9068-674f71ac6036",
   "metadata": {},
   "outputs": [],
   "source": [
    "table = classify.create_base_table(\n",
    "    img=img_nd2.get_data(), nuclei=nuclei, cyto=cyto, cells=cells,\n",
    "    channel_names=img_nd2.channel_names, scale=img_nd2.physical_pixel_sizes\n",
    ")\n"
   ]
  },
  {
   "cell_type": "code",
   "execution_count": null,
   "id": "8ebd13b3-8b92-4e99-9b41-d849497f038c",
   "metadata": {},
   "outputs": [],
   "source": [
    "table_mod = classify.classify(\n",
    "    table, prop='Nucleus: projected_area', classification='big', min_val=74\n",
    ")\n"
   ]
  },
  {
   "cell_type": "code",
   "execution_count": null,
   "id": "0fa0f584-a7db-4a6e-9567-b7b98a3de010",
   "metadata": {},
   "outputs": [],
   "source": [
    "# Help function to list available classifications\n",
    "classify.available_classifications(table_mod)"
   ]
  },
  {
   "cell_type": "code",
   "execution_count": null,
   "id": "e9b1e177-34cd-4638-a48a-ebfcb6258672",
   "metadata": {},
   "outputs": [],
   "source": [
    "table_mod2 = classify.classify(\n",
    "    table_mod, prop='Nucleus: projected_perimeter', classification=None,\n",
    "    min_val=25, show_counts=True\n",
    ")"
   ]
  },
  {
   "cell_type": "code",
   "execution_count": null,
   "id": "fcd9a1db-4b9a-4398-8950-5a4cd1ee1614",
   "metadata": {},
   "outputs": [],
   "source": [
    "# Show a specific class in napari (with a givein color)\n",
    "big_nuclei = classify.show_by_class(\n",
    "    table=table_mod2,\n",
    "    class_names='big;Nucleus: projected_perimeter+',\n",
    "    img_nuclei=nuclei,\n",
    "    voxel_size=img_nd2.physical_pixel_sizes,\n",
    "    color='blue'\n",
    "    # gray, red, green, blue, magenta, cyan. Others will be random color\n",
    ")"
   ]
  },
  {
   "cell_type": "code",
   "execution_count": null,
   "id": "4d618797-a6ef-4cd7-a766-b5bb0b63d3ab",
   "metadata": {},
   "outputs": [],
   "source": [
    "# Estimate thresholds for different cell types\n",
    "af488 = classify.estimate_threshold(\n",
    "    'Cytoplasm: intensity_mean-AF488', table=table\n",
    ")\n",
    "af546 = classify.estimate_threshold(\n",
    "    'Cytoplasm: intensity_mean-AF546', table=table\n",
    ")\n",
    "af647 = classify.estimate_threshold(\n",
    "    'Cytoplasm: intensity_mean-AF647', table=table\n",
    ")\n",
    "print('Estimated thresholds:')\n",
    "print('- AF488 =', af488)\n",
    "print('- AF546 =', af546)\n",
    "print('- AF647 =', af647)"
   ]
  },
  {
   "cell_type": "code",
   "execution_count": null,
   "id": "667af72b-2552-4b1c-9112-73bf3b5bfb6b",
   "metadata": {},
   "outputs": [],
   "source": [
    "table_1 = classify.classify(\n",
    "    table, prop='Cytoplasm: intensity_mean-AF488',\n",
    "    classification='AF488+', min_val=200\n",
    ")\n",
    "table_1 = classify.classify(\n",
    "    table_1, prop='Cytoplasm: intensity_mean-AF546',\n",
    "    classification='AF546+', min_val=af546*0.9\n",
    ")\n",
    "table_1 = classify.classify(\n",
    "    table_1, prop='Cytoplasm: intensity_mean-AF647',\n",
    "    classification='AF647+', min_val=280, max_val=725, show_counts=True\n",
    ")"
   ]
  },
  {
   "cell_type": "code",
   "execution_count": null,
   "id": "da4aa77e-4c0a-40a2-be6d-f1b634283f8b",
   "metadata": {},
   "outputs": [],
   "source": [
    "tripple_pos = classify.show_by_class(\n",
    "    table_1, 'AF488+;AF546+', nuclei, 'magenta',\n",
    "    img_nd2.physical_pixel_sizes\n",
    ")"
   ]
  },
  {
   "cell_type": "markdown",
   "id": "2112e073-68e1-4bb7-b1b2-775b20289114",
   "metadata": {},
   "source": [
    "# Testing segmentation of scaffold\n",
    "\n",
    "Li mehtod seems not too bad. maybe I can take the average Li threshold across the slices (of sum projected channel axis)"
   ]
  },
  {
   "cell_type": "code",
   "execution_count": null,
   "id": "b41952a2-98e2-4783-aec7-605bb53749e9",
   "metadata": {},
   "outputs": [],
   "source": [
    "path_full_nd2 = 'G:/20250211_MarcDu/24 C3 10X Large Image Z.nd2'"
   ]
  },
  {
   "cell_type": "code",
   "execution_count": null,
   "id": "3e24d8f4-28b7-4500-ac3c-dab7d24a18b7",
   "metadata": {},
   "outputs": [],
   "source": [
    "img = io_utils.read_image(path_full_nd2)"
   ]
  },
  {
   "cell_type": "code",
   "execution_count": null,
   "id": "460aae21-b812-434f-8ee1-a2f139842860",
   "metadata": {
    "scrolled": true
   },
   "outputs": [],
   "source": [
    "visualise.add_multichannel_image(\n",
    "    img.get_dask_data(), name='scaffold',\n",
    "    channel_names=img.channel_names, scale=img.physical_pixel_sizes\n",
    ")"
   ]
  },
  {
   "cell_type": "code",
   "execution_count": null,
   "id": "1a1555cc-5fee-4e7c-804b-23a25d0f07e1",
   "metadata": {},
   "outputs": [],
   "source": [
    "img_small, binary, new_voxels = segex.scaffold_segmentation(\n",
    "    img.get_dask_data(), voxel_size=img.physical_pixel_sizes, downscale=5\n",
    ")"
   ]
  },
  {
   "cell_type": "code",
   "execution_count": null,
   "id": "43a27999-6d3e-457d-aff4-4749be3f0159",
   "metadata": {},
   "outputs": [],
   "source": [
    "visualise.add_image(img_small, name='downscaled', scale=new_voxels)\n",
    "visualise.add_labels(binary, name='binary', scale=new_voxels)"
   ]
  },
  {
   "cell_type": "code",
   "execution_count": null,
   "id": "9eb20386-7e8a-436b-8e2e-6b128567df23",
   "metadata": {},
   "outputs": [],
   "source": [
    "scaffold_area, scaffold_centroid = segex.get_area_and_center(\n",
    "    binary, voxel_size=new_voxels\n",
    ")"
   ]
  },
  {
   "cell_type": "code",
   "execution_count": null,
   "id": "4fe29ec6-7301-4b98-9f50-b7ff5c23806b",
   "metadata": {},
   "outputs": [],
   "source": [
    "visualise.add_point(\n",
    "    scaffold_centroid, name='scaffold centroid', size=100\n",
    ")"
   ]
  },
  {
   "cell_type": "code",
   "execution_count": null,
   "id": "592d85b2-fd41-46ef-bc7f-efca792bedff",
   "metadata": {},
   "outputs": [],
   "source": []
  }
 ],
 "metadata": {
  "kernelspec": {
   "display_name": "Python 3 (ipykernel)",
   "language": "python",
   "name": "python3"
  },
  "language_info": {
   "codemirror_mode": {
    "name": "ipython",
    "version": 3
   },
   "file_extension": ".py",
   "mimetype": "text/x-python",
   "name": "python",
   "nbconvert_exporter": "python",
   "pygments_lexer": "ipython3",
   "version": "3.10.16"
  }
 },
 "nbformat": 4,
 "nbformat_minor": 5
}
