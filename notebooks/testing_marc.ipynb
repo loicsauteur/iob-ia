{
 "cells": [
  {
   "cell_type": "code",
   "execution_count": 1,
   "id": "481f6654-bc5c-4721-9680-52fd08703c29",
   "metadata": {},
   "outputs": [],
   "source": [
    "%load_ext autoreload\n",
    "%autoreload 2\n",
    "\n",
    "from iob_ia.utils import segment, io_utils, visualise, classify\n",
    "import os"
   ]
  },
  {
   "cell_type": "code",
   "execution_count": 2,
   "id": "bc8838e1-924f-4a76-ac81-5de0ebe44f0e",
   "metadata": {},
   "outputs": [],
   "source": [
    "path_tif = 'G:/20250211_MarcDu/20x_Testfile_405(DAPI)_488(CD45)_546(CD3)_647(CD31)/DAPI_ch3-20x.tif'\n",
    "path_nd2 = 'G:/20250211_MarcDu/20x_Testfile_405(DAPI)_488(CD45)_546(CD3)_647(CD31)/3-20x.nd2'"
   ]
  },
  {
   "cell_type": "code",
   "execution_count": 3,
   "id": "85240291-379e-41dd-a59a-c94c591dd23a",
   "metadata": {},
   "outputs": [],
   "source": [
    "# Specify the channels (0-based indexing)\n",
    "dapi_ch = 0\n",
    "cd45_ch = 1\n",
    "# channels of interest\n",
    "oste_ch = 2\n",
    "cd31_ch = 3"
   ]
  },
  {
   "cell_type": "code",
   "execution_count": 4,
   "id": "202d6121-9f5f-460b-b2f0-204fc7f89240",
   "metadata": {},
   "outputs": [],
   "source": [
    "#img, voxel_size = io_utils.read_tif(path_tif) #uses different metadata names than vsi..\n",
    "img_nd2 = io_utils.read_image(path_nd2)"
   ]
  },
  {
   "cell_type": "code",
   "execution_count": 5,
   "id": "f31faf45-7abb-4368-b29c-c46f774f93ec",
   "metadata": {},
   "outputs": [
    {
     "name": "stdout",
     "output_type": "stream",
     "text": [
      "(4, 68, 2048, 2048)\n",
      "PhysicalPixelSizes(Z=2.0, Y=0.43177598559324926, X=0.43177598559324926)\n"
     ]
    }
   ],
   "source": [
    "print(img_nd2.get_data().shape)\n",
    "print(img_nd2.physical_pixel_sizes)"
   ]
  },
  {
   "cell_type": "markdown",
   "id": "721d24bf-5572-41dd-9c59-06b85aff3af1",
   "metadata": {},
   "source": [
    "## Segment using cellpose"
   ]
  },
  {
   "cell_type": "code",
   "execution_count": 6,
   "id": "e4fd8671-418a-474f-a473-20c847ea7037",
   "metadata": {},
   "outputs": [
    {
     "name": "stdout",
     "output_type": "stream",
     "text": [
      "(68, 2048, 2048)\n"
     ]
    }
   ],
   "source": [
    "if os.path.exists(io_utils.gen_out_path(path_tif, 'cp_seg')):\n",
    "    mask_cp = io_utils.read_labels(io_utils.gen_out_path(path_tif, 'cp_seg'))\n",
    "else:\n",
    "    mask_cp = segment.segment_3d_cellpose(img_nd2.get_data()[dapi_ch]) #, anisotropy=voxel_size[0]/voxel_size[1])\n",
    "print(mask_cp.shape)"
   ]
  },
  {
   "cell_type": "code",
   "execution_count": null,
   "id": "3b7699d6-757c-474d-bbdc-41341f9d09d2",
   "metadata": {},
   "outputs": [],
   "source": [
    "# save labels\n",
    "save_path = io_utils.gen_out_path(path_tif, 'cp_seg')\n",
    "io_utils.save_labels(mask_cp, save_path)\n",
    "\n",
    "save_path = io_utils.gen_out_path(path_tif, 'gfpCh')\n",
    "io_utils.save_labels(img_gfp, save_path)"
   ]
  },
  {
   "cell_type": "markdown",
   "id": "ddc38b83-cb28-4b64-90ae-8a98a4568e6a",
   "metadata": {},
   "source": [
    "## Filter lable image on features\n",
    "shape features: 'area, 'euler_number' and 'extent'\n",
    "intensity features: \"intensity_max\", \"intensity_mean\", \"intensity_min\""
   ]
  },
  {
   "cell_type": "code",
   "execution_count": 7,
   "id": "0c3f2f89-d005-4071-b89e-a1deb20b55f5",
   "metadata": {},
   "outputs": [],
   "source": [
    "# Measure features of all labels created with cellpose, using calibrated units\n",
    "#property_table = segment.measure_props(img_label=mask_cp, img_intensity=img_nd2.get_data(), voxel_size=img_nd2.physical_pixel_sizes)\n",
    "property_table = segment.measure_props(img_label=mask_cp, voxel_size=img_nd2.physical_pixel_sizes)"
   ]
  },
  {
   "cell_type": "code",
   "execution_count": 8,
   "id": "9bc21a33-9651-4466-931c-e88670163a52",
   "metadata": {},
   "outputs": [],
   "source": [
    "label2remove = segment.filter_shape(mask_cp, 'projected_circularity', min_val=0.55, props_table=property_table)\n",
    "label2remove = segment.filter_shape(mask_cp, 'area', min_val=900, labels_to_remove=label2remove, props_table=property_table) # (10x10x9)um^3"
   ]
  },
  {
   "cell_type": "code",
   "execution_count": 9,
   "id": "61bdb1e2-9dce-4d3f-b829-a85d66e3296b",
   "metadata": {},
   "outputs": [],
   "source": [
    "#label2remove = segment.filter_intensity(mask_cp, img_gfp, 'intensity_mean', min_val=4000, labels_to_remove=label2remove)\n",
    "#print(lbls)"
   ]
  },
  {
   "cell_type": "code",
   "execution_count": 10,
   "id": "e6435dfd-4ed6-44f9-86bb-3b50d11b84a3",
   "metadata": {},
   "outputs": [],
   "source": [
    "nuclei = segment.remove_label_objects(mask_cp, labels=label2remove, relabel=False)"
   ]
  },
  {
   "cell_type": "code",
   "execution_count": null,
   "id": "6d40e37a-8334-46a2-8dc0-2e618d8a20f3",
   "metadata": {},
   "outputs": [],
   "source": [
    "save_path = io_utils.gen_out_path(path_tif, 'filtered')\n",
    "io_utils.save_labels(nuclei, save_path)"
   ]
  },
  {
   "cell_type": "markdown",
   "id": "df6fd488-6bd7-4289-89bd-1871b22a8681",
   "metadata": {},
   "source": [
    "## Visualise"
   ]
  },
  {
   "cell_type": "code",
   "execution_count": 11,
   "id": "4741f712-bce6-43e1-b9df-9533ca5609d6",
   "metadata": {},
   "outputs": [],
   "source": [
    "# add multi channel nd2\n",
    "visualise.add_multichannel_image(img=img_nd2.get_data(), name='image', channel_names=img_nd2.channel_names, scale=img_nd2.physical_pixel_sizes)\n",
    "# create features for napari label layer (specifying the props_table will not recalculate the props, i.e. show no intensity measurements)\n",
    "features = visualise.create_napari_features(\n",
    "    img_label=nuclei, img_intensity=img_nd2.get_data(),\n",
    "    voxel_size=img_nd2.physical_pixel_sizes, props_table=property_table)\n",
    "# Adding both the filtered nuclei and the raw cp masks\n",
    "visualise.add_labels(nuclei, name='nuclei', scale=img_nd2.physical_pixel_sizes, features=features)\n",
    "#visualise.add_labels(mask_cp, name='raw_cp_mask', scale=img_nd2.physical_pixel_sizes, features=features)"
   ]
  },
  {
   "cell_type": "markdown",
   "id": "138d2376-58fb-4a6d-938c-95fea148264b",
   "metadata": {},
   "source": [
    "## Label mask modulations"
   ]
  },
  {
   "cell_type": "code",
   "execution_count": 14,
   "id": "3776c3c4-b8f0-47e0-af2b-7f8e87c9e606",
   "metadata": {},
   "outputs": [
    {
     "name": "stdout",
     "output_type": "stream",
     "text": [
      "Shrinking nuclei took: 51.505308628082275\n",
      "Creating cells took: 46.0259051322937\n",
      "Creating cytoplasm took: 0.2626194953918457\n"
     ]
    }
   ],
   "source": [
    "# Create cell an cytoplasm mask from nuclei\n",
    "nuclei, cells, cyto = segment.create_cell_cyto_masks(nuclei, expansion=5, shrinking=2, voxel_size=img_nd2.physical_pixel_sizes)"
   ]
  },
  {
   "cell_type": "code",
   "execution_count": 15,
   "id": "5f45688f-aa6f-4a6f-9ce1-d51f2c10b917",
   "metadata": {},
   "outputs": [
    {
     "name": "stdout",
     "output_type": "stream",
     "text": [
      "Measuring compartment features took: 12.130110740661621\n"
     ]
    }
   ],
   "source": [
    "show_napari_features = True\n",
    "if show_napari_features:\n",
    "    from time import time\n",
    "    start = time()\n",
    "    nuc_props = segment.measure_props(img_label=nuclei, img_intensity=img_nd2.get_data(), voxel_size=img_nd2.physical_pixel_sizes)\n",
    "    cyto_props = segment.measure_props(img_label=cyto, img_intensity=img_nd2.get_data(), voxel_size=img_nd2.physical_pixel_sizes)\n",
    "    cell_props = segment.measure_props(img_label=cells, img_intensity=img_nd2.get_data(), voxel_size=img_nd2.physical_pixel_sizes)\n",
    "    nuc_feat = visualise.create_napari_features(props_table=nuc_props)\n",
    "    cyto_feat = visualise.create_napari_features(props_table=cyto_props)\n",
    "    cell_feat = visualise.create_napari_features(props_table=cell_props)\n",
    "    print('Measuring compartment features took:', time() - start)\n",
    "else:\n",
    "    nuc_feat = None\n",
    "    cyto_feat = None\n",
    "    cell_feat = None"
   ]
  },
  {
   "cell_type": "code",
   "execution_count": 16,
   "id": "f4e376d4-0a66-4686-82a5-03fb38adc3a2",
   "metadata": {},
   "outputs": [],
   "source": [
    "visualise.add_labels(nuclei, name='nuc_shrunk', scale=img_nd2.physical_pixel_sizes, features=nuc_feat)\n",
    "visualise.add_labels(cyto, name='cyto', scale=img_nd2.physical_pixel_sizes, features=cyto_feat)\n",
    "visualise.add_labels(cells, name='cells', scale=img_nd2.physical_pixel_sizes, features=cell_feat)"
   ]
  },
  {
   "cell_type": "markdown",
   "id": "26357e10-9f2e-4650-9a3d-12c4f17e3eb5",
   "metadata": {},
   "source": [
    "## Classification"
   ]
  },
  {
   "cell_type": "code",
   "execution_count": 24,
   "id": "68f2978a-50d4-4e96-9068-674f71ac6036",
   "metadata": {},
   "outputs": [],
   "source": [
    "table = classify.create_base_table(\n",
    "    img=img_nd2.get_data(), nuclei=nuclei, cyto=cyto, cells=cells,\n",
    "    channel_names=img_nd2.channel_names, scale=img_nd2.physical_pixel_sizes\n",
    ")\n"
   ]
  },
  {
   "cell_type": "code",
   "execution_count": 25,
   "id": "8ebd13b3-8b92-4e99-9b41-d849497f038c",
   "metadata": {},
   "outputs": [
    {
     "name": "stdout",
     "output_type": "stream",
     "text": [
      "Classification\n",
      "        915\n",
      "big;    427\n",
      "Name: count, dtype: int64\n"
     ]
    }
   ],
   "source": [
    "table_mod = classify.classify(table, prop='Nucleus: projected_area', classification='big', min_val=74)\n"
   ]
  },
  {
   "cell_type": "code",
   "execution_count": 26,
   "id": "e9b1e177-34cd-4638-a48a-ebfcb6258672",
   "metadata": {},
   "outputs": [
    {
     "name": "stdout",
     "output_type": "stream",
     "text": [
      "Classification\n",
      "Nucleus: projected_perimeter+;        611\n",
      "big;Nucleus: projected_perimeter+;    427\n",
      "                                      304\n",
      "Name: count, dtype: int64\n"
     ]
    }
   ],
   "source": [
    "table_mod2 = classify.classify(table_mod, prop='Nucleus: projected_perimeter', classification=None, min_val=25)\n"
   ]
  },
  {
   "cell_type": "code",
   "execution_count": 23,
   "id": "fcd9a1db-4b9a-4398-8950-5a4cd1ee1614",
   "metadata": {},
   "outputs": [],
   "source": [
    "big_nuclei = classify.show_by_class(table=table_mod2, class_names='big;Nucleus: projected_perimeter+', img_nuclei=nuclei, voxel_size=img_nd2.physical_pixel_sizes, color='blue')"
   ]
  },
  {
   "cell_type": "code",
   "execution_count": null,
   "id": "0fa0f584-a7db-4a6e-9567-b7b98a3de010",
   "metadata": {},
   "outputs": [],
   "source": []
  }
 ],
 "metadata": {
  "kernelspec": {
   "display_name": "Python 3 (ipykernel)",
   "language": "python",
   "name": "python3"
  },
  "language_info": {
   "codemirror_mode": {
    "name": "ipython",
    "version": 3
   },
   "file_extension": ".py",
   "mimetype": "text/x-python",
   "name": "python",
   "nbconvert_exporter": "python",
   "pygments_lexer": "ipython3",
   "version": "3.10.16"
  }
 },
 "nbformat": 4,
 "nbformat_minor": 5
}
