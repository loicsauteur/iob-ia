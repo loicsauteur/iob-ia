{
 "cells": [
  {
   "cell_type": "markdown",
   "id": "09ca928c-e958-4ee1-86d3-91de17473acf",
   "metadata": {},
   "source": [
    "# About this notebook\n",
    "This notebook is for batching 3D analysis on multiple images at once."
   ]
  },
  {
   "cell_type": "code",
   "execution_count": 1,
   "id": "92ff0d7a-75ed-4a6c-bc13-25d0f2060460",
   "metadata": {},
   "outputs": [],
   "source": [
    "%load_ext autoreload\n",
    "%autoreload 2"
   ]
  },
  {
   "cell_type": "code",
   "execution_count": 2,
   "id": "0519eec7-8cbf-4050-9a88-2d19325d6e72",
   "metadata": {},
   "outputs": [],
   "source": [
    "import os\n",
    "from glob import glob\n",
    "\n",
    "import pandas as pd\n",
    "\n",
    "from iob_ia.utils.io_utils import (\n",
    "    read_image,\n",
    ")"
   ]
  },
  {
   "cell_type": "markdown",
   "id": "ff44dc41-2068-42ea-8cbd-fc3a4c3a5dcf",
   "metadata": {},
   "source": [
    "## 1. Define some variables"
   ]
  },
  {
   "cell_type": "code",
   "execution_count": 13,
   "id": "f25509fe-f21c-46c4-ba71-66783d0c7bee",
   "metadata": {},
   "outputs": [],
   "source": [
    "# Define the path to the folder (use '/', and make sure that the path also ends with '/')\n",
    "path_to_folder = \"G:/20241120_IOB_Magdalena/20250520_TestClearing/Organoid 2/\"\n",
    "\n",
    "# Image file type suffix\n",
    "suffix = \".vsi\"\n",
    "# Channels that should be segmented (0-based indexing)\n",
    "channels_to_segment = [1,2]\n",
    "# In case metadata is missing (will be checked later...), specify the voxel size here\n",
    "voxel_size = (1.46, 0.65, 0.65) # or None\n",
    "\n",
    "# Filtering: a list of dictionaries (same order as channels_to_segment)\n",
    "filters = [\n",
    "    # First channel\n",
    "    {\n",
    "        \"area\": [430, 21600],\n",
    "        ## FIXME: Need a way to make this dynamic...\n",
    "        #\"intensity_mean\": [estimate_threshold(\"intensity_mean\", properties) / 2, float(\"inf\")],\n",
    "        \"intensity_mean\": [250, float(\"inf\")],\n",
    "    },\n",
    "    # Second channel\n",
    "    {\n",
    "        \"area\": [430, 21600],\n",
    "        \"intensity_mean\": [150, float(\"inf\")],\n",
    "        \"intensity_max\": [None, 15000],\n",
    "    }\n",
    "]"
   ]
  },
  {
   "cell_type": "code",
   "execution_count": 4,
   "id": "8d1dbec4-8a70-4da0-a3df-4a6067c4efda",
   "metadata": {},
   "outputs": [
    {
     "name": "stdout",
     "output_type": "stream",
     "text": [
      "G:/20241120_IOB_Magdalena/20250520_TestClearing/Organoid 2\\20250520_10x_Nq146um_405_488_640_01.vsi\n",
      "G:/20241120_IOB_Magdalena/20250520_TestClearing/Organoid 2\\20250520_10x_Nq146um_405_488_640_25umdisk_01.vsi\n",
      "G:/20241120_IOB_Magdalena/20250520_TestClearing/Organoid 2\\20250520_30x_Nq027um_405_488_640_01.vsi\n"
     ]
    }
   ],
   "source": [
    "# check the image paths\n",
    "image_paths = glob(path_to_folder + \"*\" + suffix)\n",
    "for p in image_paths:\n",
    "    print(p)"
   ]
  },
  {
   "cell_type": "code",
   "execution_count": 8,
   "id": "743082c3-fd05-415b-9e7b-cf7ac2db008d",
   "metadata": {},
   "outputs": [
    {
     "name": "stdout",
     "output_type": "stream",
     "text": [
      "G:/20241120_IOB_Magdalena/20250520_TestClearing/Organoid 2\\20250520_10x_Nq146um_405_488_640_01.vsi\n",
      "G:/20241120_IOB_Magdalena/20250520_TestClearing/Organoid 2\\20250520_10x_Nq146um_405_488_640_01.vsi\n"
     ]
    }
   ],
   "source": [
    "# TEMP test only on twice the first image\n",
    "image_paths = [image_paths[0], image_paths[0]]\n",
    "for p in image_paths:\n",
    "    print(p)\n"
   ]
  },
  {
   "cell_type": "code",
   "execution_count": 14,
   "id": "fd40e725-100d-4709-8c1b-9bc5d7b7b9a5",
   "metadata": {},
   "outputs": [
    {
     "name": "stdout",
     "output_type": "stream",
     "text": [
      "Using manually defined voxel size\n",
      "All good!\n"
     ]
    }
   ],
   "source": [
    "# Check the images\n",
    "img = None\n",
    "all_channelsnames = []\n",
    "all_voxelsizes = []\n",
    "for p in image_paths:\n",
    "    img = read_image(p)\n",
    "    all_voxelsizes.append(img.physical_pixel_sizes)\n",
    "    all_channelsnames.append(img.channel_names)\n",
    "del img\n",
    "\n",
    "channels_ok = True # check if images have all same number of channels\n",
    "channels_equal = True # this is to check if the requested channels to segment is ok\n",
    "voxels_ok = True # check for None in voxel sizes\n",
    "voxels_equal = True # check that all voxel sizes are the same\n",
    "n_channels = len(all_channelsnames[0])\n",
    "vs = all_voxelsizes[0]\n",
    "for i in range(len(image_paths)):\n",
    "    # check that all images have the same number of channels\n",
    "    if len(all_channelsnames[i]) != n_channels:\n",
    "        channels_ok = False\n",
    "    # Check that there are \"enough channels\"\n",
    "    if max(channels_to_segment) + 1  > len(all_channelsnames[i]):\n",
    "        channels_equal = False\n",
    "    # Check that the voxel metadata is ok\n",
    "    if None in all_voxelsizes[i]:\n",
    "        voxels_ok = False\n",
    "    # Check that the voxel sizes of all images is the same\n",
    "    if vs[0] != all_voxelsizes[i][0] or vs[1] != all_voxelsizes[i][1] or vs[2] != all_voxelsizes[i][2]:\n",
    "        voxels_equal = False\n",
    "\n",
    "# check if voxel_size info has been supplied\n",
    "if not voxels_ok and voxel_size is not None:\n",
    "    print(\"Using manually defined voxel size\")\n",
    "    voxel_size = all_voxelsizes[0]\n",
    "    voxels_ok = True\n",
    "elif voxels_ok and voxel_size is not None:\n",
    "    print(\"Using manually defined voxel size, even though metadata of images is fine\")\n",
    "    voxels_ok = True\n",
    "elif voxels_ok and voxel_size is None:\n",
    "    # use metadata from image\n",
    "    voxel_size = all_voxelsizes[0]\n",
    "    voxels_ok = True\n",
    "\n",
    "if channels_ok and channels_equal and voxels_ok and voxels_equal:\n",
    "    print(\"All good!\")\n",
    "else:\n",
    "    print(\"There are some problems...:\")\n",
    "    if not channels_ok:\n",
    "        print(\"- some images don't have the same number of channels\")\n",
    "    if not channels_equal:\n",
    "        print(\"- some images do not have enough channels, for the channel numbers to segment you requested\")\n",
    "    if not voxels_ok:\n",
    "        print(\"- some images do not have proper voxel sizes in the metadata\")\n",
    "    if not voxels_equal:\n",
    "        print(\"- the images do not have all the same voxel size\")\n",
    "\n",
    "    image_names = []\n",
    "    for p in image_paths:\n",
    "        image_names.append(os.path.basename(p))\n",
    "    check_sum = {\n",
    "        \"images\": image_names,\n",
    "        \"channel names\": all_channelsnames,\n",
    "        \"voxel sizes:\": all_voxelsizes,\n",
    "    }\n",
    "    check_sum = pd.DataFrame.from_dict(check_sum)\n",
    "    print(check_sum)\n"
   ]
  },
  {
   "cell_type": "code",
   "execution_count": null,
   "id": "88f0f75d-499c-48b5-b424-9654d145fab3",
   "metadata": {},
   "outputs": [],
   "source": []
  },
  {
   "cell_type": "code",
   "execution_count": null,
   "id": "f7202f7f-f501-4037-95c9-dde6f048f602",
   "metadata": {},
   "outputs": [],
   "source": []
  }
 ],
 "metadata": {
  "kernelspec": {
   "display_name": "Python 3 (ipykernel)",
   "language": "python",
   "name": "python3"
  },
  "language_info": {
   "codemirror_mode": {
    "name": "ipython",
    "version": 3
   },
   "file_extension": ".py",
   "mimetype": "text/x-python",
   "name": "python",
   "nbconvert_exporter": "python",
   "pygments_lexer": "ipython3",
   "version": "3.11.13"
  }
 },
 "nbformat": 4,
 "nbformat_minor": 5
}
