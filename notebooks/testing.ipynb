{
 "cells": [
  {
   "cell_type": "code",
   "execution_count": 12,
   "id": "481f6654-bc5c-4721-9680-52fd08703c29",
   "metadata": {},
   "outputs": [
    {
     "name": "stdout",
     "output_type": "stream",
     "text": [
      "The autoreload extension is already loaded. To reload it, use:\n",
      "  %reload_ext autoreload\n"
     ]
    }
   ],
   "source": [
    "%load_ext autoreload\n",
    "%autoreload 2\n",
    "\n",
    "from iob_ia.utils import segment, io_utils\n",
    "import os"
   ]
  },
  {
   "cell_type": "code",
   "execution_count": 2,
   "id": "bc8838e1-924f-4a76-ac81-5de0ebe44f0e",
   "metadata": {},
   "outputs": [],
   "source": [
    "path_tif = 'G:/20241120_IOB_Magdalena/3D_project/20240911_Hoechst 405_proA7 gfp 488_Car568_Cralbp647_BF_10x rapiclear Org2_01____TESTs/small_test_image.tif'\n",
    "path_tif2 = 'G:/20241120_IOB_Magdalena/3D_project/20240911_Hoechst 405_proA7 gfp 488_Car568_Cralbp647_BF_10x rapiclear Org2_01____TESTs/small_crop_multiCh.tif'\n",
    "path_vsi = 'G:/20241120_IOB_Magdalena/3D_project/20240911_Hoechst 405_proA7 gfp 488_Car568_Cralbp647_BF_10x rapiclear Org2_01.vsi'"
   ]
  },
  {
   "cell_type": "code",
   "execution_count": 3,
   "id": "85240291-379e-41dd-a59a-c94c591dd23a",
   "metadata": {},
   "outputs": [],
   "source": [
    "# Specify the channels (0-based indexing)\n",
    "dapi_ch = 0\n",
    "gfp_ch = 1\n",
    "# channels of interest\n",
    "car = 2\n",
    "cralbp = 3\n",
    "# channel of no interest\n",
    "bf = 4"
   ]
  },
  {
   "cell_type": "code",
   "execution_count": 4,
   "id": "202d6121-9f5f-460b-b2f0-204fc7f89240",
   "metadata": {},
   "outputs": [],
   "source": [
    "img, voxel_size = io_utils.read_tif(path_tif2)"
   ]
  },
  {
   "cell_type": "code",
   "execution_count": 5,
   "id": "f31faf45-7abb-4368-b29c-c46f774f93ec",
   "metadata": {},
   "outputs": [
    {
     "name": "stdout",
     "output_type": "stream",
     "text": [
      "(5, 313, 208, 248)\n",
      "(1.99, 0.6500002275000796, 0.6500002275000796)\n"
     ]
    }
   ],
   "source": [
    "print(img.shape)\n",
    "print(voxel_size)"
   ]
  },
  {
   "cell_type": "code",
   "execution_count": 6,
   "id": "c91ed0e9-af3b-4737-bdec-55aaf5c9f6b6",
   "metadata": {},
   "outputs": [
    {
     "name": "stdout",
     "output_type": "stream",
     "text": [
      "(313, 208, 248)\n"
     ]
    }
   ],
   "source": [
    "img_gfp = img[gfp_ch]\n",
    "print(img_gfp.shape)"
   ]
  },
  {
   "cell_type": "markdown",
   "id": "12c49a5d-06c2-47c0-87ed-ef388f33db71",
   "metadata": {},
   "source": [
    "img2, voxel_size2 = io_utils.read_vsi(path_vsi)"
   ]
  },
  {
   "cell_type": "markdown",
   "id": "117eb764-deb7-4a85-a327-1d508bdf486a",
   "metadata": {},
   "source": [
    "print(img2.shape)\n",
    "print(voxel_size2)"
   ]
  },
  {
   "cell_type": "markdown",
   "id": "721d24bf-5572-41dd-9c59-06b85aff3af1",
   "metadata": {},
   "source": [
    "## Segment using cellpose"
   ]
  },
  {
   "cell_type": "code",
   "execution_count": 10,
   "id": "e4fd8671-418a-474f-a473-20c847ea7037",
   "metadata": {},
   "outputs": [
    {
     "name": "stdout",
     "output_type": "stream",
     "text": [
      "(313, 208, 248)\n"
     ]
    }
   ],
   "source": [
    "if os.path.exists(io_utils.gen_out_path(path_tif2, 'cp_seg')):\n",
    "    m = io_utils.read_labels(io_utils.gen_out_path(path_tif2, 'cp_seg'))\n",
    "else:\n",
    "    m = segment.segment_3d_cellpose(img_gfp, anisotropy=voxel_size[0]/voxel_size[1])\n",
    "print(m.shape)"
   ]
  },
  {
   "cell_type": "code",
   "execution_count": null,
   "id": "3b7699d6-757c-474d-bbdc-41341f9d09d2",
   "metadata": {},
   "outputs": [],
   "source": [
    "# save labels\n",
    "save_path = io_utils.gen_out_path(path_tif2, 'cp_seg')\n",
    "io_utils.save_labels(m, save_path)\n",
    "\n",
    "save_path = io_utils.gen_out_path(path_tif2, 'gfpCh')\n",
    "io_utils.save_labels(img_gfp, save_path)"
   ]
  },
  {
   "cell_type": "code",
   "execution_count": null,
   "id": "a91544ac-28de-430a-ade5-fc50f62d32b8",
   "metadata": {},
   "outputs": [],
   "source": [
    "m.shape"
   ]
  },
  {
   "cell_type": "markdown",
   "id": "ddc38b83-cb28-4b64-90ae-8a98a4568e6a",
   "metadata": {},
   "source": [
    "## Filter lable image on features\n",
    "shape features: 'area, 'euler_number' and 'extent'\n",
    "intensity features: \"intensity_max\", \"intensity_mean\", \"intensity_min\""
   ]
  },
  {
   "cell_type": "code",
   "execution_count": 61,
   "id": "9bc21a33-9651-4466-931c-e88670163a52",
   "metadata": {},
   "outputs": [],
   "source": [
    "lbls = segment.filter_shape(m, 'area', min_val=400)\n",
    "#print(lbls)"
   ]
  },
  {
   "cell_type": "code",
   "execution_count": 62,
   "id": "61bdb1e2-9dce-4d3f-b829-a85d66e3296b",
   "metadata": {},
   "outputs": [],
   "source": [
    "lbls = segment.filter_intensity(m, img_gfp, 'intensity_mean', min_val=4000, labels_to_remove=lbls)\n",
    "#print(lbls)"
   ]
  },
  {
   "cell_type": "code",
   "execution_count": 63,
   "id": "e6435dfd-4ed6-44f9-86bb-3b50d11b84a3",
   "metadata": {},
   "outputs": [
    {
     "name": "stderr",
     "output_type": "stream",
     "text": [
      "100%|███████████████████████████████████████████████████████████████████████████████| 276/276 [00:01<00:00, 200.95it/s]\n"
     ]
    }
   ],
   "source": [
    "filtered_mask = segment.remove_label_objects(m, lbls)"
   ]
  },
  {
   "cell_type": "code",
   "execution_count": 60,
   "id": "6d40e37a-8334-46a2-8dc0-2e618d8a20f3",
   "metadata": {},
   "outputs": [
    {
     "name": "stdout",
     "output_type": "stream",
     "text": [
      "Saved labels to: G:/20241120_IOB_Magdalena/3D_project/20240911_Hoechst 405_proA7 gfp 488_Car568_Cralbp647_BF_10x rapiclear Org2_01____TESTs\\small_crop_multiCh_filtered.tif\n"
     ]
    }
   ],
   "source": [
    "save_path = io_utils.gen_out_path(path_tif2, 'filtered')\n",
    "io_utils.save_labels(filtered_mask, save_path)"
   ]
  },
  {
   "cell_type": "code",
   "execution_count": null,
   "id": "9907594a-393f-4aa2-8bd0-67ad9a8c3aff",
   "metadata": {},
   "outputs": [],
   "source": []
  }
 ],
 "metadata": {
  "kernelspec": {
   "display_name": "Python 3 (ipykernel)",
   "language": "python",
   "name": "python3"
  },
  "language_info": {
   "codemirror_mode": {
    "name": "ipython",
    "version": 3
   },
   "file_extension": ".py",
   "mimetype": "text/x-python",
   "name": "python",
   "nbconvert_exporter": "python",
   "pygments_lexer": "ipython3",
   "version": "3.10.16"
  }
 },
 "nbformat": 4,
 "nbformat_minor": 5
}
