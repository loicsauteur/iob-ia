{
 "cells": [
  {
   "cell_type": "code",
   "execution_count": 1,
   "id": "481f6654-bc5c-4721-9680-52fd08703c29",
   "metadata": {},
   "outputs": [],
   "source": [
    "%load_ext autoreload\n",
    "%autoreload 2\n",
    "\n",
    "from iob_ia.utils import segment, io_utils, visualise\n",
    "import os"
   ]
  },
  {
   "cell_type": "code",
   "execution_count": 2,
   "id": "bc8838e1-924f-4a76-ac81-5de0ebe44f0e",
   "metadata": {},
   "outputs": [],
   "source": [
    "path_tif = 'G:/20241120_IOB_Magdalena/3D_project/20240911_Hoechst 405_proA7 gfp 488_Car568_Cralbp647_BF_10x rapiclear Org2_01____TESTs/small_test_image.tif'\n",
    "path_tif2 = 'G:/20241120_IOB_Magdalena/3D_project/20240911_Hoechst 405_proA7 gfp 488_Car568_Cralbp647_BF_10x rapiclear Org2_01____TESTs/small_crop_multiCh.tif'\n",
    "path_vsi = 'G:/20241120_IOB_Magdalena/3D_project/20240911_Hoechst 405_proA7 gfp 488_Car568_Cralbp647_BF_10x rapiclear Org2_01.vsi'"
   ]
  },
  {
   "cell_type": "code",
   "execution_count": 3,
   "id": "85240291-379e-41dd-a59a-c94c591dd23a",
   "metadata": {},
   "outputs": [],
   "source": [
    "# Specify the channels (0-based indexing)\n",
    "dapi_ch = 0\n",
    "gfp_ch = 1\n",
    "# channels of interest\n",
    "car = 2\n",
    "cralbp = 3\n",
    "# channel of no interest\n",
    "bf = 4"
   ]
  },
  {
   "cell_type": "code",
   "execution_count": 4,
   "id": "202d6121-9f5f-460b-b2f0-204fc7f89240",
   "metadata": {},
   "outputs": [],
   "source": [
    "img, voxel_size = io_utils.read_tif(path_tif2)"
   ]
  },
  {
   "cell_type": "code",
   "execution_count": null,
   "id": "f31faf45-7abb-4368-b29c-c46f774f93ec",
   "metadata": {},
   "outputs": [],
   "source": [
    "print(img.shape)\n",
    "print(voxel_size)"
   ]
  },
  {
   "cell_type": "code",
   "execution_count": null,
   "id": "c91ed0e9-af3b-4737-bdec-55aaf5c9f6b6",
   "metadata": {},
   "outputs": [],
   "source": [
    "img_gfp = img[gfp_ch]\n",
    "print(img_gfp.shape)"
   ]
  },
  {
   "cell_type": "markdown",
   "id": "12c49a5d-06c2-47c0-87ed-ef388f33db71",
   "metadata": {},
   "source": [
    "img2, voxel_size2 = io_utils.read_vsi(path_vsi)"
   ]
  },
  {
   "cell_type": "markdown",
   "id": "117eb764-deb7-4a85-a327-1d508bdf486a",
   "metadata": {},
   "source": [
    "print(img2.shape)\n",
    "print(voxel_size2)"
   ]
  },
  {
   "cell_type": "markdown",
   "id": "721d24bf-5572-41dd-9c59-06b85aff3af1",
   "metadata": {},
   "source": [
    "## Segment using cellpose"
   ]
  },
  {
   "cell_type": "code",
   "execution_count": null,
   "id": "e4fd8671-418a-474f-a473-20c847ea7037",
   "metadata": {},
   "outputs": [],
   "source": [
    "if os.path.exists(io_utils.gen_out_path(path_tif2, 'cp_seg')):\n",
    "    mask_cp = io_utils.read_labels(io_utils.gen_out_path(path_tif2, 'cp_seg'))\n",
    "else:\n",
    "    mask_cp = segment.segment_3d_cellpose(img_gfp, anisotropy=voxel_size[0]/voxel_size[1])\n",
    "print(mask_cp.shape)"
   ]
  },
  {
   "cell_type": "code",
   "execution_count": null,
   "id": "3b7699d6-757c-474d-bbdc-41341f9d09d2",
   "metadata": {},
   "outputs": [],
   "source": [
    "# save labels\n",
    "save_path = io_utils.gen_out_path(path_tif2, 'cp_seg')\n",
    "io_utils.save_labels(mask_cp, save_path)\n",
    "\n",
    "save_path = io_utils.gen_out_path(path_tif2, 'gfpCh')\n",
    "io_utils.save_labels(img_gfp, save_path)"
   ]
  },
  {
   "cell_type": "markdown",
   "id": "ddc38b83-cb28-4b64-90ae-8a98a4568e6a",
   "metadata": {},
   "source": [
    "## Filter lable image on features\n",
    "shape features: 'area, 'euler_number' and 'extent'\n",
    "intensity features: \"intensity_max\", \"intensity_mean\", \"intensity_min\""
   ]
  },
  {
   "cell_type": "code",
   "execution_count": null,
   "id": "9bc21a33-9651-4466-931c-e88670163a52",
   "metadata": {},
   "outputs": [],
   "source": [
    "label2remove = segment.filter_shape(mask_cp, 'area', min_val=400)\n",
    "#print(lbls)"
   ]
  },
  {
   "cell_type": "code",
   "execution_count": null,
   "id": "61bdb1e2-9dce-4d3f-b829-a85d66e3296b",
   "metadata": {},
   "outputs": [],
   "source": [
    "label2remove = segment.filter_intensity(mask_cp, img_gfp, 'intensity_mean', min_val=4000, labels_to_remove=label2remove)\n",
    "#print(lbls)"
   ]
  },
  {
   "cell_type": "code",
   "execution_count": null,
   "id": "e6435dfd-4ed6-44f9-86bb-3b50d11b84a3",
   "metadata": {},
   "outputs": [],
   "source": [
    "nuclei = segment.remove_label_objects(mask_cp, labels=label2remove)"
   ]
  },
  {
   "cell_type": "code",
   "execution_count": null,
   "id": "6d40e37a-8334-46a2-8dc0-2e618d8a20f3",
   "metadata": {},
   "outputs": [],
   "source": [
    "save_path = io_utils.gen_out_path(path_tif2, 'filtered')\n",
    "io_utils.save_labels(nuclei, save_path)"
   ]
  },
  {
   "cell_type": "markdown",
   "id": "df6fd488-6bd7-4289-89bd-1871b22a8681",
   "metadata": {},
   "source": [
    "## Visualise"
   ]
  },
  {
   "cell_type": "code",
   "execution_count": null,
   "id": "4741f712-bce6-43e1-b9df-9533ca5609d6",
   "metadata": {},
   "outputs": [],
   "source": [
    "#visualise.add_pair(img=img_gfp, labels=nuclei, name='image')\n",
    "visualise.add_image(img=img_gfp, name='gfp', colormap='green', scale=voxel_size)\n",
    "visualise.add_image(img=img[car], name='car', colormap='red', scale=voxel_size)\n",
    "visualise.add_labels(nuclei, name='nuclei', scale=voxel_size)"
   ]
  },
  {
   "cell_type": "markdown",
   "id": "138d2376-58fb-4a6d-938c-95fea148264b",
   "metadata": {},
   "source": [
    "## Label mask modulations"
   ]
  },
  {
   "cell_type": "code",
   "execution_count": null,
   "id": "3776c3c4-b8f0-47e0-af2b-7f8e87c9e606",
   "metadata": {},
   "outputs": [],
   "source": [
    "# Create cell an cytoplasm mask from nuclei\n",
    "cells, cyto = segment.create_cell_cyto_masks(nuclei, expansion=2.5, voxel_size=voxel_size)\n",
    "visualise.add_labels(cells, name='cells', scale=voxel_size)\n",
    "visualise.add_labels(cyto, name='cyto', scale=voxel_size)"
   ]
  },
  {
   "cell_type": "code",
   "execution_count": null,
   "id": "8e515947-eb81-43c7-8171-f6feff9347c3",
   "metadata": {},
   "outputs": [],
   "source": []
  },
  {
   "cell_type": "code",
   "execution_count": null,
   "id": "4b42de03-92db-499e-a6a1-d25f3fcd3c47",
   "metadata": {},
   "outputs": [],
   "source": [
    "# Testing how cellpose look on the car channel...\n",
    "\n",
    "nuc_car = segment.segment_3d_cellpose(img[car], anisotropy=voxel_size[0]/voxel_size[1])\n",
    "visualise.add_labels(nuc_car, name='car_cp', scale=voxel_size)"
   ]
  },
  {
   "cell_type": "code",
   "execution_count": 24,
   "id": "6b712d5c-6dc4-4918-958e-9681f4eba158",
   "metadata": {},
   "outputs": [
    {
     "name": "stdout",
     "output_type": "stream",
     "text": [
      "2025-02-07 18:19:16,895 [INFO] ** TORCH CUDA version installed and working. **\n",
      "creating new log file\n",
      "2025-02-07 18:19:16,897 [INFO] WRITING LOG OUTPUT TO C:\\Users\\Microscopy\\.cellpose\\run.log\n",
      "2025-02-07 18:19:16,898 [INFO] \n",
      "cellpose version: \t3.1.0 \n",
      "platform:       \twin32 \n",
      "python version: \t3.10.16 \n",
      "torch version:  \t2.5.0+cu118\n",
      ">>> GPU activated: True\n",
      "2025-02-07 18:19:16,900 [INFO] ** TORCH CUDA version installed and working. **\n",
      "2025-02-07 18:19:16,901 [INFO] >>>> using GPU (CUDA)\n",
      "2025-02-07 18:19:17,383 [INFO] >>>> loading model G:\\20241120_IOB_Magdalena\\3D_project\\20240911_Hoechst 405_proA7 gfp 488_Car568_Cralbp647_BF_10x rapiclear Org2_01____TESTs\\training_folder\\models\\CP_cone_cells_20250207_113638\n",
      "2025-02-07 18:19:17,846 [INFO] >>>> model diam_mean =  30.000 (ROIs rescaled to this size during training)\n",
      "2025-02-07 18:19:17,847 [INFO] >>>> model diam_labels =  19.667 (mean diameter of training ROIs)\n",
      "2025-02-07 18:19:17,848 [INFO] multi-stack tiff read in as having 313 planes 1 channels\n",
      "2025-02-07 18:19:17,957 [INFO] resizing 3D image with rescale=2.50 and anisotropy=None\n",
      "2025-02-07 18:19:18,734 [INFO] running YX: 782 planes of size (520, 620)\n",
      "2025-02-07 18:19:18,736 [INFO] 0%|          | 0/782 [00:00<?, ?it/s]\n",
      "2025-02-07 18:19:48,772 [INFO] 76%|#######6  | 597/782 [00:30<00:09, 19.88it/s]\n",
      "2025-02-07 18:19:58,026 [INFO] 100%|##########| 782/782 [00:39<00:00, 19.90it/s]\n",
      "2025-02-07 18:19:59,202 [INFO] running ZY: 520 planes of size (782, 620)\n",
      "2025-02-07 18:19:59,203 [INFO] 0%|          | 0/520 [00:00<?, ?it/s]\n",
      "2025-02-07 18:20:29,231 [INFO] 71%|#######   | 369/520 [00:30<00:12, 12.29it/s]\n",
      "2025-02-07 18:20:41,529 [INFO] 100%|##########| 520/520 [00:42<00:00, 12.29it/s]\n",
      "2025-02-07 18:20:42,481 [INFO] running ZX: 620 planes of size (782, 520)\n",
      "2025-02-07 18:20:42,482 [INFO] 0%|          | 0/620 [00:00<?, ?it/s]\n",
      "2025-02-07 18:21:12,529 [INFO] 72%|#######2  | 449/620 [00:30<00:11, 14.94it/s]\n",
      "2025-02-07 18:21:24,003 [INFO] 100%|##########| 620/620 [00:41<00:00, 14.93it/s]\n",
      "2025-02-07 18:21:27,070 [INFO] resizing 3D flows and cellprob to original image size\n",
      "2025-02-07 18:21:27,725 [INFO] network run in 129.77s\n",
      "2025-02-07 18:21:29,169 [INFO] masks created in 1.01s\n"
     ]
    }
   ],
   "source": [
    "# Testing custom model\n",
    "import os\n",
    "model_path='G:\\\\20241120_IOB_Magdalena\\\\3D_project\\\\20240911_Hoechst 405_proA7 gfp 488_Car568_Cralbp647_BF_10x rapiclear Org2_01____TESTs\\\\training_folder\\\\models\\\\CP_cone_cells_20250207_113638'\n",
    "\n",
    "nuc_gfp = segment.segment_3d_cellpose(\n",
    "    img[gfp_ch], anisotropy=None, #voxel_size[0]/voxel_size[1],\n",
    "    model_path=model_path)\n",
    "visualise.add_pair(img[gfp_ch], nuc_gfp, name='gfp', scale=voxel_size)"
   ]
  },
  {
   "cell_type": "code",
   "execution_count": null,
   "id": "1e4f4851-fa36-42cd-98fb-f712c89e4644",
   "metadata": {},
   "outputs": [],
   "source": []
  }
 ],
 "metadata": {
  "kernelspec": {
   "display_name": "Python 3 (ipykernel)",
   "language": "python",
   "name": "python3"
  },
  "language_info": {
   "codemirror_mode": {
    "name": "ipython",
    "version": 3
   },
   "file_extension": ".py",
   "mimetype": "text/x-python",
   "name": "python",
   "nbconvert_exporter": "python",
   "pygments_lexer": "ipython3",
   "version": "3.10.16"
  }
 },
 "nbformat": 4,
 "nbformat_minor": 5
}
