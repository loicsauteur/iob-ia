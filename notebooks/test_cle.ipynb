{
 "cells": [
  {
   "cell_type": "code",
   "execution_count": 1,
   "id": "98181a79-c18c-4b8f-a7f4-cd11169abe63",
   "metadata": {},
   "outputs": [
    {
     "name": "stderr",
     "output_type": "stream",
     "text": [
      "C:\\Users\\Microscopy\\.conda\\envs\\iob-ia\\lib\\site-packages\\pytools\\persistent_dict.py:52: RecommendedHashNotFoundWarning: Unable to import recommended hash 'siphash24.siphash13', falling back to 'hashlib.sha256'. Run 'python3 -m pip install siphash24' to install the recommended hash.\n",
      "  warn(\"Unable to import recommended hash 'siphash24.siphash13', \"\n"
     ]
    }
   ],
   "source": [
    "import pyclesperanto_prototype as cle\n",
    "from skimage.io import imread\n",
    "\n",
    "# initialize GPU\n",
    "#cle.select_device(\"RTX\")"
   ]
  },
  {
   "cell_type": "code",
   "execution_count": 2,
   "id": "0ffc1fe3-12e4-4872-aa16-2ae725d38eda",
   "metadata": {},
   "outputs": [],
   "source": [
    "\n",
    "\n",
    "# load data\n",
    "image = imread('https://samples.fiji.sc/blobs.png')\n",
    "\n",
    "# segment the image\n",
    "labels = cle.voronoi_otsu_labeling(image, spot_sigma=3.5)"
   ]
  },
  {
   "cell_type": "code",
   "execution_count": 3,
   "id": "6108389f-4aea-4ed0-9b43-b5801fc249d3",
   "metadata": {},
   "outputs": [
    {
     "data": {
      "text/plain": [
       "dict_keys(['label', 'original_label', 'bbox_min_x', 'bbox_min_y', 'bbox_min_z', 'bbox_max_x', 'bbox_max_y', 'bbox_max_z', 'bbox_width', 'bbox_height', 'bbox_depth', 'min_intensity', 'max_intensity', 'sum_intensity', 'area', 'mean_intensity', 'sum_intensity_times_x', 'mass_center_x', 'sum_intensity_times_y', 'mass_center_y', 'sum_intensity_times_z', 'mass_center_z', 'sum_x', 'centroid_x', 'sum_y', 'centroid_y', 'sum_z', 'centroid_z', 'sum_distance_to_centroid', 'mean_distance_to_centroid', 'sum_distance_to_mass_center', 'mean_distance_to_mass_center', 'standard_deviation_intensity', 'max_distance_to_centroid', 'max_distance_to_mass_center', 'mean_max_distance_to_centroid_ratio', 'mean_max_distance_to_mass_center_ratio'])"
      ]
     },
     "execution_count": 3,
     "metadata": {},
     "output_type": "execute_result"
    }
   ],
   "source": [
    "\n",
    "\n",
    "statistics = cle.statistics_of_labelled_pixels(image, labels)\n",
    "statistics.keys()\n",
    "\n"
   ]
  },
  {
   "cell_type": "code",
   "execution_count": null,
   "id": "8e9ca41d-356d-42ab-a0a8-3788e3b2b832",
   "metadata": {},
   "outputs": [],
   "source": []
  }
 ],
 "metadata": {
  "kernelspec": {
   "display_name": "Python 3 (ipykernel)",
   "language": "python",
   "name": "python3"
  },
  "language_info": {
   "codemirror_mode": {
    "name": "ipython",
    "version": 3
   },
   "file_extension": ".py",
   "mimetype": "text/x-python",
   "name": "python",
   "nbconvert_exporter": "python",
   "pygments_lexer": "ipython3",
   "version": "3.10.16"
  }
 },
 "nbformat": 4,
 "nbformat_minor": 5
}
