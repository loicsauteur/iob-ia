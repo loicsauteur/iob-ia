{
 "cells": [
  {
   "cell_type": "code",
   "execution_count": 33,
   "id": "8ff2534c-1b27-46f1-b772-3a47777af7d7",
   "metadata": {},
   "outputs": [
    {
     "name": "stdout",
     "output_type": "stream",
     "text": [
      "The autoreload extension is already loaded. To reload it, use:\n",
      "  %reload_ext autoreload\n"
     ]
    }
   ],
   "source": [
    "%load_ext autoreload\n",
    "%autoreload 2"
   ]
  },
  {
   "cell_type": "code",
   "execution_count": 2,
   "id": "22021836-34ff-454c-a8ab-4101c001cf78",
   "metadata": {},
   "outputs": [],
   "source": [
    "import iob_ia.utils.workflows2d as wf"
   ]
  },
  {
   "cell_type": "markdown",
   "id": "ed5f9c6d-4c83-424a-888e-fb5edc8c2191",
   "metadata": {},
   "source": [
    "### 1. Specify a path to an image"
   ]
  },
  {
   "cell_type": "code",
   "execution_count": 3,
   "id": "e4c7bcbc-6f73-47e4-8439-01929e3bff9a",
   "metadata": {},
   "outputs": [],
   "source": [
    "# For windows users: use \"/\" instead of \"\\\" for file paths!\n",
    "path = \"G:/20241120_IOB_Magdalena/20250520_TestClearing/Organoid 2/20250520_10x_Nq146um_405_488_640_01.vsi\""
   ]
  },
  {
   "cell_type": "markdown",
   "id": "0326ce69-28ce-4eb0-be87-48135b3312ca",
   "metadata": {},
   "source": [
    "### 2. Start by creating an object for checking an image using 2D segmentation\n",
    "I called the object \"bi\", and told it I want to segment 2 channels:\n",
    "- segment_channels=[1,3] means the 2nd and the 4th channels, since we use 0-based channel indexing"
   ]
  },
  {
   "cell_type": "code",
   "execution_count": 4,
   "id": "ffd0d5c5-7eca-4af0-ba52-d74584bc5d7c",
   "metadata": {},
   "outputs": [
    {
     "name": "stderr",
     "output_type": "stream",
     "text": [
      "G:\\20241120_IOB_Magdalena\\iob-ia\\src\\iob_ia\\utils\\workflows2d.py:81: UserWarning: Voxel size is missing. Image metadata is = PhysicalPixelSizes(Z=None, Y=0.6500000000000001, X=0.6500000000000001).Please provide the voxel-size via set_voxel_size((Z, Y, X)).\n",
      "  warnings.warn(\n",
      "G:\\20241120_IOB_Magdalena\\iob-ia\\src\\iob_ia\\utils\\workflows2d.py:150: UserWarning: You requested segmentations for channels [1, 3]. But your image has only 3 channels. Set the channels to segment using 0-indexing for channel numbers. With e.g. set_segment_channels([1, 2]) for the last 2 channels of a 3-channel image.\n",
      "  warnings.warn(\n"
     ]
    }
   ],
   "source": [
    "# We create an object for 2D segmentation and we'll tell it, which channels need to be segmented\n",
    "bi = wf.Iob2DImageCheck(path=path, segment_channels=[1,3])"
   ]
  },
  {
   "cell_type": "markdown",
   "id": "6e093d16-ecc6-4e6f-99a1-f2f88794316d",
   "metadata": {},
   "source": [
    "I got two warnings, which need to be taken care of:\n",
    "1. somehow the image metada is incorrect, actually it misses the pixel size in the Z dimension (it says 'None')\n",
    "2. I requested to segment the 2nd and 4th channel, but there are only 3 channels in total\n",
    "Let's correct it:"
   ]
  },
  {
   "cell_type": "code",
   "execution_count": 5,
   "id": "b7b3a79a-47cf-4cd3-aa68-9b1436d7aff4",
   "metadata": {},
   "outputs": [
    {
     "name": "stderr",
     "output_type": "stream",
     "text": [
      "G:\\20241120_IOB_Magdalena\\iob-ia\\src\\iob_ia\\utils\\workflows2d.py:150: UserWarning: You requested segmentations for channels [1, 3]. But your image has only 3 channels. Set the channels to segment using 0-indexing for channel numbers. With e.g. set_segment_channels([1, 2]) for the last 2 channels of a 3-channel image.\n",
      "  warnings.warn(\n"
     ]
    }
   ],
   "source": [
    "# Specify the voxel size (Z, Y, X)\n",
    "bi.set_voxel_size((1.46, 0.65, 0.65))"
   ]
  },
  {
   "cell_type": "code",
   "execution_count": 6,
   "id": "e3a82e88-d4dd-4f3e-ab0a-d59d28586b89",
   "metadata": {},
   "outputs": [],
   "source": [
    "# Now, indicate to segment the 2nd and 3rd channel\n",
    "bi.set_segment_channels([1,2])"
   ]
  },
  {
   "cell_type": "markdown",
   "id": "3b15a50e-256c-4e92-bc6e-cbecbf7ff191",
   "metadata": {},
   "source": [
    "### 3. Let's analyse the image, this will take some time and we'll see a lot of information"
   ]
  },
  {
   "cell_type": "code",
   "execution_count": 11,
   "id": "b1c12dbc-e4cc-4c25-b9f3-3cf129ebcac8",
   "metadata": {},
   "outputs": [
    {
     "name": "stdout",
     "output_type": "stream",
     "text": [
      "Loading image to memory...\n",
      "2025-09-08 10:22:00,021 [INFO] ** TORCH CUDA version installed and working. **\n",
      "creating new log file\n",
      "2025-09-08 10:22:00,023 [INFO] WRITING LOG OUTPUT TO C:\\Users\\Microscopy\\.cellpose\\run.log\n",
      "2025-09-08 10:22:00,023 [INFO] \n",
      "cellpose version: \t4.0.6 \n",
      "platform:       \twin32 \n",
      "python version: \t3.11.13 \n",
      "torch version:  \t2.8.0+cu126\n",
      ">>> GPU activated: True\n",
      "2025-09-08 10:22:00,024 [WARNING] model_type argument is not used in v4.0.1+. Ignoring this argument...\n",
      "2025-09-08 10:22:00,026 [INFO] ** TORCH CUDA version installed and working. **\n",
      "2025-09-08 10:22:00,027 [INFO] >>>> using GPU (CUDA)\n",
      "2025-09-08 10:22:02,295 [INFO] >>>> loading model C:\\Users\\Microscopy\\.cellpose\\models\\cpsam\n",
      "2025-09-08 10:22:13,464 [WARNING] Resizing is depricated in v4.0.1+\n",
      "2025-09-08 10:22:23,874 [WARNING] Resizing is depricated in v4.0.1+\n",
      "2025-09-08 10:22:34,443 [WARNING] Resizing is depricated in v4.0.1+\n",
      "2025-09-08 10:22:45,095 [WARNING] Resizing is depricated in v4.0.1+\n",
      "2025-09-08 10:22:55,803 [WARNING] Resizing is depricated in v4.0.1+\n",
      "2025-09-08 10:23:06,613 [WARNING] Resizing is depricated in v4.0.1+\n",
      "2025-09-08 10:23:17,498 [WARNING] Resizing is depricated in v4.0.1+\n",
      "2025-09-08 10:23:28,406 [WARNING] Resizing is depricated in v4.0.1+\n",
      "2025-09-08 10:23:39,363 [WARNING] Resizing is depricated in v4.0.1+\n",
      "2025-09-08 10:23:50,455 [WARNING] Resizing is depricated in v4.0.1+\n",
      "2025-09-08 10:24:01,235 [WARNING] Resizing is depricated in v4.0.1+\n",
      "2025-09-08 10:24:11,879 [WARNING] Resizing is depricated in v4.0.1+\n",
      "2025-09-08 10:24:22,521 [WARNING] Resizing is depricated in v4.0.1+\n",
      "2025-09-08 10:24:33,081 [WARNING] Resizing is depricated in v4.0.1+\n",
      "2025-09-08 10:24:33,438 [INFO] ** TORCH CUDA version installed and working. **\n",
      "creating new log file\n",
      "2025-09-08 10:24:33,441 [INFO] WRITING LOG OUTPUT TO C:\\Users\\Microscopy\\.cellpose\\run.log\n",
      "2025-09-08 10:24:33,441 [INFO] \n",
      "cellpose version: \t4.0.6 \n",
      "platform:       \twin32 \n",
      "python version: \t3.11.13 \n",
      "torch version:  \t2.8.0+cu126\n",
      ">>> GPU activated: True\n",
      "2025-09-08 10:24:33,442 [WARNING] model_type argument is not used in v4.0.1+. Ignoring this argument...\n",
      "2025-09-08 10:24:33,442 [INFO] ** TORCH CUDA version installed and working. **\n",
      "2025-09-08 10:24:33,443 [INFO] >>>> using GPU (CUDA)\n",
      "2025-09-08 10:24:34,688 [INFO] >>>> loading model C:\\Users\\Microscopy\\.cellpose\\models\\cpsam\n",
      "2025-09-08 10:24:45,761 [WARNING] Resizing is depricated in v4.0.1+\n",
      "2025-09-08 10:24:56,646 [WARNING] Resizing is depricated in v4.0.1+\n",
      "2025-09-08 10:25:07,679 [WARNING] Resizing is depricated in v4.0.1+\n",
      "2025-09-08 10:25:18,822 [WARNING] Resizing is depricated in v4.0.1+\n",
      "2025-09-08 10:25:29,650 [WARNING] Resizing is depricated in v4.0.1+\n",
      "2025-09-08 10:25:40,669 [WARNING] Resizing is depricated in v4.0.1+\n",
      "2025-09-08 10:25:51,767 [WARNING] Resizing is depricated in v4.0.1+\n",
      "2025-09-08 10:26:02,670 [WARNING] Resizing is depricated in v4.0.1+\n",
      "2025-09-08 10:26:13,664 [WARNING] Resizing is depricated in v4.0.1+\n",
      "2025-09-08 10:26:24,826 [WARNING] Resizing is depricated in v4.0.1+\n",
      "2025-09-08 10:26:35,775 [WARNING] Resizing is depricated in v4.0.1+\n",
      "2025-09-08 10:26:46,886 [WARNING] Resizing is depricated in v4.0.1+\n",
      "2025-09-08 10:26:57,863 [WARNING] Resizing is depricated in v4.0.1+\n",
      "2025-09-08 10:27:08,519 [WARNING] Resizing is depricated in v4.0.1+\n",
      ">>Measuring properties of channel: 1\n",
      ">>Filtering...\n",
      "For channel '488 C': Average of object mean intensities: 680.4318736023108. Found threshold (divided by 3) = 226.8106245341036\n",
      "Filtering on projected_area between 42 and 233\n",
      "Removed 276 labels. Remaining labels: 6006 (previously 6282)\n",
      "Filtering on intensity_mean between 226.8106245341036 and inf\n",
      "Removed 232 labels. Remaining labels: 6050 (previously 6282)\n",
      ">>Measuring properties of channel: 2\n",
      ">>Filtering...\n",
      "For channel '640 C': Average of object mean intensities: 472.0651575369571. Found threshold (divided by 3) = 157.35505251231902\n",
      "Filtering on projected_area between 42 and 233\n",
      "Removed 1091 labels. Remaining labels: 6242 (previously 7333)\n",
      "Filtering on intensity_mean between 157.35505251231902 and inf\n",
      "Removed 146 labels. Remaining labels: 7187 (previously 7333)\n",
      "-------------- Results --------------\n",
      "            Channel  Cellpose objects  Filtered objects  Double-positive objects\n",
      "0  Channel 1: 488 C              6282              5813                     2448\n",
      "1  Channel 2: 640 C              7333              6145                     2700\n",
      "Channel 1: 488 C 'double-positve objects'= Channel 1: 488 C objects that have 50% overlap with Channel 2: 640 C objects.\n",
      "Channel 2: 640 C 'double-positve objects'= Channel 2: 640 C objects that have 50% overlap with Channel 1: 488 C objects.\n",
      "-------------------------------------\n"
     ]
    }
   ],
   "source": [
    "bi.analyse()"
   ]
  },
  {
   "cell_type": "markdown",
   "id": "0c07cd92-856b-44fc-a5ff-70f2c26bc888",
   "metadata": {},
   "source": [
    "----\n",
    "### Results\n",
    "#### About the analysis\n",
    "Cellpose object detection is good, but not great. It needs some filtering:\n",
    "I hardcoded the size filtering to 42-233um^2 (2D area, empiric values).\n",
    "Additionally, I also wanted to exclude object with low fluorescence signal. Therfore, the mean intensity of all objects is averaged and objects with mean intensities below the average of \"all object mean intensity\" are filtered out (per channel).\n",
    "\n",
    "Checking for double positivity is done only if exactly 2 channels were segmented. It will check if objects from one channel have at least 50% overlap with objects of the other channel.\n",
    "\n",
    "#### Result tabel\n",
    "Indicates the counts."
   ]
  },
  {
   "cell_type": "code",
   "execution_count": 12,
   "id": "3ece28ff-4fb7-472a-95af-3dfc3ce0cc23",
   "metadata": {},
   "outputs": [
    {
     "name": "stderr",
     "output_type": "stream",
     "text": [
      "[autoreload of fsspec.spec failed: Traceback (most recent call last):\n",
      "  File \"C:\\Users\\Microscopy\\.conda\\envs\\iob-ia\\Lib\\site-packages\\IPython\\extensions\\autoreload.py\", line 325, in check\n",
      "    superreload(m, reload, self.old_objects)\n",
      "  File \"C:\\Users\\Microscopy\\.conda\\envs\\iob-ia\\Lib\\site-packages\\IPython\\extensions\\autoreload.py\", line 621, in superreload\n",
      "    update_generic(old_obj, new_obj)\n",
      "  File \"C:\\Users\\Microscopy\\.conda\\envs\\iob-ia\\Lib\\site-packages\\IPython\\extensions\\autoreload.py\", line 447, in update_generic\n",
      "    update(a, b)\n",
      "  File \"C:\\Users\\Microscopy\\.conda\\envs\\iob-ia\\Lib\\site-packages\\IPython\\extensions\\autoreload.py\", line 415, in update_class\n",
      "    update_instances(old, new)\n",
      "  File \"C:\\Users\\Microscopy\\.conda\\envs\\iob-ia\\Lib\\site-packages\\IPython\\extensions\\autoreload.py\", line 373, in update_instances\n",
      "    object.__setattr__(ref, \"__class__\", new)\n",
      "TypeError: can't apply this __setattr__ to _Cached object\n",
      "]\n"
     ]
    },
    {
     "data": {
      "text/html": [
       "<div>\n",
       "<style scoped>\n",
       "    .dataframe tbody tr th:only-of-type {\n",
       "        vertical-align: middle;\n",
       "    }\n",
       "\n",
       "    .dataframe tbody tr th {\n",
       "        vertical-align: top;\n",
       "    }\n",
       "\n",
       "    .dataframe thead th {\n",
       "        text-align: right;\n",
       "    }\n",
       "</style>\n",
       "<table border=\"1\" class=\"dataframe\">\n",
       "  <thead>\n",
       "    <tr style=\"text-align: right;\">\n",
       "      <th></th>\n",
       "      <th>Channel</th>\n",
       "      <th>Cellpose objects</th>\n",
       "      <th>Filtered objects</th>\n",
       "      <th>Double-positive objects</th>\n",
       "    </tr>\n",
       "  </thead>\n",
       "  <tbody>\n",
       "    <tr>\n",
       "      <th>0</th>\n",
       "      <td>Channel 1: 488 C</td>\n",
       "      <td>6282</td>\n",
       "      <td>5813</td>\n",
       "      <td>2448</td>\n",
       "    </tr>\n",
       "    <tr>\n",
       "      <th>1</th>\n",
       "      <td>Channel 2: 640 C</td>\n",
       "      <td>7333</td>\n",
       "      <td>6145</td>\n",
       "      <td>2700</td>\n",
       "    </tr>\n",
       "  </tbody>\n",
       "</table>\n",
       "</div>"
      ],
      "text/plain": [
       "            Channel  Cellpose objects  Filtered objects  \\\n",
       "0  Channel 1: 488 C              6282              5813   \n",
       "1  Channel 2: 640 C              7333              6145   \n",
       "\n",
       "   Double-positive objects  \n",
       "0                     2448  \n",
       "1                     2700  "
      ]
     },
     "execution_count": 12,
     "metadata": {},
     "output_type": "execute_result"
    }
   ],
   "source": [
    "# A nicer visualisation of the table can be gotten like:\n",
    "bi.result_table"
   ]
  },
  {
   "cell_type": "markdown",
   "id": "2db5e1ab-b665-452a-89c1-0a104281eecd",
   "metadata": {},
   "source": [
    "### Save the results\n",
    "Will save the masks, image channels (that were segmented) and the result table."
   ]
  },
  {
   "cell_type": "code",
   "execution_count": 9,
   "id": "64e906d2-07bf-4c90-8aa8-6f330d988e24",
   "metadata": {},
   "outputs": [
    {
     "name": "stdout",
     "output_type": "stream",
     "text": [
      "Saved labels to: G:/20241120_IOB_Magdalena/20250520_TestClearing/Organoid 2\\20250520_10x_Nq146um_405_488_640_01_IOB-2D-workflow_cp-mask_ch1-488 C.tif\n",
      "Saved mask image to G:/20241120_IOB_Magdalena/20250520_TestClearing/Organoid 2\\20250520_10x_Nq146um_405_488_640_01_IOB-2D-workflow_cp-mask_ch1-488 C.tif.\n",
      "Saved labels to: G:/20241120_IOB_Magdalena/20250520_TestClearing/Organoid 2\\20250520_10x_Nq146um_405_488_640_01_IOB-2D-workflow_cp-mask_ch2-640 C.tif\n",
      "Saved mask image to G:/20241120_IOB_Magdalena/20250520_TestClearing/Organoid 2\\20250520_10x_Nq146um_405_488_640_01_IOB-2D-workflow_cp-mask_ch2-640 C.tif.\n",
      "Saved labels to: G:/20241120_IOB_Magdalena/20250520_TestClearing/Organoid 2\\20250520_10x_Nq146um_405_488_640_01_IOB-2D-workflow_filtered-mask_ch1-488 C.tif\n",
      "Saved mask image to G:/20241120_IOB_Magdalena/20250520_TestClearing/Organoid 2\\20250520_10x_Nq146um_405_488_640_01_IOB-2D-workflow_filtered-mask_ch1-488 C.tif.\n",
      "Saved labels to: G:/20241120_IOB_Magdalena/20250520_TestClearing/Organoid 2\\20250520_10x_Nq146um_405_488_640_01_IOB-2D-workflow_filtered-mask_ch2-640 C.tif\n",
      "Saved mask image to G:/20241120_IOB_Magdalena/20250520_TestClearing/Organoid 2\\20250520_10x_Nq146um_405_488_640_01_IOB-2D-workflow_filtered-mask_ch2-640 C.tif.\n",
      "Saved labels to: G:/20241120_IOB_Magdalena/20250520_TestClearing/Organoid 2\\20250520_10x_Nq146um_405_488_640_01_IOB-2D-workflow_ch1-488 C_objects_pos_for_ch2-640 C_objects_mask.tif\n",
      "Saved mask image to G:/20241120_IOB_Magdalena/20250520_TestClearing/Organoid 2\\20250520_10x_Nq146um_405_488_640_01_IOB-2D-workflow_ch1-488 C_objects_pos_for_ch2-640 C_objects_mask.tif.\n",
      "Saved labels to: G:/20241120_IOB_Magdalena/20250520_TestClearing/Organoid 2\\20250520_10x_Nq146um_405_488_640_01_IOB-2D-workflow_ch2-640 C_objects_pos_for_ch1-488 C_objects_mask.tif\n",
      "Saved mask image to G:/20241120_IOB_Magdalena/20250520_TestClearing/Organoid 2\\20250520_10x_Nq146um_405_488_640_01_IOB-2D-workflow_ch2-640 C_objects_pos_for_ch1-488 C_objects_mask.tif.\n",
      "Saved image to: G:/20241120_IOB_Magdalena/20250520_TestClearing/Organoid 2\\20250520_10x_Nq146um_405_488_640_01_IOB-2D-workflow_image_ch1-488 C.tif\n",
      "Saved image (channel) to G:/20241120_IOB_Magdalena/20250520_TestClearing/Organoid 2\\20250520_10x_Nq146um_405_488_640_01_IOB-2D-workflow_image_ch1-488 C.tif.\n",
      "Saved image to: G:/20241120_IOB_Magdalena/20250520_TestClearing/Organoid 2\\20250520_10x_Nq146um_405_488_640_01_IOB-2D-workflow_image_ch2-640 C.tif\n",
      "Saved image (channel) to G:/20241120_IOB_Magdalena/20250520_TestClearing/Organoid 2\\20250520_10x_Nq146um_405_488_640_01_IOB-2D-workflow_image_ch2-640 C.tif.\n"
     ]
    }
   ],
   "source": [
    "bi.save_results()"
   ]
  },
  {
   "cell_type": "markdown",
   "id": "5fc165d7-6f54-44dc-85e5-4e7f347e906c",
   "metadata": {},
   "source": [
    "----\n",
    "### Retrieve results directly\n",
    "You can get the results from the \"bi\" object directly (e.g. for visualisation in napari), using following functions:\n",
    "- get_channel() -> The segmented channel image (stack of maxIP substacks)\n",
    "- get_cp_mask() -> The raw cellpose segmentation\n",
    "- get_filtered_mask() -> The filtered cell objects\n",
    "- get_double_pos_mask() -> The double positive objects\n",
    "\n",
    "each of these functions has a channel parameter, i.e. the channel you want to get. Basically, provide the same 0-based channel index you used at the beginning, for defining which channels to segment.\n",
    "\n",
    "It will return 2 values:\n",
    "1. image data\n",
    "2. voxel size of the image file"
   ]
  },
  {
   "cell_type": "code",
   "execution_count": 13,
   "id": "a3ec1004-57e9-4bbe-8060-7ff828aad3d0",
   "metadata": {},
   "outputs": [],
   "source": [
    "image, sizeOfVoxel = bi.get_channel(channel=2)"
   ]
  },
  {
   "cell_type": "code",
   "execution_count": 14,
   "id": "94304307-083e-42e5-bf3c-693eba5c40bc",
   "metadata": {},
   "outputs": [],
   "source": [
    "cpMask, sizeOfVoxel = bi.get_cp_mask(channel=1)"
   ]
  },
  {
   "cell_type": "code",
   "execution_count": 15,
   "id": "7e839e85-c380-4df3-9316-64cb8cb787dc",
   "metadata": {},
   "outputs": [],
   "source": [
    "fMask, sizeOfVoxel = bi.get_filtered_mask(channel=1)"
   ]
  },
  {
   "cell_type": "code",
   "execution_count": 16,
   "id": "61b0fd3b-eb5b-45a5-924e-434b5a9f4740",
   "metadata": {},
   "outputs": [],
   "source": [
    "dpMask, sizeOfVoxel = bi.get_double_pos_mask(channel=1)"
   ]
  },
  {
   "cell_type": "markdown",
   "id": "6739d842-7d8d-492b-acfe-c6692186224c",
   "metadata": {},
   "source": [
    "----\n",
    "## Viszalise in napari\n",
    "After retrieving the image data, we can visualise it in napari. E.e.:"
   ]
  },
  {
   "cell_type": "code",
   "execution_count": 46,
   "id": "d7854899-ef65-4055-b2e7-3bd91d8a5522",
   "metadata": {},
   "outputs": [],
   "source": [
    "import iob_ia.utils.visualise as vis"
   ]
  },
  {
   "cell_type": "code",
   "execution_count": 48,
   "id": "161a79c8-d004-4f95-a791-bed1a5504deb",
   "metadata": {},
   "outputs": [],
   "source": [
    "# Adding a channel image\n",
    "img_gfp, sizeOfVoxel = bi.get_channel(channel=2)\n",
    "vis.add_image(img_gfp, name=\"GFP_channel\", colormap=\"green\", scale=sizeOfVoxel)"
   ]
  },
  {
   "cell_type": "code",
   "execution_count": 49,
   "id": "1ece0fd7-0098-4b47-aeb0-df04560eda55",
   "metadata": {},
   "outputs": [
    {
     "name": "stdout",
     "output_type": "stream",
     "text": [
      "2025-09-08 11:25:12,180 [INFO] No OpenGL_accelerate module loaded: No module named 'OpenGL_accelerate'\n"
     ]
    }
   ],
   "source": [
    "# Add a segmentation mask\n",
    "filtered_gfp, sizeOfVoxel = bi.get_filtered_mask(channel=2)\n",
    "vis.add_labels(filtered_gfp, name=\"Filtered_GFP_objects\", scale=sizeOfVoxel)"
   ]
  },
  {
   "cell_type": "code",
   "execution_count": null,
   "id": "d4df00da-93c8-4675-9218-9494848e968d",
   "metadata": {},
   "outputs": [],
   "source": []
  }
 ],
 "metadata": {
  "kernelspec": {
   "display_name": "Python 3 (ipykernel)",
   "language": "python",
   "name": "python3"
  },
  "language_info": {
   "codemirror_mode": {
    "name": "ipython",
    "version": 3
   },
   "file_extension": ".py",
   "mimetype": "text/x-python",
   "name": "python",
   "nbconvert_exporter": "python",
   "pygments_lexer": "ipython3",
   "version": "3.11.13"
  }
 },
 "nbformat": 4,
 "nbformat_minor": 5
}
