{
 "cells": [
  {
   "cell_type": "code",
   "execution_count": 3,
   "id": "56b68281-8567-4eed-91b1-24012fd7cd8d",
   "metadata": {},
   "outputs": [],
   "source": [
    "%load_ext autoreload\n",
    "%autoreload 2"
   ]
  },
  {
   "cell_type": "code",
   "execution_count": 4,
   "id": "31838553-fe7a-4bc6-a243-54810b993d27",
   "metadata": {},
   "outputs": [],
   "source": [
    "from time import time\n",
    "\n",
    "import bioio_nd2\n",
    "import numpy as np\n",
    "from bioio import BioImage\n",
    "from cellpose.contrib.distributed_segmentation import (\n",
    "    distributed_eval,\n",
    "    numpy_array_to_zarr,\n",
    "    process_block,\n",
    ")\n",
    "\n",
    "from iob_ia.utils import segment, visualise"
   ]
  },
  {
   "cell_type": "code",
   "execution_count": 6,
   "id": "a68bb60c-a1b7-41f4-85cd-1f762bca0792",
   "metadata": {},
   "outputs": [],
   "source": [
    "import zarr\n",
    "\n",
    "path_base = \"\"\n",
    "\n",
    "z = zarr.open(path_base + 'test_zarr.zarr')\n",
    "s = zarr.open(path_base + 'test_zarr_segmented.zarr')\n",
    "#visualise.add_image(z, name='img')\n",
    "#visualise.add_labels(s, name='seg')"
   ]
  },
  {
   "cell_type": "markdown",
   "id": "1745e707-cb7a-4071-9668-ce605fc72c0b",
   "metadata": {},
   "source": [
    "import dask as da\n",
    "start = time()\n",
    "zc = da.array.from_zarr(path_base + 'test_zarr.zarr').compute()\n",
    "sc = da.array.from_zarr(path_base + 'test_zarr_segmented.zarr').compute()\n",
    "print('took:', time()-start)\n",
    "#print(zc)"
   ]
  },
  {
   "cell_type": "code",
   "execution_count": 5,
   "id": "8202f8ad-0393-4f4a-bf31-546fc01b515c",
   "metadata": {},
   "outputs": [
    {
     "name": "stdout",
     "output_type": "stream",
     "text": [
      "took: 2815.7092139720917\n",
      "{'label': array([    1,     2,     3, ..., 34246, 34247, 34248]), 'area': array([ 533., 1426., 7764., ...,   56.,   74.,  104.])}\n"
     ]
    }
   ],
   "source": [
    "from skimage.measure import regionprops_table\n",
    "\n",
    "start = time()\n",
    "props = regionprops_table(s, z, properties=('label', 'area'))\n",
    "print('took:', time()-start)\n",
    "print(props)"
   ]
  },
  {
   "cell_type": "code",
   "execution_count": 7,
   "id": "d9c60f79-98e2-43a6-b136-1c02c116c9bc",
   "metadata": {},
   "outputs": [
    {
     "name": "stdout",
     "output_type": "stream",
     "text": [
      "34248\n"
     ]
    }
   ],
   "source": [
    "print(len(props['label']))"
   ]
  },
  {
   "cell_type": "code",
   "execution_count": 1,
   "id": "cec52cac-3c29-418e-8007-665d2b8dbc51",
   "metadata": {},
   "outputs": [
    {
     "name": "stderr",
     "output_type": "stream",
     "text": [
      "C:\\Users\\Microscopy\\.conda\\envs\\iob-ia\\lib\\site-packages\\cupy\\_environment.py:217: UserWarning: CUDA path could not be detected. Set CUDA_PATH environment variable if CuPy fails to load.\n",
      "  warnings.warn(\n"
     ]
    }
   ],
   "source": []
  },
  {
   "cell_type": "markdown",
   "id": "616a834c-b6e7-4ea8-abd1-ff8685946ccf",
   "metadata": {},
   "source": [
    "!! Still uses the cpu not gpu"
   ]
  },
  {
   "cell_type": "code",
   "execution_count": 2,
   "id": "a94194cb-5973-491e-8c24-411db073fe22",
   "metadata": {},
   "outputs": [],
   "source": [
    "from cucim.skimage.measure import regionprops_table as r_t"
   ]
  },
  {
   "cell_type": "code",
   "execution_count": 7,
   "id": "07660588-0e6f-4328-a1ae-11f84f10f059",
   "metadata": {},
   "outputs": [
    {
     "name": "stdout",
     "output_type": "stream",
     "text": [
      "took: 2789.7874755859375\n",
      "{'label': array([    1,     2,     3, ..., 34246, 34247, 34248]), 'area': array([ 533., 1426., 7764., ...,   56.,   74.,  104.])}\n"
     ]
    }
   ],
   "source": [
    "start = time()\n",
    "props_cupy = r_t(s, z, properties=('label', 'area'))\n",
    "print('took:', time()-start)\n",
    "print(props_cupy)"
   ]
  },
  {
   "cell_type": "code",
   "execution_count": null,
   "id": "e26797af-ba7b-4deb-81ef-05a4695da06d",
   "metadata": {},
   "outputs": [],
   "source": []
  },
  {
   "cell_type": "markdown",
   "id": "3f28ac32-c64a-4b60-9d92-107aa2047f29",
   "metadata": {},
   "source": [
    "## Create a zarr file (1 channel)"
   ]
  },
  {
   "cell_type": "code",
   "execution_count": 5,
   "id": "733dfae3-9e73-49b2-801b-6f9b979728de",
   "metadata": {},
   "outputs": [],
   "source": [
    "path_base = 'G:/20250211_MarcDu/'\n",
    "path_nd2 = path_base + '24 C3 10X Large Image Z.nd2'"
   ]
  },
  {
   "cell_type": "code",
   "execution_count": null,
   "id": "6adc0f08-c419-4edd-922d-4d6132583b5e",
   "metadata": {},
   "outputs": [],
   "source": [
    "img_nd2 = BioImage(path_nd2, reader=bioio_nd2.Reader)\n",
    "print(img_nd2.shape)\n"
   ]
  },
  {
   "cell_type": "code",
   "execution_count": null,
   "id": "47007558-5327-45f2-83e9-50911e370ebe",
   "metadata": {},
   "outputs": [],
   "source": [
    "start = time()\n",
    "dapi = np.squeeze(img_nd2.data[0])[0]\n",
    "print(dapi.shape)\n",
    "print('took:', time() - start)"
   ]
  },
  {
   "cell_type": "code",
   "execution_count": null,
   "id": "e913f089-0eeb-447c-9731-25190fa92ba5",
   "metadata": {},
   "outputs": [],
   "source": [
    "# check the file size and RAM\n",
    "from sys import getsizeof\n",
    "\n",
    "import psutil\n",
    "\n",
    "print(getsizeof(dapi))\n",
    "print(dapi.nbytes)\n",
    "print(psutil.virtual_memory())"
   ]
  },
  {
   "cell_type": "code",
   "execution_count": null,
   "id": "6b8f4b44-750b-410d-a504-fad9a383e928",
   "metadata": {},
   "outputs": [],
   "source": [
    "#del img_nd2\n",
    "psutil.virtual_memory().used/psutil.virtual_memory().total"
   ]
  },
  {
   "cell_type": "code",
   "execution_count": null,
   "id": "89ff4f78-d5a5-4a34-a613-cded7be8eaed",
   "metadata": {},
   "outputs": [],
   "source": [
    "print(psutil.virtual_memory().total / 1024**3)\n",
    "print(psutil.virtual_memory().total *1.0**-9)"
   ]
  },
  {
   "cell_type": "code",
   "execution_count": null,
   "id": "07145f25-8a1e-407a-899a-865795788297",
   "metadata": {},
   "outputs": [],
   "source": [
    "start = time()\n",
    "chunks=(63,2048,2048)\n",
    "z = numpy_array_to_zarr(path_base + 'test_zarr.zarr', np.squeeze(img_nd2.data)[0], chunks=chunks)\n",
    "print(z.shape)\n",
    "print('took:', time() - start)\n",
    "\n",
    "#data_numpy = tifffile.imread('/path/to/image.tiff')\n",
    "#data_zarr = numpy_array_to_zarr('/path/to/output.zarr', data_numpy, chunks=(256, 256, 256))\n",
    "#del data_numpy  # assumption is data is large, don't keep in memory copy around"
   ]
  },
  {
   "cell_type": "code",
   "execution_count": null,
   "id": "da322af4-4a12-4940-8d4e-9319cfdfa12d",
   "metadata": {},
   "outputs": [],
   "source": [
    "del dapi"
   ]
  },
  {
   "cell_type": "code",
   "execution_count": null,
   "id": "e713e9d3-fb07-456c-b4c4-8532f6f86264",
   "metadata": {},
   "outputs": [],
   "source": [
    "# predict\n",
    "model_kwargs = {'gpu':True, 'model_type':'cyto3'}\n",
    "eval_kwargs = {\n",
    "    'diameter':12,\n",
    "    'z_axis':0,\n",
    "    'channels':[0,0],\n",
    "    'do_3D':True,\n",
    "}\n",
    "cluster_kwargs = {\n",
    "    'n_workers':1,  # for 1 GPU\n",
    "    'ncpus':24,\n",
    "    'memory_limit':'196GB',\n",
    "    'threads_per_worker':1,\n",
    "}\n",
    "\n"
   ]
  },
  {
   "cell_type": "code",
   "execution_count": null,
   "id": "8e8bf215-3d8a-48d0-9ade-154254db5a1e",
   "metadata": {
    "scrolled": true
   },
   "outputs": [],
   "source": [
    "# Test run on single block\n",
    "start = time()\n",
    "\n",
    "starts = (0, 4500, 2500)\n",
    "blocksize = chunks\n",
    "overlap = 0\n",
    "crop = tuple(slice(s-overlap, s+b+overlap) for s, b in zip(starts, blocksize))\n",
    "#crop = z[:, starts[1]:starts[1]+blocksize[1], starts[2]:starts[2]+blocksize[2]]\n",
    "print('crop tuple=', crop)\n",
    "\n",
    "segments, boxes, box_ids = process_block(\n",
    "    block_index=(0,0,0), # when test_mode=True this is just a dummy value\n",
    "    crop=crop,\n",
    "    input_zarr=z,\n",
    "    model_kwargs=model_kwargs,\n",
    "    eval_kwargs=eval_kwargs,\n",
    "    blocksize=blocksize,\n",
    "    overlap=overlap,\n",
    "    output_zarr=None,\n",
    "    test_mode=True,\n",
    ")\n",
    "\n",
    "print('took:', time() - start)"
   ]
  },
  {
   "cell_type": "code",
   "execution_count": null,
   "id": "af2dadac-3d98-456b-bdb7-7a6e7c84519e",
   "metadata": {},
   "outputs": [],
   "source": [
    "# visualise the test\n",
    "img_crop = z[:, starts[1]:starts[1]+blocksize[1], starts[2]:starts[2]+blocksize[2]]\n",
    "visualise.add_image(img_crop, name='image_crop', scale=img_nd2.physical_pixel_sizes)\n",
    "visualise.add_labels(segments, name='test_seg', scale=img_nd2.physical_pixel_sizes)"
   ]
  },
  {
   "cell_type": "code",
   "execution_count": null,
   "id": "daf84ee4-0efc-45c5-87ae-c7c085f3775d",
   "metadata": {},
   "outputs": [],
   "source": [
    "# Full image run\n",
    "start = time()\n",
    "\n",
    "mask, boxes = distributed_eval(\n",
    "    input_zarr=z,\n",
    "    blocksize=chunks,\n",
    "    write_path=path_base + 'test_zarr_segmented.zarr',\n",
    "    model_kwargs=model_kwargs,\n",
    "    eval_kwargs=eval_kwargs,\n",
    "    cluster_kwargs=cluster_kwargs,\n",
    ")\n",
    "\n",
    "print('took:', time() - start)"
   ]
  },
  {
   "cell_type": "code",
   "execution_count": null,
   "id": "f82b3adf-e131-497e-8f47-f67297a81bd1",
   "metadata": {},
   "outputs": [],
   "source": [
    "mask.shape"
   ]
  },
  {
   "cell_type": "code",
   "execution_count": null,
   "id": "ac6a3e21-b35e-407a-9fd4-ec20454fdb45",
   "metadata": {},
   "outputs": [],
   "source": [
    "# add multi channel nd2\n",
    "visualise.add_multichannel_image(\n",
    "    img=np.squeeze(img_nd2.xarray_dask_data), name='image',\n",
    "    channel_names=img_nd2.channel_names, scale=img_nd2.physical_pixel_sizes\n",
    ")\n",
    "visualise.add_labels(\n",
    "    mask, name='nuclei', scale=img_nd2.physical_pixel_sizes,\n",
    ")"
   ]
  },
  {
   "cell_type": "code",
   "execution_count": null,
   "id": "e9cd6d55-2467-46ac-ae08-45e95ee42b19",
   "metadata": {},
   "outputs": [],
   "source": []
  },
  {
   "cell_type": "markdown",
   "id": "5d28fca9-ffbc-4695-8bca-dffa175b60bd",
   "metadata": {},
   "source": [
    "# To predict zarr arrays I need to use:\n",
    "\n",
    "see here: https://cellpose.readthedocs.io/en/latest/distributed.html#examples\n",
    "\n",
    "```python\n",
    "from cellpose.contrib.distributed_segmentation import distributed_eval\n",
    "\n",
    " # parameterize cellpose however you like\n",
    " model_kwargs = {'gpu':True, 'model_type':'cyto3'}  # can also use 'pretrained_model'\n",
    " eval_kwargs = {'diameter':30,\n",
    "                'z_axis':0,\n",
    "                'channels':[0,0],\n",
    "                'do_3D':True,\n",
    " }\n",
    "\n",
    " # define compute resources for local workstation\n",
    " cluster_kwargs = {\n",
    "     'n_workers':1,    # if you only have 1 gpu, then 1 worker is the right choice\n",
    "     'ncpus':8,\n",
    "     'memory_limit':'64GB',\n",
    "     'threads_per_worker':1,\n",
    " }\n",
    "\n",
    " # run segmentation\n",
    " # outputs:\n",
    " #     segments: zarr array containing labels\n",
    " #     boxes: list of bounding boxes around all labels (very useful for navigating big data)\n",
    " segments, boxes = distributed_eval(\n",
    "     input_zarr=large_zarr_array,\n",
    "     blocksize=(256, 256, 256),\n",
    "     write_path='/where/zarr/array/containing/results/will/be/written.zarr',\n",
    "     model_kwargs=model_kwargs,\n",
    "     eval_kwargs=eval_kwargs,\n",
    "     cluster_kwargs=cluster_kwargs,\n",
    " )\n",
    "```"
   ]
  },
  {
   "cell_type": "code",
   "execution_count": null,
   "id": "d4caab9a-1aa8-478a-ba5d-8a959125d21f",
   "metadata": {},
   "outputs": [],
   "source": [
    "z.squeeze()"
   ]
  },
  {
   "cell_type": "markdown",
   "id": "b85dcf40-6fbb-4020-a79c-c263ec7770d3",
   "metadata": {},
   "source": [
    "import zarr\n",
    "store = zarr.storage.MemoryStore()\n",
    "\n",
    "dapi = None\n",
    "\n",
    "z = zarr.create(shape=dapi.shape, chunks=(1,500,500), store=store, dtype=img_nd2.dtype)\n",
    "print(z.squeeze())\n"
   ]
  },
  {
   "cell_type": "code",
   "execution_count": null,
   "id": "2dec84f3-f5f5-4a87-8b27-11af908fd1f6",
   "metadata": {
    "scrolled": true
   },
   "outputs": [],
   "source": [
    "dapi = None\n",
    "mask_cp = segment.segment_3d_cellpose(\n",
    "    dapi\n",
    ")\n",
    "print(mask_cp.shape)"
   ]
  },
  {
   "cell_type": "code",
   "execution_count": null,
   "id": "61499a7f-89a2-4f7b-b6a6-8c3c696d5fb7",
   "metadata": {},
   "outputs": [],
   "source": [
    "visualise.add_multichannel_image(\n",
    "    img=img_nd2.get_dask_data(),\n",
    "    name='image',\n",
    "    channel_names=img_nd2.channel_names,\n",
    "    scale=img_nd2.physical_pixel_sizes\n",
    ")\n",
    "visualise.add_labels(\n",
    "    img=mask_cp,\n",
    "    name='nuclei',\n",
    "    scale=img_nd2.physical_pixel_sizes\n",
    ")"
   ]
  }
 ],
 "metadata": {
  "kernelspec": {
   "display_name": "Python 3 (ipykernel)",
   "language": "python",
   "name": "python3"
  },
  "language_info": {
   "codemirror_mode": {
    "name": "ipython",
    "version": 3
   },
   "file_extension": ".py",
   "mimetype": "text/x-python",
   "name": "python",
   "nbconvert_exporter": "python",
   "pygments_lexer": "ipython3",
   "version": "3.11.13"
  }
 },
 "nbformat": 4,
 "nbformat_minor": 5
}
