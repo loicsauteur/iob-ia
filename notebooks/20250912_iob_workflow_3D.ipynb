{
 "cells": [
  {
   "cell_type": "markdown",
   "id": "51ba7633-f83b-4946-afff-edb23dbcdca2",
   "metadata": {},
   "source": [
    "# About this notebook\n",
    "This notebook will guide you through the analysis.\n",
    "\n",
    "It will help you visualsie and setting the filtering parameters right, which you then can use for batch processing."
   ]
  },
  {
   "cell_type": "code",
   "execution_count": 1,
   "id": "cc2cedae-b4c7-4917-aa9c-4ca1de5c256a",
   "metadata": {},
   "outputs": [],
   "source": [
    "%load_ext autoreload\n",
    "%autoreload 2"
   ]
  },
  {
   "cell_type": "code",
   "execution_count": 2,
   "id": "aa058dd2-a428-4bfe-8e76-1cec79507ae3",
   "metadata": {},
   "outputs": [],
   "source": [
    "import os\n",
    "\n",
    "import pandas as pd\n",
    "\n",
    "from iob_ia.utils import filter_labels, visualise\n",
    "from iob_ia.utils.classify import estimate_threshold\n",
    "from iob_ia.utils.io_utils import (\n",
    "    gen_out_path,\n",
    "    read_image,\n",
    "    read_labels,\n",
    "    save_labels,\n",
    ")\n",
    "from iob_ia.utils.measure import overlapping_labels\n",
    "from iob_ia.utils.segment import segment_3d_cellpose"
   ]
  },
  {
   "cell_type": "markdown",
   "id": "2d9594f9-10da-4be8-8a4e-8c117f277432",
   "metadata": {},
   "source": [
    "## 1. Open an image\n",
    "Define the path to an image"
   ]
  },
  {
   "cell_type": "code",
   "execution_count": 3,
   "id": "2843d977-519b-49e3-a9ee-180b718ff88f",
   "metadata": {},
   "outputs": [],
   "source": [
    "# For windows users: use \"/\" instead of \"\\\" for file paths!\n",
    "image_path = \"G:/20241120_IOB_Magdalena/20250520_TestClearing/Organoid 2/20250520_10x_Nq146um_405_488_640_01.vsi\""
   ]
  },
  {
   "cell_type": "markdown",
   "id": "857a0289-095a-413d-9cb8-f1f752bf314a",
   "metadata": {},
   "source": [
    "Next, we create an image object (this will not load the image data yet).\n",
    "\n",
    "This image object has different attributes, e.g.:\n",
    "- shape (size of the dimensions)\n",
    "- metdata attributes, e.g. channel names or pixel/voxel size\n",
    "Which we can directly access (and print out for our convinience)\n",
    "\n",
    "(* for this image somehow the voxel size is incomplete, notice the \"Z=None\" below, which means the z-step of the stack is missing in the metadata)"
   ]
  },
  {
   "cell_type": "code",
   "execution_count": 4,
   "id": "7363eb1b-64fd-4d9f-a759-84d57f801fed",
   "metadata": {},
   "outputs": [
    {
     "name": "stdout",
     "output_type": "stream",
     "text": [
      "image shape (TCZYX): (1, 3, 373, 2048, 2048)\n",
      "channel names: ['405 C', '488 C', '640 C']\n",
      "voxel size: PhysicalPixelSizes(Z=None, Y=0.6500000000000001, X=0.6500000000000001)\n"
     ]
    }
   ],
   "source": [
    "image = read_image(image_path)\n",
    "print(\"image shape (TCZYX):\", image.shape)\n",
    "print(\"channel names:\", image.channel_names)\n",
    "print(\"voxel size:\", image.physical_pixel_sizes)"
   ]
  },
  {
   "cell_type": "markdown",
   "id": "154e27a9-1f69-43f4-9333-9db4a63637e4",
   "metadata": {},
   "source": [
    "---\n",
    "## 2. Segmenting the image in 3D\n",
    "Using cellpose we will create a segmenation mask.\n",
    "(If you already have a segmentation mask you can also load it directly from file...)"
   ]
  },
  {
   "cell_type": "code",
   "execution_count": 5,
   "id": "c3a18046-8e24-4f2e-abfd-fc26d34f2671",
   "metadata": {},
   "outputs": [
    {
     "name": "stdout",
     "output_type": "stream",
     "text": [
      "Loading image...\n",
      "(3, 373, 2048, 2048)\n"
     ]
    }
   ],
   "source": [
    "# Starting with loading the image into memory (this may take a while, depending on the image size)\n",
    "print('Loading image...')\n",
    "img = image.get_data()\n",
    "print(img.shape)"
   ]
  },
  {
   "cell_type": "markdown",
   "id": "ae75a14f-9f84-4c63-90f1-dae023ed229c",
   "metadata": {},
   "source": [
    "The `segment_3d_cellpose` function will return a mask image, and works on single channel only.\n",
    "\n",
    "It has several optional paramters that you can specify:\n",
    "\n",
    "`segment_3d_cellpose(img, model_path, anisotropy, flow3D_smooth, cellprob_threshold)`\n",
    "- `img`: the 3D single channel image array, e.g. with shape = (373, 2048, 2048)\n",
    "- `model_path`: default is 'cpsam', but you could use your own cellpose model, e.g. 'C:/path/to/model'\n",
    "- `anisotropy`: may help with anisotropic data (where ZYX voxel size is not uniform in all directions), e.g. voxel size = (1, 0.5, 0.5) > anisotropy = 2.0 (I did not observe great improvement with the tested images)\n",
    "- `flow3D_smooth`: default = 0. Bigger values will smooth the cellpose flows with a gaussian (may help fusing smaller objects together)\n",
    "- `cellprob_threshold`: cellpose parameter (default = 0.0). Values of -6 to +6; smaller values for more and larger objects."
   ]
  },
  {
   "cell_type": "code",
   "execution_count": 7,
   "id": "9819f0ee-b531-46c3-baa3-d1d454bdbe41",
   "metadata": {},
   "outputs": [
    {
     "name": "stdout",
     "output_type": "stream",
     "text": [
      "2025-09-12 14:41:26,196 [INFO] ** TORCH CUDA version installed and working. **\n",
      "creating new log file\n",
      "2025-09-12 14:41:26,198 [INFO] WRITING LOG OUTPUT TO C:\\Users\\Microscopy\\.cellpose\\run.log\n",
      "2025-09-12 14:41:26,199 [INFO] \n",
      "cellpose version: \t4.0.6 \n",
      "platform:       \twin32 \n",
      "python version: \t3.11.13 \n",
      "torch version:  \t2.8.0+cu126\n",
      ">>> GPU activated: True\n",
      "2025-09-12 14:41:26,200 [WARNING] model_type argument is not used in v4.0.1+. Ignoring this argument...\n",
      "2025-09-12 14:41:26,204 [INFO] ** TORCH CUDA version installed and working. **\n",
      "2025-09-12 14:41:26,204 [INFO] >>>> using GPU (CUDA)\n",
      "2025-09-12 14:41:28,951 [INFO] >>>> loading model C:\\Users\\Microscopy\\.cellpose\\models\\cpsam\n",
      "2025-09-12 14:41:55,536 [INFO] running YX: 373 planes of size (2048, 2048)\n",
      "2025-09-12 14:41:55,549 [INFO] 0%|          | 0/373 [00:00<?, ?it/s]\n",
      "2025-09-12 14:42:27,846 [INFO] 3%|3         | 13/373 [00:32<14:54,  2.48s/it]\n",
      "2025-09-12 14:42:45,590 [INFO] 3%|3         | 13/373 [00:50<14:54,  2.48s/it]\n",
      "2025-09-12 14:42:59,742 [INFO] 7%|6         | 26/373 [01:04<14:15,  2.47s/it]\n",
      "2025-09-12 14:43:15,617 [INFO] 7%|6         | 26/373 [01:20<14:15,  2.47s/it]\n",
      "2025-09-12 14:43:31,716 [INFO] 10%|#         | 39/373 [01:36<13:42,  2.46s/it]\n",
      "2025-09-12 14:43:45,646 [INFO] 10%|#         | 39/373 [01:50<13:42,  2.46s/it]\n",
      "2025-09-12 14:44:03,753 [INFO] 14%|#3        | 52/373 [02:08<13:10,  2.46s/it]\n",
      "2025-09-12 14:44:15,672 [INFO] 14%|#3        | 52/373 [02:20<13:10,  2.46s/it]\n",
      "2025-09-12 14:44:35,848 [INFO] 17%|#7        | 65/373 [02:40<12:39,  2.47s/it]\n",
      "2025-09-12 14:44:55,697 [INFO] 17%|#7        | 65/373 [03:00<12:39,  2.47s/it]\n",
      "2025-09-12 14:45:08,172 [INFO] 21%|##        | 78/373 [03:12<12:09,  2.47s/it]\n",
      "2025-09-12 14:45:25,713 [INFO] 21%|##        | 78/373 [03:30<12:09,  2.47s/it]\n",
      "2025-09-12 14:45:40,330 [INFO] 24%|##4       | 91/373 [03:44<11:37,  2.47s/it]\n",
      "2025-09-12 14:45:55,730 [INFO] 24%|##4       | 91/373 [04:00<11:37,  2.47s/it]\n",
      "2025-09-12 14:46:12,702 [INFO] 28%|##7       | 104/373 [04:17<11:06,  2.48s/it]\n",
      "2025-09-12 14:46:25,755 [INFO] 28%|##7       | 104/373 [04:30<11:06,  2.48s/it]\n",
      "2025-09-12 14:46:44,855 [INFO] 31%|###1      | 117/373 [04:49<10:34,  2.48s/it]\n",
      "2025-09-12 14:46:55,798 [INFO] 31%|###1      | 117/373 [05:00<10:34,  2.48s/it]\n",
      "2025-09-12 14:47:17,150 [INFO] 35%|###4      | 130/373 [05:21<10:02,  2.48s/it]\n",
      "2025-09-12 14:47:35,831 [INFO] 35%|###4      | 130/373 [05:40<10:02,  2.48s/it]\n",
      "2025-09-12 14:47:49,356 [INFO] 38%|###8      | 143/373 [05:53<09:30,  2.48s/it]\n",
      "2025-09-12 14:48:05,863 [INFO] 38%|###8      | 143/373 [06:10<09:30,  2.48s/it]\n",
      "2025-09-12 14:48:21,584 [INFO] 42%|####1     | 156/373 [06:26<08:57,  2.48s/it]\n",
      "2025-09-12 14:48:35,893 [INFO] 42%|####1     | 156/373 [06:40<08:57,  2.48s/it]\n",
      "2025-09-12 14:48:53,892 [INFO] 45%|####5     | 169/373 [06:58<08:26,  2.48s/it]\n",
      "2025-09-12 14:49:05,913 [INFO] 45%|####5     | 169/373 [07:10<08:26,  2.48s/it]\n",
      "2025-09-12 14:49:26,055 [INFO] 49%|####8     | 182/373 [07:30<07:53,  2.48s/it]\n",
      "2025-09-12 14:49:45,951 [INFO] 49%|####8     | 182/373 [07:50<07:53,  2.48s/it]\n",
      "2025-09-12 14:49:58,183 [INFO] 52%|#####2    | 195/373 [08:02<07:20,  2.48s/it]\n",
      "2025-09-12 14:50:15,968 [INFO] 52%|#####2    | 195/373 [08:20<07:20,  2.48s/it]\n",
      "2025-09-12 14:50:30,340 [INFO] 56%|#####5    | 208/373 [08:34<06:48,  2.48s/it]\n",
      "2025-09-12 14:50:46,002 [INFO] 56%|#####5    | 208/373 [08:50<06:48,  2.48s/it]\n",
      "2025-09-12 14:51:02,521 [INFO] 59%|#####9    | 221/373 [09:06<06:16,  2.48s/it]\n",
      "2025-09-12 14:51:16,011 [INFO] 59%|#####9    | 221/373 [09:20<06:16,  2.48s/it]\n",
      "2025-09-12 14:51:34,715 [INFO] 63%|######2   | 234/373 [09:39<05:44,  2.48s/it]\n",
      "2025-09-12 14:51:46,038 [INFO] 63%|######2   | 234/373 [09:50<05:44,  2.48s/it]\n",
      "2025-09-12 14:52:06,981 [INFO] 66%|######6   | 247/373 [10:11<05:12,  2.48s/it]\n",
      "2025-09-12 14:52:26,065 [INFO] 66%|######6   | 247/373 [10:30<05:12,  2.48s/it]\n",
      "2025-09-12 14:52:39,196 [INFO] 70%|######9   | 260/373 [10:43<04:39,  2.48s/it]\n",
      "2025-09-12 14:52:56,080 [INFO] 70%|######9   | 260/373 [11:00<04:39,  2.48s/it]\n",
      "2025-09-12 14:53:11,485 [INFO] 73%|#######3  | 273/373 [11:15<04:07,  2.48s/it]\n",
      "2025-09-12 14:53:26,104 [INFO] 73%|#######3  | 273/373 [11:30<04:07,  2.48s/it]\n",
      "2025-09-12 14:53:43,675 [INFO] 77%|#######6  | 286/373 [11:48<03:35,  2.48s/it]\n",
      "2025-09-12 14:53:56,135 [INFO] 77%|#######6  | 286/373 [12:00<03:35,  2.48s/it]\n",
      "2025-09-12 14:54:15,922 [INFO] 80%|########  | 299/373 [12:20<03:03,  2.48s/it]\n",
      "2025-09-12 14:54:26,159 [INFO] 80%|########  | 299/373 [12:30<03:03,  2.48s/it]\n",
      "2025-09-12 14:54:48,161 [INFO] 84%|########3 | 312/373 [12:52<02:31,  2.48s/it]\n",
      "2025-09-12 14:55:06,198 [INFO] 84%|########3 | 312/373 [13:10<02:31,  2.48s/it]\n",
      "2025-09-12 14:55:20,500 [INFO] 87%|########7 | 325/373 [13:24<01:59,  2.48s/it]\n",
      "2025-09-12 14:55:36,215 [INFO] 87%|########7 | 325/373 [13:40<01:59,  2.48s/it]\n",
      "2025-09-12 14:55:52,733 [INFO] 91%|######### | 338/373 [13:57<01:26,  2.48s/it]\n",
      "2025-09-12 14:56:06,243 [INFO] 91%|######### | 338/373 [14:10<01:26,  2.48s/it]\n",
      "2025-09-12 14:56:24,854 [INFO] 94%|#########4| 351/373 [14:29<00:54,  2.48s/it]\n",
      "2025-09-12 14:56:36,273 [INFO] 94%|#########4| 351/373 [14:40<00:54,  2.48s/it]\n",
      "2025-09-12 14:56:56,875 [INFO] 98%|#########7| 364/373 [15:01<00:22,  2.47s/it]\n",
      "2025-09-12 14:57:16,301 [INFO] 98%|#########7| 364/373 [15:20<00:22,  2.47s/it]\n",
      "2025-09-12 14:57:19,235 [INFO] 100%|##########| 373/373 [15:23<00:00,  2.48s/it]\n",
      "2025-09-12 14:57:26,748 [INFO] running ZY: 2048 planes of size (373, 2048)\n",
      "2025-09-12 14:57:26,750 [INFO] 0%|          | 0/2048 [00:00<?, ?it/s]\n",
      "2025-09-12 14:57:56,758 [INFO] 3%|2         | 59/2048 [00:30<16:51,  1.97it/s]\n",
      "2025-09-12 14:58:16,355 [INFO] 3%|2         | 59/2048 [00:49<16:51,  1.97it/s]\n",
      "2025-09-12 14:58:27,175 [INFO] 6%|5         | 119/2048 [01:00<16:19,  1.97it/s]\n",
      "2025-09-12 14:58:46,375 [INFO] 6%|5         | 119/2048 [01:19<16:19,  1.97it/s]\n",
      "2025-09-12 14:58:57,511 [INFO] 9%|8         | 179/2048 [01:30<15:47,  1.97it/s]\n",
      "2025-09-12 14:59:16,398 [INFO] 9%|8         | 179/2048 [01:49<15:47,  1.97it/s]\n",
      "2025-09-12 14:59:27,841 [INFO] 12%|#1        | 239/2048 [02:01<15:15,  1.98it/s]\n",
      "2025-09-12 14:59:46,424 [INFO] 12%|#1        | 239/2048 [02:19<15:15,  1.98it/s]\n",
      "2025-09-12 14:59:58,089 [INFO] 15%|#4        | 299/2048 [02:31<14:44,  1.98it/s]\n",
      "2025-09-12 15:00:16,463 [INFO] 15%|#4        | 299/2048 [02:49<14:44,  1.98it/s]\n",
      "2025-09-12 15:00:28,248 [INFO] 18%|#7        | 359/2048 [03:01<14:12,  1.98it/s]\n",
      "2025-09-12 15:00:46,487 [INFO] 18%|#7        | 359/2048 [03:19<14:12,  1.98it/s]\n",
      "2025-09-12 15:00:58,496 [INFO] 20%|##        | 419/2048 [03:31<13:41,  1.98it/s]\n",
      "2025-09-12 15:01:16,522 [INFO] 20%|##        | 419/2048 [03:49<13:41,  1.98it/s]\n",
      "2025-09-12 15:01:28,711 [INFO] 23%|##3       | 477/2048 [04:01<13:20,  1.96it/s]\n",
      "2025-09-12 15:01:46,554 [INFO] 23%|##3       | 477/2048 [04:19<13:20,  1.96it/s]\n",
      "2025-09-12 15:01:58,758 [INFO] 26%|##6       | 536/2048 [04:32<12:50,  1.96it/s]\n",
      "2025-09-12 15:02:16,571 [INFO] 26%|##6       | 536/2048 [04:49<12:50,  1.96it/s]\n",
      "2025-09-12 15:02:29,192 [INFO] 29%|##9       | 596/2048 [05:02<12:18,  1.97it/s]\n",
      "2025-09-12 15:02:46,597 [INFO] 29%|##9       | 596/2048 [05:19<12:18,  1.97it/s]\n",
      "2025-09-12 15:02:59,604 [INFO] 32%|###2      | 656/2048 [05:32<11:47,  1.97it/s]\n",
      "2025-09-12 15:03:16,610 [INFO] 32%|###2      | 656/2048 [05:49<11:47,  1.97it/s]\n",
      "2025-09-12 15:03:29,837 [INFO] 35%|###4      | 716/2048 [06:03<11:15,  1.97it/s]\n",
      "2025-09-12 15:03:46,631 [INFO] 35%|###4      | 716/2048 [06:19<11:15,  1.97it/s]\n",
      "2025-09-12 15:03:59,942 [INFO] 38%|###7      | 776/2048 [06:33<10:42,  1.98it/s]\n",
      "2025-09-12 15:04:16,666 [INFO] 38%|###7      | 776/2048 [06:49<10:42,  1.98it/s]\n",
      "2025-09-12 15:04:30,211 [INFO] 41%|####      | 836/2048 [07:03<10:12,  1.98it/s]\n",
      "2025-09-12 15:04:46,687 [INFO] 41%|####      | 836/2048 [07:19<10:12,  1.98it/s]\n",
      "2025-09-12 15:05:00,535 [INFO] 44%|####3     | 896/2048 [07:33<09:41,  1.98it/s]\n",
      "2025-09-12 15:05:16,720 [INFO] 44%|####3     | 896/2048 [07:49<09:41,  1.98it/s]\n",
      "2025-09-12 15:05:30,630 [INFO] 47%|####6     | 956/2048 [08:03<09:10,  1.98it/s]\n",
      "2025-09-12 15:05:46,738 [INFO] 47%|####6     | 956/2048 [08:19<09:10,  1.98it/s]\n",
      "2025-09-12 15:06:01,114 [INFO] 50%|####9     | 1016/2048 [08:34<08:41,  1.98it/s]\n",
      "2025-09-12 15:06:16,760 [INFO] 50%|####9     | 1016/2048 [08:50<08:41,  1.98it/s]\n",
      "2025-09-12 15:06:31,162 [INFO] 53%|#####2    | 1076/2048 [09:04<08:09,  1.98it/s]\n",
      "2025-09-12 15:06:46,779 [INFO] 53%|#####2    | 1076/2048 [09:20<08:09,  1.98it/s]\n",
      "2025-09-12 15:07:01,217 [INFO] 55%|#####5    | 1136/2048 [09:34<07:38,  1.99it/s]\n",
      "2025-09-12 15:07:16,821 [INFO] 55%|#####5    | 1136/2048 [09:50<07:38,  1.99it/s]\n",
      "2025-09-12 15:07:31,624 [INFO] 58%|#####8    | 1196/2048 [10:04<07:09,  1.98it/s]\n",
      "2025-09-12 15:07:46,843 [INFO] 58%|#####8    | 1196/2048 [10:20<07:09,  1.98it/s]\n",
      "2025-09-12 15:08:01,734 [INFO] 61%|######1   | 1256/2048 [10:34<06:38,  1.99it/s]\n",
      "2025-09-12 15:08:16,862 [INFO] 61%|######1   | 1256/2048 [10:50<06:38,  1.99it/s]\n",
      "2025-09-12 15:08:32,180 [INFO] 64%|######4   | 1316/2048 [11:05<06:09,  1.98it/s]\n",
      "2025-09-12 15:08:46,892 [INFO] 64%|######4   | 1316/2048 [11:20<06:09,  1.98it/s]\n",
      "2025-09-12 15:09:02,610 [INFO] 67%|######7   | 1376/2048 [11:35<05:39,  1.98it/s]\n",
      "2025-09-12 15:09:16,907 [INFO] 67%|######7   | 1376/2048 [11:50<05:39,  1.98it/s]\n",
      "2025-09-12 15:09:33,073 [INFO] 70%|#######   | 1436/2048 [12:06<05:09,  1.98it/s]\n",
      "2025-09-12 15:09:46,925 [INFO] 70%|#######   | 1436/2048 [12:20<05:09,  1.98it/s]\n",
      "2025-09-12 15:10:03,365 [INFO] 73%|#######3  | 1496/2048 [12:36<04:39,  1.98it/s]\n",
      "2025-09-12 15:10:17,167 [INFO] 73%|#######3  | 1496/2048 [12:50<04:39,  1.98it/s]\n",
      "2025-09-12 15:10:33,407 [INFO] 76%|#######5  | 1556/2048 [13:06<04:08,  1.98it/s]\n",
      "2025-09-12 15:10:47,205 [INFO] 76%|#######5  | 1556/2048 [13:20<04:08,  1.98it/s]\n",
      "2025-09-12 15:11:03,900 [INFO] 79%|#######8  | 1616/2048 [13:37<03:38,  1.98it/s]\n",
      "2025-09-12 15:11:17,245 [INFO] 79%|#######8  | 1616/2048 [13:50<03:38,  1.98it/s]\n",
      "2025-09-12 15:11:34,084 [INFO] 82%|########1 | 1675/2048 [14:07<03:09,  1.97it/s]\n",
      "2025-09-12 15:11:47,262 [INFO] 82%|########1 | 1675/2048 [14:20<03:09,  1.97it/s]\n",
      "2025-09-12 15:12:04,215 [INFO] 85%|########4 | 1734/2048 [14:37<02:39,  1.97it/s]\n",
      "2025-09-12 15:12:17,272 [INFO] 85%|########4 | 1734/2048 [14:50<02:39,  1.97it/s]\n",
      "2025-09-12 15:12:34,651 [INFO] 88%|########7 | 1794/2048 [15:07<02:09,  1.97it/s]\n",
      "2025-09-12 15:12:47,294 [INFO] 88%|########7 | 1794/2048 [15:20<02:09,  1.97it/s]\n",
      "2025-09-12 15:13:04,729 [INFO] 91%|######### | 1854/2048 [15:37<01:38,  1.98it/s]\n",
      "2025-09-12 15:13:17,306 [INFO] 91%|######### | 1854/2048 [15:50<01:38,  1.98it/s]\n",
      "2025-09-12 15:13:34,798 [INFO] 93%|#########3| 1914/2048 [16:08<01:07,  1.98it/s]\n",
      "2025-09-12 15:13:47,324 [INFO] 93%|#########3| 1914/2048 [16:20<01:07,  1.98it/s]\n",
      "2025-09-12 15:14:05,070 [INFO] 96%|#########6| 1974/2048 [16:38<00:37,  1.98it/s]\n",
      "2025-09-12 15:14:17,349 [INFO] 96%|#########6| 1974/2048 [16:50<00:37,  1.98it/s]\n",
      "2025-09-12 15:14:35,278 [INFO] 99%|#########9| 2033/2048 [17:08<00:07,  1.97it/s]\n",
      "2025-09-12 15:14:42,830 [INFO] 100%|##########| 2048/2048 [17:16<00:00,  1.98it/s]\n",
      "2025-09-12 15:14:49,937 [INFO] running ZX: 2048 planes of size (373, 2048)\n",
      "2025-09-12 15:14:49,938 [INFO] 0%|          | 0/2048 [00:00<?, ?it/s]\n",
      "2025-09-12 15:15:19,941 [INFO] 3%|2         | 58/2048 [00:30<17:09,  1.93it/s]\n",
      "2025-09-12 15:15:37,403 [INFO] 3%|2         | 58/2048 [00:47<17:09,  1.93it/s]\n",
      "2025-09-12 15:15:50,410 [INFO] 6%|5         | 117/2048 [01:00<16:37,  1.94it/s]\n",
      "2025-09-12 15:16:07,424 [INFO] 6%|5         | 117/2048 [01:17<16:37,  1.94it/s]\n",
      "2025-09-12 15:16:20,862 [INFO] 9%|8         | 176/2048 [01:30<16:06,  1.94it/s]\n",
      "2025-09-12 15:16:37,446 [INFO] 9%|8         | 176/2048 [01:47<16:06,  1.94it/s]\n",
      "2025-09-12 15:16:51,252 [INFO] 11%|#1        | 235/2048 [02:01<15:35,  1.94it/s]\n",
      "2025-09-12 15:17:07,466 [INFO] 11%|#1        | 235/2048 [02:17<15:35,  1.94it/s]\n",
      "2025-09-12 15:17:21,508 [INFO] 14%|#4        | 294/2048 [02:31<15:02,  1.94it/s]\n",
      "2025-09-12 15:17:37,491 [INFO] 14%|#4        | 294/2048 [02:47<15:02,  1.94it/s]\n",
      "2025-09-12 15:17:51,940 [INFO] 17%|#7        | 353/2048 [03:02<14:33,  1.94it/s]\n",
      "2025-09-12 15:18:07,500 [INFO] 17%|#7        | 353/2048 [03:17<14:33,  1.94it/s]\n",
      "2025-09-12 15:18:22,207 [INFO] 20%|##        | 412/2048 [03:32<14:01,  1.94it/s]\n",
      "2025-09-12 15:18:37,513 [INFO] 20%|##        | 412/2048 [03:47<14:01,  1.94it/s]\n",
      "2025-09-12 15:18:52,511 [INFO] 23%|##2       | 471/2048 [04:02<13:30,  1.94it/s]\n",
      "2025-09-12 15:19:07,529 [INFO] 23%|##2       | 471/2048 [04:17<13:30,  1.94it/s]\n",
      "2025-09-12 15:19:22,735 [INFO] 26%|##5       | 530/2048 [04:32<12:59,  1.95it/s]\n",
      "2025-09-12 15:19:37,564 [INFO] 26%|##5       | 530/2048 [04:47<12:59,  1.95it/s]\n",
      "2025-09-12 15:19:52,808 [INFO] 29%|##8       | 589/2048 [05:02<12:27,  1.95it/s]\n",
      "2025-09-12 15:20:07,584 [INFO] 29%|##8       | 589/2048 [05:17<12:27,  1.95it/s]\n",
      "2025-09-12 15:20:23,002 [INFO] 32%|###1      | 648/2048 [05:33<11:57,  1.95it/s]\n",
      "2025-09-12 15:20:37,603 [INFO] 32%|###1      | 648/2048 [05:47<11:57,  1.95it/s]\n",
      "2025-09-12 15:20:53,322 [INFO] 35%|###4      | 707/2048 [06:03<11:27,  1.95it/s]\n",
      "2025-09-12 15:21:07,634 [INFO] 35%|###4      | 707/2048 [06:17<11:27,  1.95it/s]\n",
      "2025-09-12 15:21:23,488 [INFO] 37%|###7      | 766/2048 [06:33<10:56,  1.95it/s]\n",
      "2025-09-12 15:21:37,671 [INFO] 37%|###7      | 766/2048 [06:47<10:56,  1.95it/s]\n",
      "2025-09-12 15:21:53,600 [INFO] 40%|####      | 825/2048 [07:03<10:25,  1.95it/s]\n",
      "2025-09-12 15:22:07,690 [INFO] 40%|####      | 825/2048 [07:17<10:25,  1.95it/s]\n",
      "2025-09-12 15:22:23,684 [INFO] 43%|####3     | 884/2048 [07:33<09:54,  1.96it/s]\n",
      "2025-09-12 15:22:37,704 [INFO] 43%|####3     | 884/2048 [07:47<09:54,  1.96it/s]\n",
      "2025-09-12 15:22:53,786 [INFO] 46%|####6     | 943/2048 [08:03<09:24,  1.96it/s]\n",
      "2025-09-12 15:23:07,735 [INFO] 46%|####6     | 943/2048 [08:17<09:24,  1.96it/s]\n",
      "2025-09-12 15:23:23,889 [INFO] 49%|####8     | 1002/2048 [08:33<08:54,  1.96it/s]\n",
      "2025-09-12 15:23:37,754 [INFO] 49%|####8     | 1002/2048 [08:47<08:54,  1.96it/s]\n",
      "2025-09-12 15:23:54,138 [INFO] 52%|#####1    | 1061/2048 [09:04<08:24,  1.96it/s]\n",
      "2025-09-12 15:24:07,767 [INFO] 52%|#####1    | 1061/2048 [09:17<08:24,  1.96it/s]\n",
      "2025-09-12 15:24:24,212 [INFO] 55%|#####4    | 1120/2048 [09:34<07:54,  1.96it/s]\n",
      "2025-09-12 15:24:37,794 [INFO] 55%|#####4    | 1120/2048 [09:47<07:54,  1.96it/s]\n",
      "2025-09-12 15:24:54,274 [INFO] 58%|#####7    | 1179/2048 [10:04<07:23,  1.96it/s]\n",
      "2025-09-12 15:25:07,821 [INFO] 58%|#####7    | 1179/2048 [10:17<07:23,  1.96it/s]\n",
      "2025-09-12 15:25:24,484 [INFO] 60%|######    | 1238/2048 [10:34<06:53,  1.96it/s]\n",
      "2025-09-12 15:25:37,852 [INFO] 60%|######    | 1238/2048 [10:47<06:53,  1.96it/s]\n",
      "2025-09-12 15:25:54,721 [INFO] 63%|######3   | 1297/2048 [11:04<06:24,  1.96it/s]\n",
      "2025-09-12 15:26:07,878 [INFO] 63%|######3   | 1297/2048 [11:17<06:24,  1.96it/s]\n",
      "2025-09-12 15:26:25,054 [INFO] 66%|######6   | 1356/2048 [11:35<05:54,  1.95it/s]\n",
      "2025-09-12 15:26:37,901 [INFO] 66%|######6   | 1356/2048 [11:47<05:54,  1.95it/s]\n",
      "2025-09-12 15:26:55,421 [INFO] 69%|######9   | 1415/2048 [12:05<05:24,  1.95it/s]\n",
      "2025-09-12 15:27:07,920 [INFO] 69%|######9   | 1415/2048 [12:17<05:24,  1.95it/s]\n",
      "2025-09-12 15:27:25,771 [INFO] 72%|#######1  | 1474/2048 [12:35<04:54,  1.95it/s]\n",
      "2025-09-12 15:27:37,948 [INFO] 72%|#######1  | 1474/2048 [12:48<04:54,  1.95it/s]\n",
      "2025-09-12 15:27:56,167 [INFO] 75%|#######4  | 1533/2048 [13:06<04:24,  1.95it/s]\n",
      "2025-09-12 15:28:07,963 [INFO] 75%|#######4  | 1533/2048 [13:18<04:24,  1.95it/s]\n",
      "2025-09-12 15:28:26,294 [INFO] 78%|#######7  | 1592/2048 [13:36<03:53,  1.95it/s]\n",
      "2025-09-12 15:28:37,986 [INFO] 78%|#######7  | 1592/2048 [13:48<03:53,  1.95it/s]\n",
      "2025-09-12 15:28:56,378 [INFO] 81%|########  | 1651/2048 [14:06<03:23,  1.95it/s]\n",
      "2025-09-12 15:29:08,018 [INFO] 81%|########  | 1651/2048 [14:18<03:23,  1.95it/s]\n",
      "2025-09-12 15:29:26,612 [INFO] 83%|########3 | 1710/2048 [14:36<02:53,  1.95it/s]\n",
      "2025-09-12 15:29:38,052 [INFO] 83%|########3 | 1710/2048 [14:48<02:53,  1.95it/s]\n",
      "2025-09-12 15:29:56,687 [INFO] 86%|########6 | 1769/2048 [15:06<02:22,  1.96it/s]\n",
      "2025-09-12 15:30:08,083 [INFO] 86%|########6 | 1769/2048 [15:18<02:22,  1.96it/s]\n",
      "2025-09-12 15:30:26,790 [INFO] 89%|########9 | 1828/2048 [15:36<01:52,  1.96it/s]\n",
      "2025-09-12 15:30:38,107 [INFO] 89%|########9 | 1828/2048 [15:48<01:52,  1.96it/s]\n",
      "2025-09-12 15:30:56,835 [INFO] 92%|#########2| 1887/2048 [16:06<01:22,  1.96it/s]\n",
      "2025-09-12 15:31:08,134 [INFO] 92%|#########2| 1887/2048 [16:18<01:22,  1.96it/s]\n",
      "2025-09-12 15:31:26,991 [INFO] 95%|#########5| 1946/2048 [16:37<00:52,  1.96it/s]\n",
      "2025-09-12 15:31:38,148 [INFO] 95%|#########5| 1946/2048 [16:48<00:52,  1.96it/s]\n",
      "2025-09-12 15:31:57,085 [INFO] 98%|#########7| 2005/2048 [17:07<00:21,  1.96it/s]\n",
      "2025-09-12 15:32:08,185 [INFO] 98%|#########7| 2005/2048 [17:18<00:21,  1.96it/s]\n",
      "2025-09-12 15:32:19,119 [INFO] 100%|##########| 2048/2048 [17:29<00:00,  1.95it/s]\n",
      "2025-09-12 15:32:45,929 [INFO] network run in 3050.39s\n",
      "2025-09-12 15:34:17,529 [INFO] masks created in 57.96s\n"
     ]
    }
   ],
   "source": [
    "# Segment the second channel (0-based indexing) of the image (that has 3 channels), using the default paramters, which work fine\n",
    "mask = segment_3d_cellpose(img[1])"
   ]
  },
  {
   "cell_type": "code",
   "execution_count": 9,
   "id": "4f7d4622-8b42-4a65-a191-281cc2378cbc",
   "metadata": {},
   "outputs": [
    {
     "name": "stdout",
     "output_type": "stream",
     "text": [
      "G:/20241120_IOB_Magdalena/20250520_TestClearing/Organoid 2\\20250520_10x_Nq146um_405_488_640_01_mask.tif\n",
      "Saved labels to: G:/20241120_IOB_Magdalena/20250520_TestClearing/Organoid 2\\20250520_10x_Nq146um_405_488_640_01_mask.tif\n",
      "Saved labels to: G:/20241120_IOB_Magdalena/20250520_TestClearing/Organoid 2\\20250520_10x_Nq146um_405_488_640_01_mask.tif\n"
     ]
    }
   ],
   "source": [
    "# Let's save this mask!\n",
    "# first we define where to save the mask image\n",
    "mask_path = gen_out_path(image_path, \"mask\")\n",
    "print(mask_path)\n",
    "# now we same the image\n",
    "save_labels(mask, mask_path)\n",
    "# short version would be\n",
    "save_labels(mask, gen_out_path(image_path, \"mask\"))"
   ]
  },
  {
   "cell_type": "code",
   "execution_count": 6,
   "id": "682aae93-a5ee-478a-8d89-0678bec74198",
   "metadata": {},
   "outputs": [],
   "source": [
    "# If you have the mask already saved to file, load it directly\n",
    "mask_path = gen_out_path(image_path, \"mask\") # or any other path e.g. \"C:/path/to/mask.tif\"\n",
    "mask = read_labels(mask_path)"
   ]
  },
  {
   "cell_type": "markdown",
   "id": "f7e55691-9517-40db-ab5a-cd40130ed789",
   "metadata": {},
   "source": [
    "---\n",
    "## 3. Visualising and finding your filtering options\n",
    "cellpose does a good job in segmenting cells in 3D. But it is not perfect.\n",
    "\n",
    "Let's visualise the images to napari. I have a plugin which will help you find some filtering options.\n",
    "\n",
    "### 3.1 Visualise and empirically find filtering options"
   ]
  },
  {
   "cell_type": "code",
   "execution_count": 8,
   "id": "a2d1a666-2658-4fb3-b0c1-26133b691ad1",
   "metadata": {},
   "outputs": [],
   "source": [
    "# load the origianl multichannel image (remember `img` is the image with all channels)\n",
    "# we will load it with calibrated voxel units, since our image metadata is incomplete, we have to define it properly\n",
    "voxel_size = (1.46, image.physical_pixel_sizes.Y, image.physical_pixel_sizes.X) # Z, Y, X\n",
    "visualise.add_multichannel_image(img, name=\"raw_image\", channel_names=image.channel_names, scale=voxel_size)\n",
    "\n",
    "# let's add also the cellpose mask\n",
    "visualise.add_labels(mask, name=\"cp_mask\", scale=voxel_size)"
   ]
  },
  {
   "cell_type": "markdown",
   "id": "f5c7707a-a742-429d-86b1-cc1106245e18",
   "metadata": {},
   "source": [
    "In the napari viewer that opened, you can see the image and also toggle to 3D view if you like.\n",
    "\n",
    "Under `Plugins` you can find the `Filter labels by properties` plugin. With this plugin you can interactively filter the cellpose objects by some properties (e.g. area (which is the volume in um3), or channel intensities).\n",
    "\n",
    "Take note of what property you want to filter on and the values.\n",
    "\n",
    "We segmented on the second channel (488), so we choose to filter also on intensities of the 488 channel. We found good filtering options for:\n",
    "- area / volume values = 430 - 21'600 um3\n",
    "- 488 mean intensity values = 200 - infinity\n",
    "\n",
    "**Absolute intensity values** are generally a bad idea for (later) batch analysis, since it does not account for sample variability..."
   ]
  },
  {
   "cell_type": "markdown",
   "id": "2e76e0fb-c667-416d-b051-410353d4e3a6",
   "metadata": {},
   "source": [
    "### 3.2 Measuring properties\n",
    "Let's try to find a way to compensate for the sample variability by checking the property 'population'."
   ]
  },
  {
   "cell_type": "code",
   "execution_count": 9,
   "id": "6d22b0b5-c50f-49a5-b8da-a0cf6f048f77",
   "metadata": {},
   "outputs": [
    {
     "name": "stdout",
     "output_type": "stream",
     "text": [
      "Measured properties of 9755 labels.\n",
      "area: mean = 1525.9391215838039; median = 680.3855500000003\n",
      "euler_number: mean = 0.07134802665299846; median = 1.0\n",
      "extent: mean = 0.27616702097432266; median = 0.2916666666666667\n",
      "intensity_mean: mean = 346.18783586807757; median = 267.0796703296703\n",
      "intensity_min: mean = 146.718913377755; median = 124.0\n",
      "intensity_max: mean = 696.7392106611994; median = 436.0\n",
      "projected_area: mean = 72.50247257816508; median = 62.95250000000002\n",
      "projected_convex_area: mean = 84.05350563813431; median = 74.36000000000003\n",
      "projected_perimeter: mean = 33.17001349884242; median = 33.44629867976521\n",
      "projected_circularity: mean = 0.6319078887264852; median = 0.6849776068149775\n"
     ]
    }
   ],
   "source": [
    "# First we measure the properties (verbose=True will report mean and median property values)\n",
    "properties = filter_labels.measure_label_props(mask, img[1], voxel_size=voxel_size, verbose=True)"
   ]
  },
  {
   "cell_type": "code",
   "execution_count": 10,
   "id": "d7172221-fdf0-484e-bf8f-c58e634ab3e1",
   "metadata": {},
   "outputs": [
    {
     "name": "stdout",
     "output_type": "stream",
     "text": [
      "Mean intensity_mean = 346.18783586807757\n",
      "Median intensity_mean = 267.0796703296703\n"
     ]
    }
   ],
   "source": [
    "# We can get the mean or median values for a certain property as follows:\n",
    "mean_intensity_mean = filter_labels.get_prop_mean(prop=\"intensity_mean\", table=properties)\n",
    "median_intensity_mean = filter_labels.get_prop_median(prop=\"intensity_mean\", table=properties)\n",
    "print(\"Mean intensity_mean =\", mean_intensity_mean)\n",
    "print(\"Median intensity_mean =\", median_intensity_mean)"
   ]
  },
  {
   "cell_type": "markdown",
   "id": "0637e032-1f7d-4332-a4cc-7b691383e55e",
   "metadata": {},
   "source": [
    "Instead of using mean or median, we can also try to find a threshold that splits bimodal value distributions. \n",
    "\n",
    "E.g. assuming that we have 2 populations for the 488 channel mean intensity values (dark and bright objects)"
   ]
  },
  {
   "cell_type": "code",
   "execution_count": 11,
   "id": "316a6e1e-4b34-4c16-98b7-e8eaca358ebb",
   "metadata": {},
   "outputs": [
    {
     "name": "stdout",
     "output_type": "stream",
     "text": [
      "Threshold for 488 object mean intensity = 485.6809180149304\n",
      "Threshold for object volume = 2476.13805022675\n"
     ]
    }
   ],
   "source": [
    "mean_intensity_threshold = estimate_threshold(prop=\"intensity_mean\", table=properties)\n",
    "volume_threshold = estimate_threshold(prop=\"area\", table=properties)\n",
    "print(\"Threshold for 488 object mean intensity =\", mean_intensity_threshold)\n",
    "print(\"Threshold for object volume =\", volume_threshold)"
   ]
  },
  {
   "cell_type": "markdown",
   "id": "a87763d8-83cb-49a2-a04e-7b4f34d0183f",
   "metadata": {},
   "source": [
    "### 3.3. Creating a filtered mask\n",
    "\n",
    "Let's filter objects using multiple property filters. For that, we can define a python dictionary with the properties and values we want to filter on.\n",
    "\n",
    "Such dictionary should have keys = properties (as string), and min/max value ranges as array (i.e. `[min-value, max-value]`)\n",
    "\n",
    "If you do not want to specify a min or max value you can either use `None` or `float(\"-inf\")`/`float(\"inf\")`. The latter specifying -/+ infinity.\n",
    "\n",
    "If you use for both min max values = `None`, the min value will be set to the value returned by `estimate_threshold`, while the max value will be set to `float(\"inf\")`."
   ]
  },
  {
   "cell_type": "code",
   "execution_count": 12,
   "id": "a7d652b8-82b1-4ffb-aa74-5dd5ff50a1ee",
   "metadata": {},
   "outputs": [
    {
     "name": "stdout",
     "output_type": "stream",
     "text": [
      "{'area': [430, 21600], 'intensity_mean': [242.8404590074652, inf]}\n"
     ]
    }
   ],
   "source": [
    "# A filter dictionary with hard-coded volume size, and intensity_mean filter with dynamic min value (estimate_threshold value divided by 2) to infinity.\n",
    "filter_dict = {\n",
    "    \"area\": [430, 21600],\n",
    "    \"intensity_mean\": [estimate_threshold(\"intensity_mean\", properties) / 2, float(\"inf\")],\n",
    "}\n",
    "print(filter_dict)"
   ]
  },
  {
   "cell_type": "code",
   "execution_count": 13,
   "id": "0876ddc9-da77-48f9-9791-d661bd2a4015",
   "metadata": {},
   "outputs": [
    {
     "name": "stdout",
     "output_type": "stream",
     "text": [
      "Filtering on area between 430 and 21600\n",
      "Removed 4352 labels. Remaining labels: 5403 (previously 9755)\n",
      "Filtering on intensity_mean between 242.8404590074652 and inf\n",
      "Removed 4397 labels. Remaining labels: 5358 (previously 9755)\n",
      "Creating filtered mask...\n",
      "------------------------\n",
      "Before filtering we had 9755 objects.\n",
      "After filtering we have 4029 objects.\n"
     ]
    }
   ],
   "source": [
    "# Let's create a filtered mask using the defined filter properties in the dictionary above. (verbose=True would inform you on the calculated thresholds, in case you put [None, None] into the dictionary)\n",
    "filtered_mask, updated_properties = filter_labels.filter_labels_by_property(mask, props_table=properties, props=filter_dict, verbose=True)\n",
    "\n",
    "print(\"------------------------\")\n",
    "print(\"Before filtering we had\", filter_labels.count_unique_labels(mask), \"objects.\")\n",
    "print(\"After filtering we have\", filter_labels.count_unique_labels(filtered_mask), \"objects.\")"
   ]
  },
  {
   "cell_type": "markdown",
   "id": "d0feebfa-1868-4bde-a791-f360e15985df",
   "metadata": {},
   "source": [
    "**Q:** Why do the number differ... (\"Removed x labels\" and final object count):\n",
    "\n",
    "**A:** We filter on the property table sequentially. The same object may be filtered/removed multiple times by the different filters."
   ]
  },
  {
   "cell_type": "markdown",
   "id": "5e79fd6b-ca01-4491-a8ab-2e9d4a5a57cb",
   "metadata": {},
   "source": [
    "---\n",
    "## 4. Segmenting a second channel and checking for double positivity and total cell counts\n",
    "You redo follow steps 2 and 3 for any other channel.\n",
    "Here, I will redo these steps very breifly.\n",
    "### 4.1 Segmenting and fitlering objects"
   ]
  },
  {
   "cell_type": "code",
   "execution_count": 14,
   "id": "1d43c599-88ca-40bc-9396-38b49e4686f8",
   "metadata": {},
   "outputs": [
    {
     "name": "stdout",
     "output_type": "stream",
     "text": [
      "The mask already exists => loading the mask from file\n"
     ]
    }
   ],
   "source": [
    "# Define the file-path of the new mask before hand\n",
    "mask_640_path = gen_out_path(image_path, \"mask_\" + image.channel_names[2])\n",
    "# Segment the 3rd channel (0-based indexing), if the mask was not created yet\n",
    "if os.path.exists(mask_640_path):\n",
    "    print(\"The mask already exists => loading the mask from file\")\n",
    "    mask_640 = read_labels(mask_640_path)\n",
    "else:\n",
    "    mask_640 = segment_3d_cellpose(img[2])\n",
    "    save_labels(mask_640, mask_640_path)"
   ]
  },
  {
   "cell_type": "code",
   "execution_count": 15,
   "id": "a9ca9586-2dde-4027-9254-9a9444a6edaa",
   "metadata": {},
   "outputs": [
    {
     "name": "stdout",
     "output_type": "stream",
     "text": [
      "Measured properties of 34286 labels.\n",
      "area: mean = 495.2919766347783; median = 106.71505000000003\n",
      "euler_number: mean = 0.20786910109082424; median = 1.0\n",
      "extent: mean = 0.1497242138225513; median = 0.09353683333798635\n",
      "intensity_mean: mean = 260.5319292277648; median = 145.324200913242\n",
      "intensity_min: mean = 119.38887592603395; median = 73.0\n",
      "intensity_max: mean = 462.8901300822493; median = 239.0\n",
      "projected_area: mean = 40.85075679577671; median = 22.39250000000001\n",
      "projected_convex_area: mean = 60.80420222539814; median = 37.180000000000014\n",
      "projected_perimeter: mean = 28.24701562586959; median = 23.088529932111353\n",
      "projected_circularity: mean = 0.4411056795495286; median = 0.37873824245202964\n",
      ">'Threshold' for 488 object mean intensity = 21487.06852096016\n"
     ]
    }
   ],
   "source": [
    "# Measuring properties of the 640 channel objects\n",
    "properties_640 = filter_labels.measure_label_props(mask_640, img[2], voxel_size=voxel_size, verbose=True)\n",
    "mean_intensity_threshold_640 = estimate_threshold(prop=\"intensity_mean\", table=properties_640)\n",
    "print(\">'Threshold' for 488 object mean intensity =\", mean_intensity_threshold_640)\n",
    "# To visualise in napari, you can un-comment the next line...\n",
    "#visualise.add_labels(mask_640, name=\"640_cp_mask\", scale=voxel_size)"
   ]
  },
  {
   "cell_type": "markdown",
   "id": "0aa91710-8b96-40c2-bd6e-fe9de0874b94",
   "metadata": {},
   "source": [
    "Filterin the 640 channel objects:\n",
    "- We can keep the same size restrictions as for the other channels (cell sizes usually don't change that much...)\n",
    "- Filtering on intensity is a bit more tricky for this channel. I manually determined mean intensity in the range of 150-15000.\n",
    "\n",
    "Below, I filter with those settings. (Could have taken half the of the channel intensity_mean...)"
   ]
  },
  {
   "cell_type": "code",
   "execution_count": 16,
   "id": "ca94ca83-eba7-4012-86bd-51fc39a14a81",
   "metadata": {},
   "outputs": [
    {
     "name": "stdout",
     "output_type": "stream",
     "text": [
      "Filtering on area between 430 and 21600\n",
      "Removed 26131 labels. Remaining labels: 8155 (previously 34286)\n",
      "Filtering on intensity_mean between 150 and inf\n",
      "Removed 18117 labels. Remaining labels: 16169 (previously 34286)\n",
      "Filtering on intensity_max between -inf and 15000\n",
      "Removed 97 labels. Remaining labels: 34189 (previously 34286)\n",
      "Creating filtered mask...\n",
      "------------------------\n",
      "Before filtering we had 34286 objects.\n",
      "After filtering we have 5972 objects.\n"
     ]
    }
   ],
   "source": [
    "filter_dict_640 = {\n",
    "    \"area\": [430, 21600],\n",
    "    \"intensity_mean\": [150, float(\"inf\")],\n",
    "    #\"intensity_mean\": [filter_labels.get_prop_mean(prop=\"intensity_mean\", table=properties_640) / 2, float(\"inf\")], # for filtering min = intensity_mean / 2\n",
    "    \"intensity_max\": [None, 15000],\n",
    "}\n",
    "# Filter the objects\n",
    "filtered_mask_640, updated_propertie_640s = filter_labels.filter_labels_by_property(mask_640, props_table=properties_640, props=filter_dict_640, verbose=True)\n",
    "\n",
    "print(\"------------------------\")\n",
    "print(\"Before filtering we had\", filter_labels.count_unique_labels(mask_640), \"objects.\")\n",
    "print(\"After filtering we have\", filter_labels.count_unique_labels(filtered_mask_640), \"objects.\")"
   ]
  },
  {
   "cell_type": "markdown",
   "id": "81c6b756-625b-47c8-9ac6-a87772e8d3c8",
   "metadata": {},
   "source": [
    "---\n",
    "### 4.2 Counting double positive objects\n",
    "The approach I used here is as follows: if objects in channel 488 overlap at least by 50% with objects in channel 640, they are considered as a `640 positive 488 object(s)`.\n",
    "\n",
    "We can create masks accordingly. The fuction below will do that and takes:\n",
    "- first mask = objects of interest\n",
    "- second mask = selector mask (to check if the first mask objects have overlap with the second mask)\n",
    "- `min_overlap`: if not included here as a parameter, it defaults to 0.5 (=50%). But can be changed..."
   ]
  },
  {
   "cell_type": "code",
   "execution_count": 17,
   "id": "f5596e94-3b87-4bf1-8378-81e003c8008f",
   "metadata": {},
   "outputs": [],
   "source": [
    "# 488 objects positive for 640\n",
    "doublePos_mask488 = overlapping_labels(filtered_mask, filtered_mask_640, min_overlap=0.5)\n",
    "# 640 objects positive for 488\n",
    "doublePos_mask640 = overlapping_labels(filtered_mask_640, filtered_mask)"
   ]
  },
  {
   "cell_type": "markdown",
   "id": "a0cb5e6b-2a02-4000-bf9c-b62e23dc00ce",
   "metadata": {},
   "source": [
    "Summarise results:"
   ]
  },
  {
   "cell_type": "code",
   "execution_count": 18,
   "id": "c5ee6886-5a6d-4520-a8bd-abc611ea0076",
   "metadata": {},
   "outputs": [
    {
     "data": {
      "text/html": [
       "<div>\n",
       "<style scoped>\n",
       "    .dataframe tbody tr th:only-of-type {\n",
       "        vertical-align: middle;\n",
       "    }\n",
       "\n",
       "    .dataframe tbody tr th {\n",
       "        vertical-align: top;\n",
       "    }\n",
       "\n",
       "    .dataframe thead th {\n",
       "        text-align: right;\n",
       "    }\n",
       "</style>\n",
       "<table border=\"1\" class=\"dataframe\">\n",
       "  <thead>\n",
       "    <tr style=\"text-align: right;\">\n",
       "      <th></th>\n",
       "      <th>Image name</th>\n",
       "      <th>cellpose count-488 C</th>\n",
       "      <th>object count-488 C</th>\n",
       "      <th>cellpose count-640 C</th>\n",
       "      <th>object count-640 C</th>\n",
       "      <th>488 CdoublePos</th>\n",
       "      <th>640 C640doublePos</th>\n",
       "    </tr>\n",
       "  </thead>\n",
       "  <tbody>\n",
       "    <tr>\n",
       "      <th>0</th>\n",
       "      <td>G:/20241120_IOB_Magdalena/20250520_TestClearin...</td>\n",
       "      <td>9755</td>\n",
       "      <td>4029</td>\n",
       "      <td>34286</td>\n",
       "      <td>5972</td>\n",
       "      <td>1520</td>\n",
       "      <td>2234</td>\n",
       "    </tr>\n",
       "  </tbody>\n",
       "</table>\n",
       "</div>"
      ],
      "text/plain": [
       "                                          Image name  cellpose count-488 C  \\\n",
       "0  G:/20241120_IOB_Magdalena/20250520_TestClearin...                  9755   \n",
       "\n",
       "   object count-488 C  cellpose count-640 C  object count-640 C  \\\n",
       "0                4029                 34286                5972   \n",
       "\n",
       "   488 CdoublePos  640 C640doublePos  \n",
       "0            1520               2234  "
      ]
     },
     "execution_count": 18,
     "metadata": {},
     "output_type": "execute_result"
    }
   ],
   "source": [
    "count488_cp = filter_labels.count_unique_labels(mask)\n",
    "count640_cp = filter_labels.count_unique_labels(mask_640)\n",
    "count488 = filter_labels.count_unique_labels(filtered_mask)\n",
    "count640 = filter_labels.count_unique_labels(filtered_mask_640)\n",
    "count488_640 = filter_labels.count_unique_labels(doublePos_mask488)\n",
    "count640_488 = filter_labels.count_unique_labels(doublePos_mask640)\n",
    "# For convinience I put these results into a python dictionary, then convert it to a table\n",
    "result = {\n",
    "    \"Image name\": [image_path],\n",
    "    \"cellpose count-\"+image.channel_names[1]: [count488_cp],\n",
    "    \"object count-\"+image.channel_names[1]: [count488],\n",
    "    \"cellpose count-\"+image.channel_names[2]: [count640_cp],\n",
    "    \"object count-\"+image.channel_names[2]: [count640],\n",
    "    image.channel_names[1]+\"doublePos\": [count488_640],\n",
    "    image.channel_names[2]+\"640doublePos\": [count640_488]\n",
    "}\n",
    "result_table = pd.DataFrame.from_dict(result)\n",
    "result_table"
   ]
  },
  {
   "cell_type": "markdown",
   "id": "e5f194ef-6b10-40e7-9c52-344ab801c419",
   "metadata": {},
   "source": [
    "Save this result table to file:"
   ]
  },
  {
   "cell_type": "code",
   "execution_count": 19,
   "id": "2f70ad78-6fa7-4268-abf1-8fa75f4b4a47",
   "metadata": {},
   "outputs": [],
   "source": [
    "pd.DataFrame.to_csv(result_table, image_path + '.csv')"
   ]
  },
  {
   "cell_type": "markdown",
   "id": "615ebd20-aa32-48b4-b3cf-b66cfb256187",
   "metadata": {},
   "source": [
    "---\n",
    "## 5. Visualise the results"
   ]
  },
  {
   "cell_type": "code",
   "execution_count": 20,
   "id": "71dde981-5d1a-49f0-a360-b469d127ca57",
   "metadata": {},
   "outputs": [],
   "source": [
    "# In case napari was closed we can re-open it with the original image...\n",
    "visualise.add_multichannel_image(img, name=\"raw_image\", channel_names=image.channel_names, scale=voxel_size)\n",
    "\n",
    "# Now we add the created masks\n",
    "visualise.add_labels(filtered_mask, name=image.channel_names[1]+\"_mask\", scale=voxel_size)\n",
    "visualise.add_labels(filtered_mask_640, name=image.channel_names[2]+\"_mask\", scale=voxel_size)\n",
    "visualise.add_labels(doublePos_mask488, name=image.channel_names[2]+\"-pos-\"+image.channel_names[1]+\" objects\", scale=voxel_size)\n",
    "visualise.add_labels(doublePos_mask640, name=image.channel_names[1]+\"-pos-\"+image.channel_names[2]+\" objects\", scale=voxel_size)"
   ]
  },
  {
   "cell_type": "code",
   "execution_count": null,
   "id": "753fd7c9-98f6-410b-9f41-db0a8ea6fd93",
   "metadata": {},
   "outputs": [],
   "source": []
  }
 ],
 "metadata": {
  "kernelspec": {
   "display_name": "Python 3 (ipykernel)",
   "language": "python",
   "name": "python3"
  },
  "language_info": {
   "codemirror_mode": {
    "name": "ipython",
    "version": 3
   },
   "file_extension": ".py",
   "mimetype": "text/x-python",
   "name": "python",
   "nbconvert_exporter": "python",
   "pygments_lexer": "ipython3",
   "version": "3.11.13"
  }
 },
 "nbformat": 4,
 "nbformat_minor": 5
}
