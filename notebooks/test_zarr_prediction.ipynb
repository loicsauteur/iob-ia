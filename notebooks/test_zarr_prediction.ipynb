{
 "cells": [
  {
   "cell_type": "code",
   "execution_count": 1,
   "id": "5c44d911-fe22-442a-8e6f-a22ce0583af2",
   "metadata": {},
   "outputs": [
    {
     "name": "stdout",
     "output_type": "stream",
     "text": [
      "\n",
      "\n",
      "Welcome to CellposeSAM, cellpose v4.0.1! The neural network component of\n",
      "CPSAM is much larger than in previous versions and CPU excution is slow. \n",
      "We encourage users to use GPU/MPS if available. \n",
      "\n",
      "\n"
     ]
    }
   ],
   "source": [
    "#from cellpose.contrib.distributed_segmentation import numpy_array_to_zarr, distributed_eval, process_block\n",
    "import zarr\n",
    "from cellpose.contrib.distributed_segmentation import distributed_eval"
   ]
  },
  {
   "cell_type": "code",
   "execution_count": 2,
   "id": "d67d3e07-bf7d-4e26-a0df-57bfb6778440",
   "metadata": {},
   "outputs": [],
   "source": [
    "path = 'G:/20250211_MarcDu/test_zarr.zarr/'"
   ]
  },
  {
   "cell_type": "code",
   "execution_count": null,
   "id": "7a5c8181-04f1-46a8-83fd-99eacb1ae977",
   "metadata": {},
   "outputs": [
    {
     "name": "stdout",
     "output_type": "stream",
     "text": [
      "(63, 9656, 5032)\n",
      "Cluster dashboard link:  http://131.152.203.33:8787/status\n"
     ]
    },
    {
     "name": "stderr",
     "output_type": "stream",
     "text": [
      "C:\\Users\\Microscopy\\.conda\\envs\\cellpose\\Lib\\site-packages\\cellpose\\contrib\\distributed_segmentation.py:731: FutureWarning: Pass mode=w as keyword args. From version 3.1.0 passing these as positional arguments will result in an error\n",
      "  temp_zarr = zarr.open(\n"
     ]
    }
   ],
   "source": [
    "z = zarr.open(path)\n",
    "print(z.shape)\n",
    "print(z.info_complete())\n",
    "\n",
    "model_kwargs = {'gpu':True, 'model_type':'cpsam'}\n",
    "eval_kwargs = {\n",
    "    'diameter':12,\n",
    "    'z_axis':0,\n",
    "    'channels':[0,0],\n",
    "    'do_3D':True,\n",
    "}\n",
    "cluster_kwargs = {\n",
    "    'n_workers':1,  # for 1 GPU\n",
    "    'ncpus':24,\n",
    "    'memory_limit':'196GB',\n",
    "    'threads_per_worker':1,\n",
    "}\n",
    "\n",
    "mask, boxes = distributed_eval(\n",
    "    input_zarr=z,\n",
    "    blocksize=(63,512,512),\n",
    "    write_path='G:/20250211_MarcDu/test_zarr_segmented_.zarr',\n",
    "    model_kwargs=model_kwargs,\n",
    "    eval_kwargs=eval_kwargs,\n",
    "    cluster_kwargs=cluster_kwargs,\n",
    ")"
   ]
  },
  {
   "cell_type": "code",
   "execution_count": null,
   "id": "0160a510-b257-4a8a-842b-4426f2b5fcc9",
   "metadata": {},
   "outputs": [],
   "source": []
  }
 ],
 "metadata": {
  "kernelspec": {
   "display_name": "Python 3 (ipykernel)",
   "language": "python",
   "name": "python3"
  },
  "language_info": {
   "codemirror_mode": {
    "name": "ipython",
    "version": 3
   },
   "file_extension": ".py",
   "mimetype": "text/x-python",
   "name": "python",
   "nbconvert_exporter": "python",
   "pygments_lexer": "ipython3",
   "version": "3.11.11"
  }
 },
 "nbformat": 4,
 "nbformat_minor": 5
}
